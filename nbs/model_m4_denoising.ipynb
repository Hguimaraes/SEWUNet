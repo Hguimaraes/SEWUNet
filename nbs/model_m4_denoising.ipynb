{
 "cells": [
  {
   "cell_type": "code",
   "execution_count": 1,
   "metadata": {},
   "outputs": [],
   "source": [
    "import copy\n",
    "import json\n",
    "import numpy as np\n",
    "import matplotlib.pyplot as plt\n",
    "\n",
    "from utils import ConfigObject\n",
    "from utils import reserve_pop\n",
    "from utils import id_generator\n",
    "from utils import writer\n",
    "from utils import LibriSpeechGenerator\n",
    "\n",
    "import torch\n",
    "import torch.nn as nn\n",
    "import torch.optim as optim\n",
    "from torch.utils import data\n",
    "import torch.nn.functional as F\n",
    "\n",
    "from parts import VSConvBlock\n",
    "from parts import DownSamplingBlock\n",
    "from parts import UpSamplingBlock\n",
    "from parts import OutBlock"
   ]
  },
  {
   "cell_type": "markdown",
   "metadata": {},
   "source": [
    "## Parameters"
   ]
  },
  {
   "cell_type": "code",
   "execution_count": 2,
   "metadata": {},
   "outputs": [],
   "source": [
    "jsonConfig = {\n",
    "    \"test_platform\": False,\n",
    "    \"ds_prop\": 0.25,\n",
    "    \"sr\": 16000,\n",
    "    \"n_samples\": 65536,\n",
    "    \n",
    "    \"n_channels\": 1,\n",
    "    \"n_classes\": 1,\n",
    "    \"depth\": 5,\n",
    "    \"fsize\": 24,\n",
    "    \"moffset\": 8,\n",
    "    \n",
    "    \"batch_size\": 16,\n",
    "    \"epochs\": 25,\n",
    "    \"shuffle\": True,\n",
    "    \"num_workers\": 8,\n",
    "    \"verbose\": 100,\n",
    "\n",
    "    \"checkpoint_path\": \"../models/model_checkpoint.pt\",\n",
    "    \"model_path\": \"../models/last_model.pt\",\n",
    "\n",
    "    \"save_last_batch\": True,\n",
    "    \"writer_path\": \"../logs/\",\n",
    "    \"history_path\": \"../logs/history.json\"\n",
    "}\n",
    "\n",
    "config = ConfigObject(**jsonConfig)"
   ]
  },
  {
   "cell_type": "code",
   "execution_count": 3,
   "metadata": {},
   "outputs": [],
   "source": [
    "# Data Loaders\n",
    "_params = {\n",
    "    'batch_size': config.batch_size,\n",
    "    'shuffle': config.shuffle,\n",
    "    'num_workers': config.num_workers\n",
    "}"
   ]
  },
  {
   "cell_type": "markdown",
   "metadata": {},
   "source": [
    "## Import Data"
   ]
  },
  {
   "cell_type": "code",
   "execution_count": 4,
   "metadata": {},
   "outputs": [],
   "source": [
    "X_train = torch.load(\"../data/processed/noisy/train/x_train.pt\")\n",
    "y_train = torch.load(\"../data/processed/noisy/train/y_train.pt\")\n",
    "X_train_ae = torch.load(\"../data/processed/aewi/val/val.pt\")\n",
    "\n",
    "X_train = torch.cat([X_train, X_train_ae])\n",
    "y_train = torch.cat([y_train, X_train_ae])"
   ]
  },
  {
   "cell_type": "code",
   "execution_count": 5,
   "metadata": {},
   "outputs": [
    {
     "data": {
      "text/plain": [
       "687"
      ]
     },
     "execution_count": 5,
     "metadata": {},
     "output_type": "execute_result"
    }
   ],
   "source": [
    "import gc\n",
    "del X_train_ae\n",
    "gc.collect()"
   ]
  },
  {
   "cell_type": "code",
   "execution_count": 6,
   "metadata": {},
   "outputs": [],
   "source": [
    "X_val = torch.load(\"../data/processed/noisy/val/x_val.pt\")\n",
    "y_val = torch.load(\"../data/processed/noisy/val/y_val.pt\")"
   ]
  },
  {
   "cell_type": "code",
   "execution_count": 7,
   "metadata": {},
   "outputs": [
    {
     "data": {
      "text/plain": [
       "torch.Size([36190, 1, 65536])"
      ]
     },
     "execution_count": 7,
     "metadata": {},
     "output_type": "execute_result"
    }
   ],
   "source": [
    "X_train.shape"
   ]
  },
  {
   "cell_type": "markdown",
   "metadata": {},
   "source": [
    "## Data Generators"
   ]
  },
  {
   "cell_type": "code",
   "execution_count": 8,
   "metadata": {},
   "outputs": [],
   "source": [
    "# Data Generators\n",
    "lsg = LibriSpeechGenerator(config, X_train, y_train)\n",
    "lsg_val = LibriSpeechGenerator(config, X_val, y_val)\n",
    "\n",
    "ls_generator = data.DataLoader(lsg, **_params)\n",
    "ls_val_generator = data.DataLoader(lsg_val, **_params)"
   ]
  },
  {
   "cell_type": "markdown",
   "metadata": {},
   "source": [
    "## Model"
   ]
  },
  {
   "cell_type": "code",
   "execution_count": 9,
   "metadata": {},
   "outputs": [],
   "source": [
    "class SEWUNet(nn.Module):\n",
    "    def __init__(self, config, fd=15, fu=5):\n",
    "        \"\"\"Speech Enhancenment using Wave-U-Net\"\"\"\n",
    "        super(SEWUNet, self).__init__()\n",
    "\n",
    "        # Hyperparameters\n",
    "        self.n_channels = config.n_channels\n",
    "        self.n_classes = config.n_classes\n",
    "        self.depth = config.depth\n",
    "        self.fsize = config.fsize\n",
    "        self.moffset = config.moffset\n",
    "        self.fd = fd\n",
    "        self.fu = fu\n",
    "\n",
    "        # Generate the list of in, out channels for the encoder\n",
    "        self.enc_filters = [self.n_channels]\n",
    "        self.enc_filters += [self.fsize * i + self.moffset\n",
    "                             for i in range(1, self.depth + 1)]\n",
    "        self.n_encoder = zip(self.enc_filters, self.enc_filters[1:])\n",
    "\n",
    "        # Bottleneck block sizes\n",
    "        mid_in = self.fsize * self.depth + self.moffset\n",
    "        mid_out = self.fsize * (self.depth + 1) + self.moffset\n",
    "\n",
    "        # Generate the list of in, out channels for the decoder\n",
    "        self.out_dec = reserve_pop(self.enc_filters)\n",
    "        self.in_dec = [mid_out + self.enc_filters[-1]]\n",
    "        self.in_dec += [self.out_dec[i] + self.out_dec[i + 1]\n",
    "                        for i in range(self.depth - 1)]\n",
    "        self.n_decoder = zip(self.in_dec, self.out_dec)\n",
    "\n",
    "        # Architecture and parameters\n",
    "        self.encoder = nn.ModuleList()\n",
    "        self.decoder = nn.ModuleList()\n",
    "\n",
    "        # Build the encoder part of the U-net architecture\n",
    "        for i, (in_ch, out_ch) in enumerate(self.n_encoder):\n",
    "            self.encoder.append(DownSamplingBlock(\n",
    "                in_ch=in_ch,\n",
    "                out_ch=out_ch,\n",
    "                kernel_size=self.fd,\n",
    "                padding=self.fd // 2,\n",
    "                activation=nn.LeakyReLU(0.1))\n",
    "            )\n",
    "\n",
    "        # Bottleneck block for the U-net\n",
    "        self.mid_block = VSConvBlock(\n",
    "            in_ch=mid_in,\n",
    "            out_ch=mid_out,\n",
    "            kernel_size=self.fd,\n",
    "            padding=self.fd // 2,\n",
    "            activation=nn.LeakyReLU(0.1))\n",
    "\n",
    "        # Build the decoder part of the U-net architecture\n",
    "        for in_ch, out_ch in self.n_decoder:\n",
    "            self.decoder.append(UpSamplingBlock(\n",
    "                in_ch=in_ch,\n",
    "                out_ch=out_ch,\n",
    "                kernel_size=self.fu,\n",
    "                padding=self.fu // 2,\n",
    "                activation=nn.LeakyReLU(0.1))\n",
    "            )\n",
    "\n",
    "        # Output block\n",
    "        out_ch = self.out_dec[-1] + 1\n",
    "        self.out_block = OutBlock(\n",
    "            in_ch=out_ch,\n",
    "            out_ch=self.n_classes,\n",
    "            activation=nn.Tanh()\n",
    "        )\n",
    "\n",
    "    def forward(self, x):\n",
    "        \"\"\"\"\"\"\n",
    "        enc = []\n",
    "        net_in = copy.copy(x)\n",
    "\n",
    "        for i in range(self.depth):\n",
    "            x, xi = self.encoder[i](x)\n",
    "            enc.append(xi)\n",
    "\n",
    "        x = self.mid_block(x)\n",
    "\n",
    "        for i in range(self.depth):\n",
    "            x = self.decoder[i](x, enc.pop())\n",
    "\n",
    "        x = self.out_block(x, net_in)\n",
    "\n",
    "        return x"
   ]
  },
  {
   "cell_type": "markdown",
   "metadata": {},
   "source": [
    "## Trainer"
   ]
  },
  {
   "cell_type": "code",
   "execution_count": 10,
   "metadata": {},
   "outputs": [],
   "source": [
    "# Training parameters\n",
    "device = torch.device('cuda' if torch.cuda.is_available() else 'cpu')\n",
    "history = {'loss': [], 'SNR': [], 'val_loss': [], 'val_SNR': []}"
   ]
  },
  {
   "cell_type": "code",
   "execution_count": 11,
   "metadata": {},
   "outputs": [],
   "source": [
    "model = SEWUNet(config)"
   ]
  },
  {
   "cell_type": "code",
   "execution_count": 12,
   "metadata": {},
   "outputs": [],
   "source": [
    "def CustomMetric():\n",
    "    \"\"\"Calculate the SNR of X and Y\"\"\"\n",
    "    def SNR(X, Y):\n",
    "        n = X.shape[2]\n",
    "        return torch.mean(10 * torch.log10(\n",
    "            (torch.norm(Y, dim=2)**2 / n) /\n",
    "            (torch.norm(X - Y, dim=2)**2 / n)\n",
    "        ))\n",
    "    return SNR"
   ]
  },
  {
   "cell_type": "code",
   "execution_count": 13,
   "metadata": {},
   "outputs": [
    {
     "name": "stdout",
     "output_type": "stream",
     "text": [
      "SNR (Validation): 10.05069351196289\n"
     ]
    }
   ],
   "source": [
    "# Build optimizer\n",
    "optimizer = optim.Adam(\n",
    "    model.parameters(),\n",
    "    lr=3e-4,\n",
    "    weight_decay=1e-6,\n",
    "    betas=(0.9, 0.999))\n",
    "\n",
    "# lr_scheduler = torch.optim.lr_scheduler(optimizer)\n",
    "lr_scheduler = optim.lr_scheduler.ReduceLROnPlateau(optimizer, 'min', patience=1)\n",
    "\n",
    "# Loss and metric\n",
    "m_loss = nn.L1Loss()\n",
    "m_snr = CustomMetric()\n",
    "\n",
    "# Print validation metric before trainer\n",
    "print(\"SNR (Validation): {}\".format(m_snr(lsg_val.X, lsg_val.y).item()))"
   ]
  },
  {
   "cell_type": "code",
   "execution_count": 14,
   "metadata": {},
   "outputs": [],
   "source": [
    "# Copy model to device\n",
    "model = model.to(device)"
   ]
  },
  {
   "cell_type": "code",
   "execution_count": 15,
   "metadata": {},
   "outputs": [
    {
     "data": {
      "text/plain": [
       "<All keys matched successfully>"
      ]
     },
     "execution_count": 15,
     "metadata": {},
     "output_type": "execute_result"
    }
   ],
   "source": [
    "checkpoint = torch.load('ae_checkpoint.pt')\n",
    "model.load_state_dict(checkpoint['model_state_dict'])\n",
    "# optimizer.load_state_dict(checkpoint['optimizer_state_dict'])"
   ]
  },
  {
   "cell_type": "code",
   "execution_count": 16,
   "metadata": {},
   "outputs": [
    {
     "data": {
      "text/plain": [
       "1139372"
      ]
     },
     "execution_count": 16,
     "metadata": {},
     "output_type": "execute_result"
    }
   ],
   "source": [
    "# Calculate the number of trainable parameters in the model\n",
    "model_parameters = filter(lambda p: p.requires_grad, model.parameters())\n",
    "sum([np.prod(p.size()) for p in model_parameters])"
   ]
  },
  {
   "cell_type": "code",
   "execution_count": 17,
   "metadata": {},
   "outputs": [],
   "source": [
    "# Function to display trainning metrics\n",
    "def _display_metrics(epoch, it, steps, loss, metric):\n",
    "    print(\"Epoch [{:02d}/{:02d}]\".format(\n",
    "        epoch + 1, config.epochs), end=\", \")\n",
    "\n",
    "    print(\"Step [{:03d}/{:03d}]\".format(\n",
    "        it + 1, steps), end=\", \")\n",
    "\n",
    "    print(\"Loss: {}, SNR: {}\".format(\n",
    "        loss, metric))"
   ]
  },
  {
   "cell_type": "code",
   "execution_count": 18,
   "metadata": {
    "scrolled": true
   },
   "outputs": [
    {
     "name": "stdout",
     "output_type": "stream",
     "text": [
      "Epoch [01/25], Step [100/2262], Loss: 0.010073499754071236, SNR: 13.109391212463379\n",
      "Epoch [01/25], Step [200/2262], Loss: 0.00986173003911972, SNR: 12.67269515991211\n",
      "Epoch [01/25], Step [300/2262], Loss: 0.022691166028380394, SNR: 11.14752197265625\n",
      "Epoch [01/25], Step [400/2262], Loss: 0.009030519053339958, SNR: 12.903619766235352\n",
      "Epoch [01/25], Step [500/2262], Loss: 0.010070573538541794, SNR: 12.481866836547852\n",
      "Epoch [01/25], Step [600/2262], Loss: 0.010999556630849838, SNR: 12.59660530090332\n",
      "Epoch [01/25], Step [700/2262], Loss: 0.010799899697303772, SNR: 11.850373268127441\n",
      "Epoch [01/25], Step [800/2262], Loss: 0.00789535604417324, SNR: 12.189760208129883\n",
      "Epoch [01/25], Step [900/2262], Loss: 0.010708009824156761, SNR: 10.975275993347168\n",
      "Epoch [01/25], Step [1000/2262], Loss: 0.010711289010941982, SNR: 12.268896102905273\n",
      "Epoch [01/25], Step [1100/2262], Loss: 0.007771109230816364, SNR: 13.66387939453125\n",
      "Epoch [01/25], Step [1200/2262], Loss: 0.008450979366898537, SNR: 14.233579635620117\n",
      "Epoch [01/25], Step [1300/2262], Loss: 0.009007357060909271, SNR: 13.378746032714844\n",
      "Epoch [01/25], Step [1400/2262], Loss: 0.009176718071103096, SNR: 12.778648376464844\n",
      "Epoch [01/25], Step [1500/2262], Loss: 0.008305570110678673, SNR: 13.207810401916504\n",
      "Epoch [01/25], Step [1600/2262], Loss: 0.008684560656547546, SNR: 13.442680358886719\n",
      "Epoch [01/25], Step [1700/2262], Loss: 0.008519341237843037, SNR: 12.894874572753906\n",
      "Epoch [01/25], Step [1800/2262], Loss: 0.008625730872154236, SNR: 13.90758991241455\n",
      "Epoch [01/25], Step [1900/2262], Loss: 0.007224850356578827, SNR: 14.179348945617676\n",
      "Epoch [01/25], Step [2000/2262], Loss: 0.009124738164246082, SNR: 13.857582092285156\n",
      "Epoch [01/25], Step [2100/2262], Loss: 0.007316255010664463, SNR: 13.886982917785645\n",
      "Epoch [01/25], Step [2200/2262], Loss: 0.009077521041035652, SNR: 15.769258499145508\n",
      ".:. Training metrics = Loss: 0.00978656037458154, SNR: 13.071747884199612\n",
      ".:. Validation metrics = Loss: 0.008869893762315787, SNR: 12.89269795628396\n",
      "Epoch [02/25], Step [100/2262], Loss: 0.007919903844594955, SNR: 13.751016616821289\n",
      "Epoch [02/25], Step [200/2262], Loss: 0.010490397922694683, SNR: 13.573827743530273\n",
      "Epoch [02/25], Step [300/2262], Loss: 0.006669568829238415, SNR: 14.913064956665039\n",
      "Epoch [02/25], Step [400/2262], Loss: 0.007484549656510353, SNR: 15.042343139648438\n",
      "Epoch [02/25], Step [500/2262], Loss: 0.007495208643376827, SNR: 14.72461223602295\n",
      "Epoch [02/25], Step [600/2262], Loss: 0.010688416659832, SNR: 12.346633911132812\n",
      "Epoch [02/25], Step [700/2262], Loss: 0.006943422835320234, SNR: 14.674175262451172\n",
      "Epoch [02/25], Step [800/2262], Loss: 0.009210568852722645, SNR: 15.852413177490234\n",
      "Epoch [02/25], Step [900/2262], Loss: 0.010530245490372181, SNR: 13.372151374816895\n",
      "Epoch [02/25], Step [1000/2262], Loss: 0.006741873454302549, SNR: 15.670344352722168\n",
      "Epoch [02/25], Step [1100/2262], Loss: 0.009650754742324352, SNR: 14.493118286132812\n",
      "Epoch [02/25], Step [1200/2262], Loss: 0.009648374281823635, SNR: 12.437068939208984\n",
      "Epoch [02/25], Step [1300/2262], Loss: 0.006141934543848038, SNR: 17.115571975708008\n",
      "Epoch [02/25], Step [1400/2262], Loss: 0.006589265074580908, SNR: 13.687318801879883\n",
      "Epoch [02/25], Step [1500/2262], Loss: 0.009136456996202469, SNR: 13.134963989257812\n",
      "Epoch [02/25], Step [1600/2262], Loss: 0.006428432650864124, SNR: 15.115941047668457\n",
      "Epoch [02/25], Step [1700/2262], Loss: 0.006272093392908573, SNR: 17.367874145507812\n",
      "Epoch [02/25], Step [1800/2262], Loss: 0.007380381226539612, SNR: 14.258049011230469\n",
      "Epoch [02/25], Step [1900/2262], Loss: 0.006193941924721003, SNR: 14.464046478271484\n",
      "Epoch [02/25], Step [2000/2262], Loss: 0.006743385456502438, SNR: 12.832258224487305\n",
      "Epoch [02/25], Step [2100/2262], Loss: 0.008699901401996613, SNR: 13.745115280151367\n",
      "Epoch [02/25], Step [2200/2262], Loss: 0.006492665037512779, SNR: 16.933074951171875\n",
      ".:. Training metrics = Loss: 0.007930264896274429, SNR: 14.670479064028576\n",
      ".:. Validation metrics = Loss: 0.00812455985588715, SNR: 13.572176335003602\n",
      "Epoch [03/25], Step [100/2262], Loss: 0.009153474122285843, SNR: 13.859757423400879\n",
      "Epoch [03/25], Step [200/2262], Loss: 0.007158578839153051, SNR: 14.568731307983398\n",
      "Epoch [03/25], Step [300/2262], Loss: 0.0044287219643592834, SNR: 16.394634246826172\n",
      "Epoch [03/25], Step [400/2262], Loss: 0.007673048414289951, SNR: 15.953473091125488\n",
      "Epoch [03/25], Step [500/2262], Loss: 0.0066310022957623005, SNR: 15.74252700805664\n",
      "Epoch [03/25], Step [600/2262], Loss: 0.0056144120171666145, SNR: 16.183557510375977\n",
      "Epoch [03/25], Step [700/2262], Loss: 0.009395863860845566, SNR: 15.59279727935791\n",
      "Epoch [03/25], Step [800/2262], Loss: 0.007116382941603661, SNR: 16.360013961791992\n",
      "Epoch [03/25], Step [900/2262], Loss: 0.008486486971378326, SNR: 13.988771438598633\n",
      "Epoch [03/25], Step [1000/2262], Loss: 0.004825095180422068, SNR: 18.674259185791016\n",
      "Epoch [03/25], Step [1100/2262], Loss: 0.007076821755617857, SNR: 15.157537460327148\n",
      "Epoch [03/25], Step [1200/2262], Loss: 0.008754383772611618, SNR: 15.374192237854004\n",
      "Epoch [03/25], Step [1300/2262], Loss: 0.007323507219552994, SNR: 14.59505844116211\n",
      "Epoch [03/25], Step [1400/2262], Loss: 0.008754635229706764, SNR: 13.967897415161133\n",
      "Epoch [03/25], Step [1500/2262], Loss: 0.009345883503556252, SNR: 14.666675567626953\n",
      "Epoch [03/25], Step [1600/2262], Loss: 0.00894269160926342, SNR: 17.196754455566406\n",
      "Epoch [03/25], Step [1700/2262], Loss: 0.006898073945194483, SNR: 13.71931266784668\n",
      "Epoch [03/25], Step [1800/2262], Loss: 0.006468895357102156, SNR: 17.295440673828125\n",
      "Epoch [03/25], Step [1900/2262], Loss: 0.005060246214270592, SNR: 17.54500961303711\n",
      "Epoch [03/25], Step [2000/2262], Loss: 0.007007650099694729, SNR: 15.679403305053711\n",
      "Epoch [03/25], Step [2100/2262], Loss: 0.006665017455816269, SNR: 14.827253341674805\n",
      "Epoch [03/25], Step [2200/2262], Loss: 0.007062126882374287, SNR: 16.673036575317383\n",
      ".:. Training metrics = Loss: 0.007306603755380904, SNR: 15.335271232712497\n",
      ".:. Validation metrics = Loss: 0.007577820623274306, SNR: 14.109407858254574\n",
      "Epoch [04/25], Step [100/2262], Loss: 0.008351856842637062, SNR: 15.784431457519531\n",
      "Epoch [04/25], Step [200/2262], Loss: 0.008043434470891953, SNR: 14.683870315551758\n",
      "Epoch [04/25], Step [300/2262], Loss: 0.008311426267027855, SNR: 14.14181137084961\n",
      "Epoch [04/25], Step [400/2262], Loss: 0.008374117314815521, SNR: 14.897605895996094\n",
      "Epoch [04/25], Step [500/2262], Loss: 0.007577058859169483, SNR: 16.254432678222656\n",
      "Epoch [04/25], Step [600/2262], Loss: 0.006322737783193588, SNR: 13.746682167053223\n",
      "Epoch [04/25], Step [700/2262], Loss: 0.0055626449175179005, SNR: 16.652782440185547\n",
      "Epoch [04/25], Step [800/2262], Loss: 0.006455357186496258, SNR: 15.813163757324219\n",
      "Epoch [04/25], Step [900/2262], Loss: 0.00860375352203846, SNR: 15.162487983703613\n",
      "Epoch [04/25], Step [1000/2262], Loss: 0.007347201928496361, SNR: 14.342081069946289\n",
      "Epoch [04/25], Step [1100/2262], Loss: 0.006519203074276447, SNR: 16.441219329833984\n",
      "Epoch [04/25], Step [1200/2262], Loss: 0.00807565450668335, SNR: 15.213083267211914\n",
      "Epoch [04/25], Step [1300/2262], Loss: 0.009517417289316654, SNR: 14.10491943359375\n",
      "Epoch [04/25], Step [1400/2262], Loss: 0.0046396683901548386, SNR: 18.149890899658203\n",
      "Epoch [04/25], Step [1500/2262], Loss: 0.008173169568181038, SNR: 16.9722900390625\n",
      "Epoch [04/25], Step [1600/2262], Loss: 0.004918468650430441, SNR: 18.104568481445312\n",
      "Epoch [04/25], Step [1700/2262], Loss: 0.005249431356787682, SNR: 16.438766479492188\n",
      "Epoch [04/25], Step [1800/2262], Loss: 0.0078347809612751, SNR: 14.958256721496582\n",
      "Epoch [04/25], Step [1900/2262], Loss: 0.006636566482484341, SNR: 16.539989471435547\n",
      "Epoch [04/25], Step [2000/2262], Loss: 0.006946241483092308, SNR: 15.079849243164062\n",
      "Epoch [04/25], Step [2100/2262], Loss: 0.005348621867597103, SNR: 17.760597229003906\n",
      "Epoch [04/25], Step [2200/2262], Loss: 0.007639991585165262, SNR: 14.970029830932617\n",
      ".:. Training metrics = Loss: 0.0069759837818301395, SNR: 15.741061633685307\n",
      ".:. Validation metrics = Loss: 0.007579064631183858, SNR: 14.116684856379482\n",
      "Epoch [05/25], Step [100/2262], Loss: 0.008659256622195244, SNR: 14.637697219848633\n",
      "Epoch [05/25], Step [200/2262], Loss: 0.00668312655761838, SNR: 16.359943389892578\n"
     ]
    },
    {
     "name": "stdout",
     "output_type": "stream",
     "text": [
      "Epoch [05/25], Step [300/2262], Loss: 0.006699901074171066, SNR: 16.129615783691406\n",
      "Epoch [05/25], Step [400/2262], Loss: 0.005522642284631729, SNR: 18.157299041748047\n",
      "Epoch [05/25], Step [500/2262], Loss: 0.007050966843962669, SNR: 15.01240348815918\n",
      "Epoch [05/25], Step [600/2262], Loss: 0.005889163352549076, SNR: 17.474308013916016\n",
      "Epoch [05/25], Step [700/2262], Loss: 0.00830416101962328, SNR: 15.535910606384277\n",
      "Epoch [05/25], Step [800/2262], Loss: 0.008572682738304138, SNR: 13.882553100585938\n",
      "Epoch [05/25], Step [900/2262], Loss: 0.006524287164211273, SNR: 15.850003242492676\n",
      "Epoch [05/25], Step [1000/2262], Loss: 0.00660133920609951, SNR: 14.624847412109375\n",
      "Epoch [05/25], Step [1100/2262], Loss: 0.005637154448777437, SNR: 16.440654754638672\n",
      "Epoch [05/25], Step [1200/2262], Loss: 0.006839856971055269, SNR: 18.389530181884766\n",
      "Epoch [05/25], Step [1300/2262], Loss: 0.005625124555081129, SNR: 16.06655502319336\n",
      "Epoch [05/25], Step [1400/2262], Loss: 0.0059187086299061775, SNR: 18.453567504882812\n",
      "Epoch [05/25], Step [1500/2262], Loss: 0.01066408958286047, SNR: 16.84343719482422\n",
      "Epoch [05/25], Step [1600/2262], Loss: 0.005628293380141258, SNR: 15.956040382385254\n",
      "Epoch [05/25], Step [1700/2262], Loss: 0.005872227717190981, SNR: 17.80747413635254\n",
      "Epoch [05/25], Step [1800/2262], Loss: 0.00648969691246748, SNR: 18.322307586669922\n",
      "Epoch [05/25], Step [1900/2262], Loss: 0.005222827196121216, SNR: 17.176639556884766\n",
      "Epoch [05/25], Step [2000/2262], Loss: 0.008477035909891129, SNR: 15.554581642150879\n",
      "Epoch [05/25], Step [2100/2262], Loss: 0.00605923542752862, SNR: 15.876927375793457\n",
      "Epoch [05/25], Step [2200/2262], Loss: 0.00532239954918623, SNR: 16.81413459777832\n",
      ".:. Training metrics = Loss: 0.006754045417822092, SNR: 16.03688529394845\n",
      ".:. Validation metrics = Loss: 0.007404474033394036, SNR: 14.286997372370742\n",
      "Epoch [06/25], Step [100/2262], Loss: 0.007293363101780415, SNR: 14.36677360534668\n",
      "Epoch [06/25], Step [200/2262], Loss: 0.008383107371628284, SNR: 13.416072845458984\n",
      "Epoch [06/25], Step [300/2262], Loss: 0.006566104479134083, SNR: 14.754732131958008\n",
      "Epoch [06/25], Step [400/2262], Loss: 0.009570790454745293, SNR: 15.046638488769531\n",
      "Epoch [06/25], Step [500/2262], Loss: 0.006108570843935013, SNR: 15.227469444274902\n",
      "Epoch [06/25], Step [600/2262], Loss: 0.006108494009822607, SNR: 15.548684120178223\n",
      "Epoch [06/25], Step [700/2262], Loss: 0.006403283216059208, SNR: 17.349489212036133\n",
      "Epoch [06/25], Step [800/2262], Loss: 0.0057721808552742004, SNR: 18.178638458251953\n",
      "Epoch [06/25], Step [900/2262], Loss: 0.0049180155619978905, SNR: 17.224212646484375\n",
      "Epoch [06/25], Step [1000/2262], Loss: 0.008569232188165188, SNR: 14.926514625549316\n",
      "Epoch [06/25], Step [1100/2262], Loss: 0.004894803278148174, SNR: 17.46816062927246\n",
      "Epoch [06/25], Step [1200/2262], Loss: 0.008998939767479897, SNR: 15.582226753234863\n",
      "Epoch [06/25], Step [1300/2262], Loss: 0.008703131228685379, SNR: 17.059749603271484\n",
      "Epoch [06/25], Step [1400/2262], Loss: 0.007056599948555231, SNR: 16.016334533691406\n",
      "Epoch [06/25], Step [1500/2262], Loss: 0.004989259410649538, SNR: 16.977630615234375\n",
      "Epoch [06/25], Step [1600/2262], Loss: 0.006980043835937977, SNR: 15.84411334991455\n",
      "Epoch [06/25], Step [1700/2262], Loss: 0.006246422417461872, SNR: 15.907217025756836\n",
      "Epoch [06/25], Step [1800/2262], Loss: 0.00893666036427021, SNR: 16.051876068115234\n",
      "Epoch [06/25], Step [1900/2262], Loss: 0.0053093163296580315, SNR: 16.44692611694336\n",
      "Epoch [06/25], Step [2000/2262], Loss: 0.005624862387776375, SNR: 16.164676666259766\n",
      "Epoch [06/25], Step [2100/2262], Loss: 0.006246217526495457, SNR: 16.250154495239258\n",
      "Epoch [06/25], Step [2200/2262], Loss: 0.007210295647382736, SNR: 14.68736743927002\n",
      ".:. Training metrics = Loss: 0.0066099472776257094, SNR: 16.24981047753373\n",
      ".:. Validation metrics = Loss: 0.007201483790806813, SNR: 14.492821801121794\n",
      "Epoch [07/25], Step [100/2262], Loss: 0.011053529568016529, SNR: 13.985494613647461\n",
      "Epoch [07/25], Step [200/2262], Loss: 0.00594004150480032, SNR: 17.641117095947266\n",
      "Epoch [07/25], Step [300/2262], Loss: 0.006986851803958416, SNR: 18.910263061523438\n",
      "Epoch [07/25], Step [400/2262], Loss: 0.008327345363795757, SNR: 16.48338508605957\n",
      "Epoch [07/25], Step [500/2262], Loss: 0.006131255533546209, SNR: 17.056541442871094\n",
      "Epoch [07/25], Step [600/2262], Loss: 0.006487706676125526, SNR: 15.918859481811523\n",
      "Epoch [07/25], Step [700/2262], Loss: 0.0048006074503064156, SNR: 18.897329330444336\n",
      "Epoch [07/25], Step [800/2262], Loss: 0.005163492169231176, SNR: 16.63207244873047\n",
      "Epoch [07/25], Step [900/2262], Loss: 0.00971660204231739, SNR: 13.273681640625\n",
      "Epoch [07/25], Step [1000/2262], Loss: 0.005211669020354748, SNR: 18.36170196533203\n",
      "Epoch [07/25], Step [1100/2262], Loss: 0.0065259006805717945, SNR: 14.892087936401367\n",
      "Epoch [07/25], Step [1200/2262], Loss: 0.005600328557193279, SNR: 16.929439544677734\n",
      "Epoch [07/25], Step [1300/2262], Loss: 0.007690745871514082, SNR: 14.906782150268555\n",
      "Epoch [07/25], Step [1400/2262], Loss: 0.006820401176810265, SNR: 17.016990661621094\n",
      "Epoch [07/25], Step [1500/2262], Loss: 0.006229661405086517, SNR: 17.05227279663086\n",
      "Epoch [07/25], Step [1600/2262], Loss: 0.00484093464910984, SNR: 17.89923667907715\n",
      "Epoch [07/25], Step [1700/2262], Loss: 0.007882237434387207, SNR: 14.511281967163086\n",
      "Epoch [07/25], Step [1800/2262], Loss: 0.005065797362476587, SNR: 15.286334991455078\n",
      "Epoch [07/25], Step [1900/2262], Loss: 0.006383756175637245, SNR: 15.857288360595703\n",
      "Epoch [07/25], Step [2000/2262], Loss: 0.006192835047841072, SNR: 16.530372619628906\n",
      "Epoch [07/25], Step [2100/2262], Loss: 0.0040842099115252495, SNR: 19.160133361816406\n",
      "Epoch [07/25], Step [2200/2262], Loss: 0.005177336744964123, SNR: 16.014020919799805\n",
      ".:. Training metrics = Loss: 0.006490125692531603, SNR: 16.419354554782686\n",
      ".:. Validation metrics = Loss: 0.0072333040167876835, SNR: 14.547515645918788\n",
      "Epoch [08/25], Step [100/2262], Loss: 0.005908983759582043, SNR: 17.29092025756836\n",
      "Epoch [08/25], Step [200/2262], Loss: 0.0076350015588104725, SNR: 15.688146591186523\n",
      "Epoch [08/25], Step [300/2262], Loss: 0.005295534152537584, SNR: 15.822139739990234\n",
      "Epoch [08/25], Step [400/2262], Loss: 0.011910341680049896, SNR: 14.34636116027832\n",
      "Epoch [08/25], Step [500/2262], Loss: 0.005788000766187906, SNR: 17.66884422302246\n",
      "Epoch [08/25], Step [600/2262], Loss: 0.006681780330836773, SNR: 16.663978576660156\n",
      "Epoch [08/25], Step [700/2262], Loss: 0.004796529188752174, SNR: 18.554697036743164\n",
      "Epoch [08/25], Step [800/2262], Loss: 0.006620417349040508, SNR: 16.908336639404297\n",
      "Epoch [08/25], Step [900/2262], Loss: 0.006499613169580698, SNR: 15.401015281677246\n",
      "Epoch [08/25], Step [1000/2262], Loss: 0.005277812946587801, SNR: 18.13941764831543\n",
      "Epoch [08/25], Step [1100/2262], Loss: 0.00572029035538435, SNR: 17.997215270996094\n",
      "Epoch [08/25], Step [1200/2262], Loss: 0.007422030903398991, SNR: 16.141586303710938\n",
      "Epoch [08/25], Step [1300/2262], Loss: 0.006190164014697075, SNR: 17.89649200439453\n",
      "Epoch [08/25], Step [1400/2262], Loss: 0.006539320573210716, SNR: 15.05500602722168\n",
      "Epoch [08/25], Step [1500/2262], Loss: 0.004792108666151762, SNR: 16.95030975341797\n",
      "Epoch [08/25], Step [1600/2262], Loss: 0.006170075386762619, SNR: 15.377100944519043\n",
      "Epoch [08/25], Step [1700/2262], Loss: 0.00746874138712883, SNR: 15.881950378417969\n",
      "Epoch [08/25], Step [1800/2262], Loss: 0.004934178665280342, SNR: 19.258819580078125\n",
      "Epoch [08/25], Step [1900/2262], Loss: 0.006958766840398312, SNR: 15.621861457824707\n",
      "Epoch [08/25], Step [2000/2262], Loss: 0.0073806168511509895, SNR: 17.26884651184082\n",
      "Epoch [08/25], Step [2100/2262], Loss: 0.00630048057064414, SNR: 14.986444473266602\n",
      "Epoch [08/25], Step [2200/2262], Loss: 0.006361614912748337, SNR: 17.798091888427734\n",
      ".:. Training metrics = Loss: 0.0063775414000845606, SNR: 16.609433693107107\n",
      ".:. Validation metrics = Loss: 0.007110358589284242, SNR: 14.67380677490315\n",
      "Epoch [09/25], Step [100/2262], Loss: 0.005738301668316126, SNR: 14.544450759887695\n",
      "Epoch [09/25], Step [200/2262], Loss: 0.005381168331950903, SNR: 18.128448486328125\n",
      "Epoch [09/25], Step [300/2262], Loss: 0.005411696620285511, SNR: 18.018035888671875\n",
      "Epoch [09/25], Step [400/2262], Loss: 0.007174930535256863, SNR: 17.216033935546875\n",
      "Epoch [09/25], Step [500/2262], Loss: 0.007254426367580891, SNR: 15.545431137084961\n"
     ]
    },
    {
     "name": "stdout",
     "output_type": "stream",
     "text": [
      "Epoch [09/25], Step [600/2262], Loss: 0.007341567426919937, SNR: 16.994487762451172\n",
      "Epoch [09/25], Step [700/2262], Loss: 0.00582544133067131, SNR: 17.071685791015625\n",
      "Epoch [09/25], Step [800/2262], Loss: 0.0060255806893110275, SNR: 15.844731330871582\n",
      "Epoch [09/25], Step [900/2262], Loss: 0.005589403212070465, SNR: 18.758686065673828\n",
      "Epoch [09/25], Step [1000/2262], Loss: 0.006331928074359894, SNR: 15.54908275604248\n",
      "Epoch [09/25], Step [1100/2262], Loss: 0.007758882828056812, SNR: 17.465368270874023\n",
      "Epoch [09/25], Step [1200/2262], Loss: 0.006142079830169678, SNR: 16.317689895629883\n",
      "Epoch [09/25], Step [1300/2262], Loss: 0.006093543488532305, SNR: 15.429410934448242\n",
      "Epoch [09/25], Step [1400/2262], Loss: 0.0050511229783296585, SNR: 17.637983322143555\n",
      "Epoch [09/25], Step [1500/2262], Loss: 0.007165201939642429, SNR: 14.48163890838623\n",
      "Epoch [09/25], Step [1600/2262], Loss: 0.004602330271154642, SNR: 19.954710006713867\n",
      "Epoch [09/25], Step [1700/2262], Loss: 0.00665480550378561, SNR: 15.631536483764648\n",
      "Epoch [09/25], Step [1800/2262], Loss: 0.004849021323025227, SNR: 17.856611251831055\n",
      "Epoch [09/25], Step [1900/2262], Loss: 0.005328081082552671, SNR: 17.363693237304688\n",
      "Epoch [09/25], Step [2000/2262], Loss: 0.006425574421882629, SNR: 15.69243049621582\n",
      "Epoch [09/25], Step [2100/2262], Loss: 0.005641341209411621, SNR: 17.519033432006836\n",
      "Epoch [09/25], Step [2200/2262], Loss: 0.00559263676404953, SNR: 14.889580726623535\n",
      ".:. Training metrics = Loss: 0.006295388734931114, SNR: 16.7471682162468\n",
      ".:. Validation metrics = Loss: 0.007039854512371357, SNR: 14.75227428623937\n",
      "Epoch [10/25], Step [100/2262], Loss: 0.006901109591126442, SNR: 15.550359725952148\n",
      "Epoch [10/25], Step [200/2262], Loss: 0.0054329209960997105, SNR: 17.920257568359375\n",
      "Epoch [10/25], Step [300/2262], Loss: 0.006023022346198559, SNR: 19.09250831604004\n",
      "Epoch [10/25], Step [400/2262], Loss: 0.005410779733210802, SNR: 18.83765411376953\n",
      "Epoch [10/25], Step [500/2262], Loss: 0.006256444379687309, SNR: 15.661651611328125\n",
      "Epoch [10/25], Step [600/2262], Loss: 0.006710279732942581, SNR: 15.074363708496094\n",
      "Epoch [10/25], Step [700/2262], Loss: 0.006505854427814484, SNR: 16.803903579711914\n",
      "Epoch [10/25], Step [800/2262], Loss: 0.006262597162276506, SNR: 15.301568031311035\n",
      "Epoch [10/25], Step [900/2262], Loss: 0.005818103905767202, SNR: 18.690658569335938\n",
      "Epoch [10/25], Step [1000/2262], Loss: 0.008249959908425808, SNR: 14.560064315795898\n",
      "Epoch [10/25], Step [1100/2262], Loss: 0.0066916970536112785, SNR: 15.269430160522461\n",
      "Epoch [10/25], Step [1200/2262], Loss: 0.006082400679588318, SNR: 16.16710662841797\n",
      "Epoch [10/25], Step [1300/2262], Loss: 0.006123943254351616, SNR: 15.599920272827148\n",
      "Epoch [10/25], Step [1400/2262], Loss: 0.006307919509708881, SNR: 18.400959014892578\n",
      "Epoch [10/25], Step [1500/2262], Loss: 0.007674063090234995, SNR: 16.7757511138916\n",
      "Epoch [10/25], Step [1600/2262], Loss: 0.008509606122970581, SNR: 15.79499626159668\n",
      "Epoch [10/25], Step [1700/2262], Loss: 0.00758736114948988, SNR: 15.034618377685547\n",
      "Epoch [10/25], Step [1800/2262], Loss: 0.005573006346821785, SNR: 17.261810302734375\n",
      "Epoch [10/25], Step [1900/2262], Loss: 0.006490339525043964, SNR: 16.449764251708984\n",
      "Epoch [10/25], Step [2000/2262], Loss: 0.004831066355109215, SNR: 17.320804595947266\n",
      "Epoch [10/25], Step [2100/2262], Loss: 0.005630091764032841, SNR: 17.424875259399414\n",
      "Epoch [10/25], Step [2200/2262], Loss: 0.0047347755171358585, SNR: 17.402538299560547\n",
      ".:. Training metrics = Loss: 0.006219356451991613, SNR: 16.88760521997566\n",
      ".:. Validation metrics = Loss: 0.006907636729551588, SNR: 14.877167688605333\n",
      "Epoch [11/25], Step [100/2262], Loss: 0.007852159440517426, SNR: 15.113142013549805\n",
      "Epoch [11/25], Step [200/2262], Loss: 0.006462867371737957, SNR: 16.947498321533203\n",
      "Epoch [11/25], Step [300/2262], Loss: 0.00529654324054718, SNR: 18.55035400390625\n",
      "Epoch [11/25], Step [400/2262], Loss: 0.0062805102206766605, SNR: 16.824893951416016\n",
      "Epoch [11/25], Step [500/2262], Loss: 0.006497148424386978, SNR: 16.136009216308594\n",
      "Epoch [11/25], Step [600/2262], Loss: 0.011699394322931767, SNR: 13.40310287475586\n",
      "Epoch [11/25], Step [700/2262], Loss: 0.007709586061537266, SNR: 15.724493026733398\n",
      "Epoch [11/25], Step [800/2262], Loss: 0.006207563448697329, SNR: 16.112442016601562\n",
      "Epoch [11/25], Step [900/2262], Loss: 0.0077635738998651505, SNR: 17.360637664794922\n",
      "Epoch [11/25], Step [1000/2262], Loss: 0.006378149148076773, SNR: 15.551250457763672\n",
      "Epoch [11/25], Step [1100/2262], Loss: 0.0062285917811095715, SNR: 16.38193130493164\n",
      "Epoch [11/25], Step [1200/2262], Loss: 0.005564326420426369, SNR: 17.285720825195312\n",
      "Epoch [11/25], Step [1300/2262], Loss: 0.008733823895454407, SNR: 15.703727722167969\n",
      "Epoch [11/25], Step [1400/2262], Loss: 0.006881866604089737, SNR: 15.835653305053711\n",
      "Epoch [11/25], Step [1500/2262], Loss: 0.006281668320298195, SNR: 17.113853454589844\n",
      "Epoch [11/25], Step [1600/2262], Loss: 0.006902859080582857, SNR: 16.377439498901367\n",
      "Epoch [11/25], Step [1700/2262], Loss: 0.006485768593847752, SNR: 15.100834846496582\n",
      "Epoch [11/25], Step [1800/2262], Loss: 0.00574534572660923, SNR: 17.49818992614746\n",
      "Epoch [11/25], Step [1900/2262], Loss: 0.006126082502305508, SNR: 16.97172737121582\n",
      "Epoch [11/25], Step [2000/2262], Loss: 0.006388339214026928, SNR: 16.387348175048828\n",
      "Epoch [11/25], Step [2100/2262], Loss: 0.004557314328849316, SNR: 19.502687454223633\n",
      "Epoch [11/25], Step [2200/2262], Loss: 0.006493058521300554, SNR: 18.79006004333496\n",
      ".:. Training metrics = Loss: 0.006160084980340022, SNR: 16.98991347189337\n",
      ".:. Validation metrics = Loss: 0.00684167078618109, SNR: 14.954311671001008\n",
      "Epoch [12/25], Step [100/2262], Loss: 0.0068798307329416275, SNR: 14.093744277954102\n",
      "Epoch [12/25], Step [200/2262], Loss: 0.004461349919438362, SNR: 18.191085815429688\n",
      "Epoch [12/25], Step [300/2262], Loss: 0.0050962637178599834, SNR: 18.142892837524414\n",
      "Epoch [12/25], Step [400/2262], Loss: 0.007965873926877975, SNR: 15.16494369506836\n",
      "Epoch [12/25], Step [500/2262], Loss: 0.007355164736509323, SNR: 14.437010765075684\n",
      "Epoch [12/25], Step [600/2262], Loss: 0.006660222075879574, SNR: 14.968550682067871\n",
      "Epoch [12/25], Step [700/2262], Loss: 0.0052226269617676735, SNR: 17.471561431884766\n",
      "Epoch [12/25], Step [800/2262], Loss: 0.008367771282792091, SNR: 17.67903709411621\n",
      "Epoch [12/25], Step [900/2262], Loss: 0.005360843148082495, SNR: 15.92626953125\n",
      "Epoch [12/25], Step [1000/2262], Loss: 0.005745262838900089, SNR: 17.238143920898438\n",
      "Epoch [12/25], Step [1100/2262], Loss: 0.007865987718105316, SNR: 16.75681495666504\n",
      "Epoch [12/25], Step [1200/2262], Loss: 0.006589171476662159, SNR: 16.131324768066406\n",
      "Epoch [12/25], Step [1300/2262], Loss: 0.0053788754157722, SNR: 18.69660758972168\n",
      "Epoch [12/25], Step [1400/2262], Loss: 0.007356266025453806, SNR: 17.95063018798828\n",
      "Epoch [12/25], Step [1500/2262], Loss: 0.005713941529393196, SNR: 17.17876434326172\n",
      "Epoch [12/25], Step [1600/2262], Loss: 0.006322021596133709, SNR: 17.148679733276367\n",
      "Epoch [12/25], Step [1700/2262], Loss: 0.005443612579256296, SNR: 15.010879516601562\n",
      "Epoch [12/25], Step [1800/2262], Loss: 0.007537505589425564, SNR: 14.649463653564453\n",
      "Epoch [12/25], Step [1900/2262], Loss: 0.007430818397551775, SNR: 15.411959648132324\n",
      "Epoch [12/25], Step [2000/2262], Loss: 0.005897107068449259, SNR: 16.527774810791016\n",
      "Epoch [12/25], Step [2100/2262], Loss: 0.005624338984489441, SNR: 19.015453338623047\n",
      "Epoch [12/25], Step [2200/2262], Loss: 0.010825985111296177, SNR: 15.861908912658691\n",
      ".:. Training metrics = Loss: 0.006121397106495227, SNR: 17.076004287938975\n",
      ".:. Validation metrics = Loss: 0.006791579956201114, SNR: 15.059834529974573\n",
      "Epoch [13/25], Step [100/2262], Loss: 0.0047617508098483086, SNR: 19.116750717163086\n",
      "Epoch [13/25], Step [200/2262], Loss: 0.004110366106033325, SNR: 19.130943298339844\n",
      "Epoch [13/25], Step [300/2262], Loss: 0.005846881773322821, SNR: 19.344928741455078\n",
      "Epoch [13/25], Step [400/2262], Loss: 0.006102291867136955, SNR: 17.800941467285156\n",
      "Epoch [13/25], Step [500/2262], Loss: 0.0055655306205153465, SNR: 16.99983787536621\n",
      "Epoch [13/25], Step [600/2262], Loss: 0.009014543145895004, SNR: 15.399273872375488\n",
      "Epoch [13/25], Step [700/2262], Loss: 0.00548841105774045, SNR: 18.3707275390625\n",
      "Epoch [13/25], Step [800/2262], Loss: 0.006613053847104311, SNR: 17.14511489868164\n"
     ]
    },
    {
     "name": "stdout",
     "output_type": "stream",
     "text": [
      "Epoch [13/25], Step [900/2262], Loss: 0.006610979791730642, SNR: 18.649799346923828\n",
      "Epoch [13/25], Step [1000/2262], Loss: 0.006600207183510065, SNR: 18.255889892578125\n",
      "Epoch [13/25], Step [1100/2262], Loss: 0.005626536440104246, SNR: 16.754438400268555\n",
      "Epoch [13/25], Step [1200/2262], Loss: 0.00457048648968339, SNR: 18.250078201293945\n",
      "Epoch [13/25], Step [1300/2262], Loss: 0.0052406685426831245, SNR: 16.890504837036133\n",
      "Epoch [13/25], Step [1400/2262], Loss: 0.006856178864836693, SNR: 15.482704162597656\n",
      "Epoch [13/25], Step [1500/2262], Loss: 0.0055589680559933186, SNR: 15.428620338439941\n",
      "Epoch [13/25], Step [1600/2262], Loss: 0.004875805228948593, SNR: 18.4979248046875\n",
      "Epoch [13/25], Step [1700/2262], Loss: 0.005078540183603764, SNR: 16.741992950439453\n",
      "Epoch [13/25], Step [1800/2262], Loss: 0.0066548120230436325, SNR: 15.815057754516602\n",
      "Epoch [13/25], Step [1900/2262], Loss: 0.004501631483435631, SNR: 18.65723419189453\n",
      "Epoch [13/25], Step [2000/2262], Loss: 0.006561798043549061, SNR: 16.163738250732422\n",
      "Epoch [13/25], Step [2100/2262], Loss: 0.007680687587708235, SNR: 14.882205963134766\n",
      "Epoch [13/25], Step [2200/2262], Loss: 0.006584391463547945, SNR: 18.892990112304688\n",
      ".:. Training metrics = Loss: 0.006068026839103627, SNR: 17.16422713944582\n",
      ".:. Validation metrics = Loss: 0.006804418152913006, SNR: 14.97329021792852\n",
      "Epoch [14/25], Step [100/2262], Loss: 0.005693077575415373, SNR: 16.70699691772461\n",
      "Epoch [14/25], Step [200/2262], Loss: 0.006327763199806213, SNR: 16.094425201416016\n",
      "Epoch [14/25], Step [300/2262], Loss: 0.004562198184430599, SNR: 17.846036911010742\n",
      "Epoch [14/25], Step [400/2262], Loss: 0.006260789465159178, SNR: 16.878660202026367\n",
      "Epoch [14/25], Step [500/2262], Loss: 0.006204318255186081, SNR: 17.468181610107422\n",
      "Epoch [14/25], Step [600/2262], Loss: 0.005493366625159979, SNR: 16.461458206176758\n",
      "Epoch [14/25], Step [700/2262], Loss: 0.0054247151128947735, SNR: 16.384368896484375\n",
      "Epoch [14/25], Step [800/2262], Loss: 0.005519537720829248, SNR: 17.362520217895508\n",
      "Epoch [14/25], Step [900/2262], Loss: 0.006546132266521454, SNR: 18.290586471557617\n",
      "Epoch [14/25], Step [1000/2262], Loss: 0.005870998837053776, SNR: 17.33349609375\n",
      "Epoch [14/25], Step [1100/2262], Loss: 0.007237695623189211, SNR: 17.549285888671875\n",
      "Epoch [14/25], Step [1200/2262], Loss: 0.007058665622025728, SNR: 14.658857345581055\n",
      "Epoch [14/25], Step [1300/2262], Loss: 0.00606546550989151, SNR: 15.720854759216309\n",
      "Epoch [14/25], Step [1400/2262], Loss: 0.008910729549825191, SNR: 16.007137298583984\n",
      "Epoch [14/25], Step [1500/2262], Loss: 0.0061132051050662994, SNR: 17.68273162841797\n",
      "Epoch [14/25], Step [1600/2262], Loss: 0.0048313750885427, SNR: 17.571460723876953\n",
      "Epoch [14/25], Step [1700/2262], Loss: 0.006152379792183638, SNR: 16.233333587646484\n",
      "Epoch [14/25], Step [1800/2262], Loss: 0.006922988221049309, SNR: 16.7265625\n",
      "Epoch [14/25], Step [1900/2262], Loss: 0.008766504935920238, SNR: 15.548707008361816\n",
      "Epoch [14/25], Step [2000/2262], Loss: 0.005454195197671652, SNR: 17.565399169921875\n",
      "Epoch [14/25], Step [2100/2262], Loss: 0.0058793192729353905, SNR: 18.14237403869629\n",
      "Epoch [14/25], Step [2200/2262], Loss: 0.004452101420611143, SNR: 20.630830764770508\n",
      ".:. Training metrics = Loss: 0.006012399123740208, SNR: 17.277272787987446\n",
      ".:. Validation metrics = Loss: 0.006977010336284582, SNR: 14.902346571423143\n",
      "Epoch [15/25], Step [100/2262], Loss: 0.0059037539176642895, SNR: 17.872249603271484\n",
      "Epoch [15/25], Step [200/2262], Loss: 0.0065812463872134686, SNR: 18.173065185546875\n",
      "Epoch [15/25], Step [300/2262], Loss: 0.005716855637729168, SNR: 16.907459259033203\n",
      "Epoch [15/25], Step [400/2262], Loss: 0.004713336005806923, SNR: 16.723026275634766\n",
      "Epoch [15/25], Step [500/2262], Loss: 0.004161742515861988, SNR: 21.012195587158203\n",
      "Epoch [15/25], Step [600/2262], Loss: 0.0050577204674482346, SNR: 16.783905029296875\n",
      "Epoch [15/25], Step [700/2262], Loss: 0.007189163006842136, SNR: 16.171829223632812\n",
      "Epoch [15/25], Step [800/2262], Loss: 0.004616341087967157, SNR: 21.318042755126953\n",
      "Epoch [15/25], Step [900/2262], Loss: 0.005711887963116169, SNR: 17.31854248046875\n",
      "Epoch [15/25], Step [1000/2262], Loss: 0.0042000277899205685, SNR: 21.087711334228516\n",
      "Epoch [15/25], Step [1100/2262], Loss: 0.005811943672597408, SNR: 16.271791458129883\n",
      "Epoch [15/25], Step [1200/2262], Loss: 0.004993785172700882, SNR: 19.592466354370117\n",
      "Epoch [15/25], Step [1300/2262], Loss: 0.0054706791415810585, SNR: 18.827850341796875\n",
      "Epoch [15/25], Step [1400/2262], Loss: 0.004485333804041147, SNR: 18.761768341064453\n",
      "Epoch [15/25], Step [1500/2262], Loss: 0.004227303434163332, SNR: 19.30986785888672\n",
      "Epoch [15/25], Step [1600/2262], Loss: 0.0047769080847501755, SNR: 21.442737579345703\n",
      "Epoch [15/25], Step [1700/2262], Loss: 0.004443190060555935, SNR: 19.518123626708984\n",
      "Epoch [15/25], Step [1800/2262], Loss: 0.005067393183708191, SNR: 18.032066345214844\n",
      "Epoch [15/25], Step [1900/2262], Loss: 0.006152568385004997, SNR: 15.139742851257324\n",
      "Epoch [15/25], Step [2000/2262], Loss: 0.003942769020795822, SNR: 20.966297149658203\n",
      "Epoch [15/25], Step [2100/2262], Loss: 0.004728537052869797, SNR: 18.665618896484375\n",
      "Epoch [15/25], Step [2200/2262], Loss: 0.004583730362355709, SNR: 18.62499237060547\n",
      ".:. Training metrics = Loss: 0.005578882737382711, SNR: 18.065022964983495\n",
      ".:. Validation metrics = Loss: 0.006484372586014842, SNR: 15.429906007695596\n",
      "Epoch [16/25], Step [100/2262], Loss: 0.005413622595369816, SNR: 15.605672836303711\n",
      "Epoch [16/25], Step [200/2262], Loss: 0.004038750194013119, SNR: 20.96062469482422\n",
      "Epoch [16/25], Step [300/2262], Loss: 0.005506257526576519, SNR: 18.42494773864746\n",
      "Epoch [16/25], Step [400/2262], Loss: 0.004156817682087421, SNR: 19.827342987060547\n",
      "Epoch [16/25], Step [500/2262], Loss: 0.004660776816308498, SNR: 20.708202362060547\n",
      "Epoch [16/25], Step [600/2262], Loss: 0.005672125145792961, SNR: 16.979080200195312\n",
      "Epoch [16/25], Step [700/2262], Loss: 0.007166908122599125, SNR: 17.008785247802734\n",
      "Epoch [16/25], Step [800/2262], Loss: 0.004365835338830948, SNR: 20.159643173217773\n",
      "Epoch [16/25], Step [900/2262], Loss: 0.004589086398482323, SNR: 18.65247917175293\n",
      "Epoch [16/25], Step [1000/2262], Loss: 0.005716540850698948, SNR: 17.663253784179688\n",
      "Epoch [16/25], Step [1100/2262], Loss: 0.0058492994867265224, SNR: 18.13852310180664\n",
      "Epoch [16/25], Step [1200/2262], Loss: 0.0042733922600746155, SNR: 19.54026985168457\n",
      "Epoch [16/25], Step [1300/2262], Loss: 0.006381453014910221, SNR: 19.31744384765625\n",
      "Epoch [16/25], Step [1400/2262], Loss: 0.00598439946770668, SNR: 17.031049728393555\n",
      "Epoch [16/25], Step [1500/2262], Loss: 0.005245465785264969, SNR: 19.93181800842285\n",
      "Epoch [16/25], Step [1600/2262], Loss: 0.009429247118532658, SNR: 16.632755279541016\n",
      "Epoch [16/25], Step [1700/2262], Loss: 0.006658896803855896, SNR: 17.94387435913086\n",
      "Epoch [16/25], Step [1800/2262], Loss: 0.005035314708948135, SNR: 18.085050582885742\n",
      "Epoch [16/25], Step [1900/2262], Loss: 0.005912273656576872, SNR: 16.296018600463867\n",
      "Epoch [16/25], Step [2000/2262], Loss: 0.0081177968531847, SNR: 18.692546844482422\n",
      "Epoch [16/25], Step [2100/2262], Loss: 0.00846895482391119, SNR: 15.054583549499512\n",
      "Epoch [16/25], Step [2200/2262], Loss: 0.0034728622995316982, SNR: 20.665922164916992\n",
      ".:. Training metrics = Loss: 0.005524609213204436, SNR: 18.174790817770916\n",
      ".:. Validation metrics = Loss: 0.006494201034385316, SNR: 15.445468091926887\n",
      "Epoch [17/25], Step [100/2262], Loss: 0.009614390321075916, SNR: 17.811033248901367\n",
      "Epoch [17/25], Step [200/2262], Loss: 0.005097830668091774, SNR: 16.84501838684082\n",
      "Epoch [17/25], Step [300/2262], Loss: 0.006656639277935028, SNR: 17.500045776367188\n",
      "Epoch [17/25], Step [400/2262], Loss: 0.0055715483613312244, SNR: 17.478681564331055\n",
      "Epoch [17/25], Step [500/2262], Loss: 0.005180829204618931, SNR: 19.81612777709961\n",
      "Epoch [17/25], Step [600/2262], Loss: 0.004960039164870977, SNR: 17.106889724731445\n",
      "Epoch [17/25], Step [700/2262], Loss: 0.005193824879825115, SNR: 17.87377166748047\n",
      "Epoch [17/25], Step [800/2262], Loss: 0.003758316859602928, SNR: 20.439624786376953\n",
      "Epoch [17/25], Step [900/2262], Loss: 0.004824160598218441, SNR: 19.685993194580078\n",
      "Epoch [17/25], Step [1000/2262], Loss: 0.0038907548878341913, SNR: 20.04395294189453\n"
     ]
    },
    {
     "name": "stdout",
     "output_type": "stream",
     "text": [
      "Epoch [17/25], Step [1100/2262], Loss: 0.00692654587328434, SNR: 17.748554229736328\n",
      "Epoch [17/25], Step [1200/2262], Loss: 0.005021425895392895, SNR: 17.661378860473633\n",
      "Epoch [17/25], Step [1300/2262], Loss: 0.005376808345317841, SNR: 17.63542366027832\n",
      "Epoch [17/25], Step [1400/2262], Loss: 0.004745339974761009, SNR: 18.74362564086914\n",
      "Epoch [17/25], Step [1500/2262], Loss: 0.0045410883612930775, SNR: 19.625911712646484\n",
      "Epoch [17/25], Step [1600/2262], Loss: 0.006494068540632725, SNR: 16.195545196533203\n",
      "Epoch [17/25], Step [1700/2262], Loss: 0.004622194916009903, SNR: 17.232704162597656\n",
      "Epoch [17/25], Step [1800/2262], Loss: 0.0059006474912166595, SNR: 19.284696578979492\n",
      "Epoch [17/25], Step [1900/2262], Loss: 0.006908899173140526, SNR: 16.168956756591797\n",
      "Epoch [17/25], Step [2000/2262], Loss: 0.005187513306736946, SNR: 17.732669830322266\n",
      "Epoch [17/25], Step [2100/2262], Loss: 0.005443971138447523, SNR: 17.757640838623047\n",
      "Epoch [17/25], Step [2200/2262], Loss: 0.005663905758410692, SNR: 15.740747451782227\n",
      ".:. Training metrics = Loss: 0.005496838355051422, SNR: 18.23386593186483\n",
      ".:. Validation metrics = Loss: 0.006505123376664039, SNR: 15.436598593140053\n",
      "Epoch [18/25], Step [100/2262], Loss: 0.0042977770790457726, SNR: 18.305870056152344\n",
      "Epoch [18/25], Step [200/2262], Loss: 0.005413677077740431, SNR: 15.869670867919922\n",
      "Epoch [18/25], Step [300/2262], Loss: 0.005220766179263592, SNR: 17.029644012451172\n",
      "Epoch [18/25], Step [400/2262], Loss: 0.006154005415737629, SNR: 18.594738006591797\n",
      "Epoch [18/25], Step [500/2262], Loss: 0.004758851602673531, SNR: 19.851625442504883\n",
      "Epoch [18/25], Step [600/2262], Loss: 0.004977515898644924, SNR: 17.741077423095703\n",
      "Epoch [18/25], Step [700/2262], Loss: 0.005350811406970024, SNR: 19.113739013671875\n",
      "Epoch [18/25], Step [800/2262], Loss: 0.004801744595170021, SNR: 17.317562103271484\n",
      "Epoch [18/25], Step [900/2262], Loss: 0.006413767114281654, SNR: 17.595447540283203\n",
      "Epoch [18/25], Step [1000/2262], Loss: 0.004488575272262096, SNR: 18.17430877685547\n",
      "Epoch [18/25], Step [1100/2262], Loss: 0.00655718008056283, SNR: 15.813661575317383\n",
      "Epoch [18/25], Step [1200/2262], Loss: 0.0039830636233091354, SNR: 21.618228912353516\n",
      "Epoch [18/25], Step [1300/2262], Loss: 0.005052623338997364, SNR: 19.83399200439453\n",
      "Epoch [18/25], Step [1400/2262], Loss: 0.004486006684601307, SNR: 19.96231460571289\n",
      "Epoch [18/25], Step [1500/2262], Loss: 0.005500032100826502, SNR: 15.933111190795898\n",
      "Epoch [18/25], Step [1600/2262], Loss: 0.00605264725163579, SNR: 15.773508071899414\n",
      "Epoch [18/25], Step [1700/2262], Loss: 0.0051343608647584915, SNR: 17.700531005859375\n",
      "Epoch [18/25], Step [1800/2262], Loss: 0.0032898043282330036, SNR: 23.039264678955078\n",
      "Epoch [18/25], Step [1900/2262], Loss: 0.008109768852591515, SNR: 16.678939819335938\n",
      "Epoch [18/25], Step [2000/2262], Loss: 0.00630408339202404, SNR: 16.577688217163086\n",
      "Epoch [18/25], Step [2100/2262], Loss: 0.005406673531979322, SNR: 19.203630447387695\n",
      "Epoch [18/25], Step [2200/2262], Loss: 0.005875376518815756, SNR: 18.15911102294922\n",
      ".:. Training metrics = Loss: 0.005443361397324638, SNR: 18.334680742768168\n",
      ".:. Validation metrics = Loss: 0.0064401853802773775, SNR: 15.50722888915257\n",
      "Epoch [19/25], Step [100/2262], Loss: 0.004145841114223003, SNR: 18.952457427978516\n",
      "Epoch [19/25], Step [200/2262], Loss: 0.005594973918050528, SNR: 19.40936851501465\n",
      "Epoch [19/25], Step [300/2262], Loss: 0.007293026894330978, SNR: 18.38947105407715\n",
      "Epoch [19/25], Step [400/2262], Loss: 0.004819848574697971, SNR: 20.260169982910156\n",
      "Epoch [19/25], Step [500/2262], Loss: 0.006033786106854677, SNR: 18.371252059936523\n",
      "Epoch [19/25], Step [600/2262], Loss: 0.00465728621929884, SNR: 18.218576431274414\n",
      "Epoch [19/25], Step [700/2262], Loss: 0.005997371859848499, SNR: 17.590431213378906\n",
      "Epoch [19/25], Step [800/2262], Loss: 0.005588081199675798, SNR: 17.485498428344727\n",
      "Epoch [19/25], Step [900/2262], Loss: 0.005355377681553364, SNR: 18.501230239868164\n",
      "Epoch [19/25], Step [1000/2262], Loss: 0.005048468708992004, SNR: 16.9903621673584\n",
      "Epoch [19/25], Step [1100/2262], Loss: 0.006749770138412714, SNR: 17.03987693786621\n",
      "Epoch [19/25], Step [1200/2262], Loss: 0.005439586006104946, SNR: 19.457807540893555\n",
      "Epoch [19/25], Step [1300/2262], Loss: 0.007318247575312853, SNR: 15.720105171203613\n",
      "Epoch [19/25], Step [1400/2262], Loss: 0.004360358230769634, SNR: 19.036319732666016\n",
      "Epoch [19/25], Step [1500/2262], Loss: 0.004316684789955616, SNR: 18.944665908813477\n",
      "Epoch [19/25], Step [1600/2262], Loss: 0.00564172537997365, SNR: 20.13723373413086\n",
      "Epoch [19/25], Step [1700/2262], Loss: 0.0062688253819942474, SNR: 17.847633361816406\n",
      "Epoch [19/25], Step [1800/2262], Loss: 0.006425884552299976, SNR: 19.269926071166992\n",
      "Epoch [19/25], Step [1900/2262], Loss: 0.00598263181746006, SNR: 17.481918334960938\n",
      "Epoch [19/25], Step [2000/2262], Loss: 0.004065894056111574, SNR: 19.71473503112793\n",
      "Epoch [19/25], Step [2100/2262], Loss: 0.0051134200766682625, SNR: 17.271318435668945\n",
      "Epoch [19/25], Step [2200/2262], Loss: 0.0053982604295015335, SNR: 17.769515991210938\n",
      ".:. Training metrics = Loss: 0.005437830713857814, SNR: 18.35002675811439\n",
      ".:. Validation metrics = Loss: 0.006436203700273291, SNR: 15.51510747694143\n",
      "Epoch [20/25], Step [100/2262], Loss: 0.004452425055205822, SNR: 20.921937942504883\n",
      "Epoch [20/25], Step [200/2262], Loss: 0.00717639084905386, SNR: 16.41033935546875\n",
      "Epoch [20/25], Step [300/2262], Loss: 0.004967980086803436, SNR: 17.513336181640625\n",
      "Epoch [20/25], Step [400/2262], Loss: 0.005666794721037149, SNR: 17.323074340820312\n",
      "Epoch [20/25], Step [500/2262], Loss: 0.0036862895358353853, SNR: 22.33958625793457\n",
      "Epoch [20/25], Step [600/2262], Loss: 0.0054468633607029915, SNR: 16.263940811157227\n",
      "Epoch [20/25], Step [700/2262], Loss: 0.003653543069958687, SNR: 22.176986694335938\n",
      "Epoch [20/25], Step [800/2262], Loss: 0.004265414550900459, SNR: 19.746719360351562\n",
      "Epoch [20/25], Step [900/2262], Loss: 0.006120698060840368, SNR: 17.046977996826172\n",
      "Epoch [20/25], Step [1000/2262], Loss: 0.005003783851861954, SNR: 18.163619995117188\n",
      "Epoch [20/25], Step [1100/2262], Loss: 0.005155191756784916, SNR: 19.217247009277344\n",
      "Epoch [20/25], Step [1200/2262], Loss: 0.004850002937018871, SNR: 18.943592071533203\n",
      "Epoch [20/25], Step [1300/2262], Loss: 0.005387584678828716, SNR: 18.33443260192871\n",
      "Epoch [20/25], Step [1400/2262], Loss: 0.006576398387551308, SNR: 19.174341201782227\n",
      "Epoch [20/25], Step [1500/2262], Loss: 0.004761548712849617, SNR: 17.668426513671875\n",
      "Epoch [20/25], Step [1600/2262], Loss: 0.005877020303159952, SNR: 17.313011169433594\n",
      "Epoch [20/25], Step [1700/2262], Loss: 0.004486262798309326, SNR: 18.936519622802734\n",
      "Epoch [20/25], Step [1800/2262], Loss: 0.005168539937585592, SNR: 17.87225914001465\n",
      "Epoch [20/25], Step [1900/2262], Loss: 0.005460122600197792, SNR: 17.741703033447266\n",
      "Epoch [20/25], Step [2000/2262], Loss: 0.003577697090804577, SNR: 20.82231903076172\n",
      "Epoch [20/25], Step [2100/2262], Loss: 0.006792370229959488, SNR: 19.046905517578125\n",
      "Epoch [20/25], Step [2200/2262], Loss: 0.006171846762299538, SNR: 16.393033981323242\n",
      ".:. Training metrics = Loss: 0.005434311836758234, SNR: 18.35859031972387\n",
      ".:. Validation metrics = Loss: 0.00643368513332973, SNR: 15.517138312399561\n",
      "Epoch [21/25], Step [100/2262], Loss: 0.0048917364329099655, SNR: 20.42376708984375\n",
      "Epoch [21/25], Step [200/2262], Loss: 0.005610615015029907, SNR: 17.197673797607422\n",
      "Epoch [21/25], Step [300/2262], Loss: 0.005924921482801437, SNR: 18.654953002929688\n",
      "Epoch [21/25], Step [400/2262], Loss: 0.004212929401546717, SNR: 18.825143814086914\n",
      "Epoch [21/25], Step [500/2262], Loss: 0.002683158265426755, SNR: 23.400848388671875\n",
      "Epoch [21/25], Step [600/2262], Loss: 0.0047377608716487885, SNR: 18.53689193725586\n",
      "Epoch [21/25], Step [700/2262], Loss: 0.005700100213289261, SNR: 18.959747314453125\n",
      "Epoch [21/25], Step [800/2262], Loss: 0.00380472419783473, SNR: 19.991369247436523\n",
      "Epoch [21/25], Step [900/2262], Loss: 0.004050837829709053, SNR: 20.184310913085938\n",
      "Epoch [21/25], Step [1000/2262], Loss: 0.004248581361025572, SNR: 19.709197998046875\n",
      "Epoch [21/25], Step [1100/2262], Loss: 0.005655257496982813, SNR: 17.28792381286621\n",
      "Epoch [21/25], Step [1200/2262], Loss: 0.00484125129878521, SNR: 20.22607421875\n"
     ]
    },
    {
     "name": "stdout",
     "output_type": "stream",
     "text": [
      "Epoch [21/25], Step [1300/2262], Loss: 0.005319399759173393, SNR: 20.11300277709961\n",
      "Epoch [21/25], Step [1400/2262], Loss: 0.004453950561583042, SNR: 20.915912628173828\n",
      "Epoch [21/25], Step [1500/2262], Loss: 0.00525689497590065, SNR: 20.0122127532959\n",
      "Epoch [21/25], Step [1600/2262], Loss: 0.006981964688748121, SNR: 16.411548614501953\n",
      "Epoch [21/25], Step [1700/2262], Loss: 0.0028606238774955273, SNR: 20.950136184692383\n",
      "Epoch [21/25], Step [1800/2262], Loss: 0.006278203800320625, SNR: 17.336807250976562\n",
      "Epoch [21/25], Step [1900/2262], Loss: 0.004423447418957949, SNR: 17.218463897705078\n",
      "Epoch [21/25], Step [2000/2262], Loss: 0.005362465046346188, SNR: 17.88842010498047\n",
      "Epoch [21/25], Step [2100/2262], Loss: 0.004278725013136864, SNR: 18.799531936645508\n",
      "Epoch [21/25], Step [2200/2262], Loss: 0.006455130409449339, SNR: 18.49901580810547\n",
      ".:. Training metrics = Loss: 0.005431437176199587, SNR: 18.364933255088367\n",
      ".:. Validation metrics = Loss: 0.006442160742306632, SNR: 15.51281491703093\n",
      "Epoch [22/25], Step [100/2262], Loss: 0.003264126367866993, SNR: 23.573671340942383\n",
      "Epoch [22/25], Step [200/2262], Loss: 0.0049837371334433556, SNR: 16.481266021728516\n",
      "Epoch [22/25], Step [300/2262], Loss: 0.006460181437432766, SNR: 16.01704978942871\n",
      "Epoch [22/25], Step [400/2262], Loss: 0.0068677375093102455, SNR: 15.762088775634766\n",
      "Epoch [22/25], Step [500/2262], Loss: 0.0044555384665727615, SNR: 19.168445587158203\n",
      "Epoch [22/25], Step [600/2262], Loss: 0.0060339635238051414, SNR: 15.355730056762695\n",
      "Epoch [22/25], Step [700/2262], Loss: 0.0053762574680149555, SNR: 17.805137634277344\n",
      "Epoch [22/25], Step [800/2262], Loss: 0.004703053273260593, SNR: 19.16079330444336\n",
      "Epoch [22/25], Step [900/2262], Loss: 0.009112872183322906, SNR: 18.689350128173828\n",
      "Epoch [22/25], Step [1000/2262], Loss: 0.006082679610699415, SNR: 18.192626953125\n",
      "Epoch [22/25], Step [1100/2262], Loss: 0.004620484076440334, SNR: 18.592769622802734\n",
      "Epoch [22/25], Step [1200/2262], Loss: 0.0036489921621978283, SNR: 21.711071014404297\n",
      "Epoch [22/25], Step [1300/2262], Loss: 0.0032096270006150007, SNR: 22.26384735107422\n",
      "Epoch [22/25], Step [1400/2262], Loss: 0.004719275515526533, SNR: 18.436351776123047\n",
      "Epoch [22/25], Step [1500/2262], Loss: 0.005078644026070833, SNR: 17.148561477661133\n",
      "Epoch [22/25], Step [1600/2262], Loss: 0.00595677737146616, SNR: 19.036792755126953\n",
      "Epoch [22/25], Step [1700/2262], Loss: 0.009725562296807766, SNR: 15.135992050170898\n",
      "Epoch [22/25], Step [1800/2262], Loss: 0.005999117158353329, SNR: 17.63416862487793\n",
      "Epoch [22/25], Step [1900/2262], Loss: 0.00513567216694355, SNR: 17.28881072998047\n",
      "Epoch [22/25], Step [2000/2262], Loss: 0.004756244830787182, SNR: 20.09622573852539\n",
      "Epoch [22/25], Step [2100/2262], Loss: 0.0069872597232460976, SNR: 15.991283416748047\n",
      "Epoch [22/25], Step [2200/2262], Loss: 0.0050901263020932674, SNR: 18.29380989074707\n",
      ".:. Training metrics = Loss: 0.005428633000212715, SNR: 18.370519824843605\n",
      ".:. Validation metrics = Loss: 0.006436358060524226, SNR: 15.51312978139664\n",
      "Epoch [23/25], Step [100/2262], Loss: 0.004699519369751215, SNR: 19.956533432006836\n",
      "Epoch [23/25], Step [200/2262], Loss: 0.002822406589984894, SNR: 21.31068229675293\n",
      "Epoch [23/25], Step [300/2262], Loss: 0.003174122888594866, SNR: 23.29582977294922\n",
      "Epoch [23/25], Step [400/2262], Loss: 0.0029579296242445707, SNR: 21.20565414428711\n",
      "Epoch [23/25], Step [500/2262], Loss: 0.0041330549865961075, SNR: 19.328096389770508\n",
      "Epoch [23/25], Step [600/2262], Loss: 0.005683382973074913, SNR: 19.06929588317871\n",
      "Epoch [23/25], Step [700/2262], Loss: 0.006721732206642628, SNR: 16.177167892456055\n",
      "Epoch [23/25], Step [800/2262], Loss: 0.0033141174353659153, SNR: 20.87820053100586\n",
      "Epoch [23/25], Step [900/2262], Loss: 0.006133873015642166, SNR: 17.211830139160156\n",
      "Epoch [23/25], Step [1000/2262], Loss: 0.0068346671760082245, SNR: 15.20564079284668\n",
      "Epoch [23/25], Step [1100/2262], Loss: 0.004899214021861553, SNR: 18.13075065612793\n",
      "Epoch [23/25], Step [1200/2262], Loss: 0.00726573821157217, SNR: 15.33318042755127\n",
      "Epoch [23/25], Step [1300/2262], Loss: 0.004895055200904608, SNR: 18.77060317993164\n",
      "Epoch [23/25], Step [1400/2262], Loss: 0.005162178538739681, SNR: 15.973773002624512\n",
      "Epoch [23/25], Step [1500/2262], Loss: 0.005076969973742962, SNR: 18.955875396728516\n",
      "Epoch [23/25], Step [1600/2262], Loss: 0.0052222865633666515, SNR: 16.121742248535156\n",
      "Epoch [23/25], Step [1700/2262], Loss: 0.005493415053933859, SNR: 17.019712448120117\n",
      "Epoch [23/25], Step [1800/2262], Loss: 0.004167397506535053, SNR: 20.783203125\n",
      "Epoch [23/25], Step [1900/2262], Loss: 0.0038586074952036142, SNR: 21.4637451171875\n",
      "Epoch [23/25], Step [2000/2262], Loss: 0.004525443073362112, SNR: 17.91254997253418\n",
      "Epoch [23/25], Step [2100/2262], Loss: 0.005014025606215, SNR: 19.493045806884766\n",
      "Epoch [23/25], Step [2200/2262], Loss: 0.007451272569596767, SNR: 17.30580711364746\n",
      ".:. Training metrics = Loss: 0.005422900732103287, SNR: 18.38482162916189\n",
      ".:. Validation metrics = Loss: 0.006431804446484307, SNR: 15.521662351663261\n",
      "Epoch [24/25], Step [100/2262], Loss: 0.005205212160944939, SNR: 17.081226348876953\n",
      "Epoch [24/25], Step [200/2262], Loss: 0.0048882607370615005, SNR: 18.971256256103516\n",
      "Epoch [24/25], Step [300/2262], Loss: 0.0036430289037525654, SNR: 19.58389663696289\n",
      "Epoch [24/25], Step [400/2262], Loss: 0.006400765385478735, SNR: 18.271574020385742\n",
      "Epoch [24/25], Step [500/2262], Loss: 0.005578699056059122, SNR: 18.622634887695312\n",
      "Epoch [24/25], Step [600/2262], Loss: 0.0043304250575602055, SNR: 17.7890567779541\n",
      "Epoch [24/25], Step [700/2262], Loss: 0.005328690633177757, SNR: 16.85921287536621\n",
      "Epoch [24/25], Step [800/2262], Loss: 0.005183418281376362, SNR: 17.68036651611328\n",
      "Epoch [24/25], Step [900/2262], Loss: 0.00561918318271637, SNR: 18.3124942779541\n",
      "Epoch [24/25], Step [1000/2262], Loss: 0.004681752994656563, SNR: 18.355682373046875\n",
      "Epoch [24/25], Step [1100/2262], Loss: 0.005139364395290613, SNR: 17.584415435791016\n",
      "Epoch [24/25], Step [1200/2262], Loss: 0.005771107040345669, SNR: 18.056074142456055\n",
      "Epoch [24/25], Step [1300/2262], Loss: 0.002873407443985343, SNR: 24.005107879638672\n",
      "Epoch [24/25], Step [1400/2262], Loss: 0.00556559395045042, SNR: 17.658037185668945\n",
      "Epoch [24/25], Step [1500/2262], Loss: 0.005386265926063061, SNR: 17.033653259277344\n",
      "Epoch [24/25], Step [1600/2262], Loss: 0.005313237197697163, SNR: 17.582014083862305\n",
      "Epoch [24/25], Step [1700/2262], Loss: 0.008917272090911865, SNR: 15.115346908569336\n",
      "Epoch [24/25], Step [1800/2262], Loss: 0.00522134592756629, SNR: 18.330615997314453\n",
      "Epoch [24/25], Step [1900/2262], Loss: 0.004546491429209709, SNR: 18.907405853271484\n",
      "Epoch [24/25], Step [2000/2262], Loss: 0.004562773276120424, SNR: 18.44769287109375\n",
      "Epoch [24/25], Step [2100/2262], Loss: 0.004748987033963203, SNR: 18.927885055541992\n",
      "Epoch [24/25], Step [2200/2262], Loss: 0.00560825364664197, SNR: 17.560020446777344\n",
      ".:. Training metrics = Loss: 0.005422148445678263, SNR: 18.38675006582909\n",
      ".:. Validation metrics = Loss: 0.006430597397129558, SNR: 15.52407622494984\n",
      "Epoch [25/25], Step [100/2262], Loss: 0.004045548848807812, SNR: 18.976757049560547\n",
      "Epoch [25/25], Step [200/2262], Loss: 0.005712688900530338, SNR: 19.167987823486328\n",
      "Epoch [25/25], Step [300/2262], Loss: 0.008399570360779762, SNR: 13.878782272338867\n",
      "Epoch [25/25], Step [400/2262], Loss: 0.0074053057469427586, SNR: 15.867561340332031\n",
      "Epoch [25/25], Step [500/2262], Loss: 0.003705377224832773, SNR: 18.549327850341797\n",
      "Epoch [25/25], Step [600/2262], Loss: 0.0067346468567848206, SNR: 17.00703239440918\n",
      "Epoch [25/25], Step [700/2262], Loss: 0.005322606302797794, SNR: 18.322811126708984\n",
      "Epoch [25/25], Step [800/2262], Loss: 0.005467432551085949, SNR: 19.10767936706543\n",
      "Epoch [25/25], Step [900/2262], Loss: 0.006394560448825359, SNR: 17.188983917236328\n",
      "Epoch [25/25], Step [1000/2262], Loss: 0.005728541407734156, SNR: 17.05708885192871\n",
      "Epoch [25/25], Step [1100/2262], Loss: 0.0052916863933205605, SNR: 16.5445556640625\n",
      "Epoch [25/25], Step [1200/2262], Loss: 0.0024717035703361034, SNR: 24.478031158447266\n",
      "Epoch [25/25], Step [1300/2262], Loss: 0.004080299753695726, SNR: 20.78963279724121\n",
      "Epoch [25/25], Step [1400/2262], Loss: 0.005788198672235012, SNR: 18.983356475830078\n",
      "Epoch [25/25], Step [1500/2262], Loss: 0.004922464489936829, SNR: 17.97888946533203\n"
     ]
    },
    {
     "name": "stdout",
     "output_type": "stream",
     "text": [
      "Epoch [25/25], Step [1600/2262], Loss: 0.003858492709696293, SNR: 19.056407928466797\n",
      "Epoch [25/25], Step [1700/2262], Loss: 0.006728010252118111, SNR: 18.0033016204834\n",
      "Epoch [25/25], Step [1800/2262], Loss: 0.0047414484433829784, SNR: 16.2210693359375\n",
      "Epoch [25/25], Step [1900/2262], Loss: 0.004302086308598518, SNR: 19.2296199798584\n",
      "Epoch [25/25], Step [2000/2262], Loss: 0.004512303974479437, SNR: 18.33623695373535\n",
      "Epoch [25/25], Step [2100/2262], Loss: 0.005882935598492622, SNR: 18.77545166015625\n",
      "Epoch [25/25], Step [2200/2262], Loss: 0.0051514324732124805, SNR: 17.896934509277344\n",
      ".:. Training metrics = Loss: 0.005421813032284902, SNR: 18.382419522831736\n",
      ".:. Validation metrics = Loss: 0.006433615310985129, SNR: 15.519936502310877\n"
     ]
    }
   ],
   "source": [
    "# Train the model over epochs\n",
    "steps = len(ls_generator)\n",
    "\n",
    "for epoch in range(config.epochs):\n",
    "    # training and val metrics for all data\n",
    "    loss, metric = 0.0, 0.0\n",
    "    val_loss, val_metric = 0.0, 0.0\n",
    "\n",
    "    # ======================== Training ============================= #\n",
    "    for i, (local_batch, local_labels) in enumerate(ls_generator):\n",
    "        # Transfer to Device\n",
    "        local_batch = local_batch.to(device)\n",
    "        local_labels = local_labels.to(device)\n",
    "\n",
    "        # Set gradient\n",
    "        optimizer.zero_grad()\n",
    "\n",
    "        # Forward pass, backward pass, optimize\n",
    "        outputs = model(local_batch)\n",
    "        loss_batch = m_loss(outputs, local_labels)\n",
    "        batch_metric = m_snr(outputs, local_labels)\n",
    "        loss_batch.backward()\n",
    "        optimizer.step()\n",
    "\n",
    "        # Compute metrics to all batch\n",
    "        loss += loss_batch.item() * len(local_batch)\n",
    "        metric += batch_metric.item() * len(local_batch)\n",
    "\n",
    "        # Print the loss every \"verbose\" batches\n",
    "        if (i + 1) % config.verbose == 0:\n",
    "            _display_metrics(epoch, i, steps,\n",
    "                loss_batch.item(), batch_metric.item())\n",
    "\n",
    "    # Compute the statistics of the last epoch and save to history\n",
    "    history['loss'].append(loss / len(lsg))\n",
    "    history['SNR'].append(metric / len(lsg))\n",
    "\n",
    "    # Checkpoint the model\n",
    "    torch.save(model.state_dict(), config.checkpoint_path)\n",
    "    \n",
    "    # Print Validation statistics\n",
    "    print(\".:. Training metrics =\", end=\" \")\n",
    "    print(\"Loss: {}, SNR: {}\".format(loss / len(lsg), metric / len(lsg)))\n",
    "    \n",
    "    # ======================= Validation ============================ #\n",
    "    with torch.no_grad():\n",
    "        for local_batch, local_labels in ls_val_generator:\n",
    "            # Transfer to device\n",
    "            local_batch = local_batch.to(device)\n",
    "            local_labels = local_labels.to(device)\n",
    "\n",
    "            # Predict, get loss and metric\n",
    "            outputs = model(local_batch)\n",
    "            val_loss += m_loss(outputs, local_labels).item() \\\n",
    "                * len(local_batch)\n",
    "\n",
    "            val_metric += m_snr(outputs, local_labels).item() \\\n",
    "                * len(local_batch)\n",
    "\n",
    "        val_loss /= len(lsg_val)\n",
    "        val_metric /= len(lsg_val)\n",
    "                \n",
    "    # Print Validation statistics\n",
    "    print(\".:. Validation metrics =\", end=\" \")\n",
    "    print(\"Loss: {}, SNR: {}\".format(val_loss, val_metric))\n",
    "\n",
    "    # Compute the metrics and loss of last batch and save to history\n",
    "    history['val_loss'].append(val_loss)\n",
    "    history['val_SNR'].append(val_metric)\n",
    "    lr_scheduler.step(val_loss)"
   ]
  },
  {
   "cell_type": "code",
   "execution_count": 19,
   "metadata": {},
   "outputs": [],
   "source": [
    "# Save the last model\n",
    "torch.save(model.state_dict(), config.model_path)"
   ]
  },
  {
   "cell_type": "code",
   "execution_count": 20,
   "metadata": {},
   "outputs": [
    {
     "data": {
      "image/png": "[encoded data removed]",
      "text/plain": [
       "<Figure size 648x360 with 1 Axes>"
      ]
     },
     "metadata": {
      "needs_background": "light"
     },
     "output_type": "display_data"
    }
   ],
   "source": [
    "# Plot network history\n",
    "plt.figure(figsize=(9,5))\n",
    "plt.plot(history['loss'], label='train')\n",
    "plt.plot(history['val_loss'], label='val')\n",
    "plt.ylabel('Loss')\n",
    "plt.xlabel('Epoch')\n",
    "plt.title('Traning history')\n",
    "plt.legend()\n",
    "plt.show()"
   ]
  },
  {
   "cell_type": "code",
   "execution_count": 21,
   "metadata": {},
   "outputs": [
    {
     "data": {
      "image/png": "[encoded data removed]",
      "text/plain": [
       "<Figure size 648x360 with 1 Axes>"
      ]
     },
     "metadata": {
      "needs_background": "light"
     },
     "output_type": "display_data"
    }
   ],
   "source": [
    "# Plot network history\n",
    "plt.figure(figsize=(9,5))\n",
    "plt.plot(history['SNR'], label='train')\n",
    "plt.plot(history['val_SNR'], label='val')\n",
    "plt.ylabel('SNR')\n",
    "plt.xlabel('Epoch')\n",
    "plt.title('Traning history')\n",
    "plt.legend()\n",
    "plt.show()"
   ]
  },
  {
   "cell_type": "code",
   "execution_count": 22,
   "metadata": {},
   "outputs": [],
   "source": [
    "# Save history to a JSON file\n",
    "with open(config.history_path, 'w') as fp:\n",
    "    json.dump(history, fp)"
   ]
  },
  {
   "cell_type": "markdown",
   "metadata": {},
   "source": [
    "## Test"
   ]
  },
  {
   "cell_type": "code",
   "execution_count": 23,
   "metadata": {},
   "outputs": [],
   "source": [
    "X_test = torch.load(\"../data/processed/noisy/test/x_test.pt\")\n",
    "y_test = torch.load(\"../data/processed/noisy/test/y_test.pt\")"
   ]
  },
  {
   "cell_type": "code",
   "execution_count": 24,
   "metadata": {},
   "outputs": [],
   "source": [
    "lsg_test = LibriSpeechGenerator(config, X_test, y_test)\n",
    "ls_test_generator = data.DataLoader(lsg_test, **_params)"
   ]
  },
  {
   "cell_type": "code",
   "execution_count": 25,
   "metadata": {},
   "outputs": [
    {
     "data": {
      "text/plain": [
       "torch.Size([3874, 1, 65536])"
      ]
     },
     "execution_count": 25,
     "metadata": {},
     "output_type": "execute_result"
    }
   ],
   "source": [
    "X_test.shape"
   ]
  },
  {
   "cell_type": "code",
   "execution_count": 26,
   "metadata": {},
   "outputs": [
    {
     "name": "stdout",
     "output_type": "stream",
     "text": [
      "SNR (Test): 10.058753967285156\n"
     ]
    }
   ],
   "source": [
    "# Print validation metric before trainer\n",
    "print(\"SNR (Test): {}\".format(m_snr(lsg_test.X, lsg_test.y).item()))"
   ]
  },
  {
   "cell_type": "code",
   "execution_count": 27,
   "metadata": {},
   "outputs": [],
   "source": [
    "test_loss, test_metric = 0.0, 0.0\n",
    "with torch.no_grad():\n",
    "    for local_batch, local_labels in ls_test_generator:\n",
    "        # Transfer to device\n",
    "        local_batch = local_batch.to(device)\n",
    "        local_labels = local_labels.to(device)\n",
    "\n",
    "        # Predict, get loss and metric\n",
    "        outputs = model(local_batch)\n",
    "        test_loss += m_loss(outputs, local_labels).item() \\\n",
    "            * len(local_batch)\n",
    "\n",
    "        test_metric += m_snr(outputs, local_labels).item() \\\n",
    "            * len(local_batch)\n",
    "        \n",
    "        writer(local_batch, local_labels,\n",
    "               outputs, config.sr, config.writer_path)\n",
    "\n",
    "    test_loss /= len(lsg_test)\n",
    "    test_metric /= len(lsg_test)"
   ]
  },
  {
   "cell_type": "code",
   "execution_count": 28,
   "metadata": {},
   "outputs": [],
   "source": [
    "import os\n",
    "\n",
    "test_history = {\n",
    "    'SNR_ini': m_snr(lsg_test.X, lsg_test.y).item(),\n",
    "    'SNR': test_metric, \n",
    "    'loss': test_loss\n",
    "}\n",
    "\n",
    "# with open(os.path.join(config.writer_path, 'test_history.json') , 'w') as fp:\n",
    "#     json.dump(test_history, fp)"
   ]
  },
  {
   "cell_type": "code",
   "execution_count": 29,
   "metadata": {},
   "outputs": [
    {
     "data": {
      "text/plain": [
       "{'SNR_ini': 10.058753967285156,\n",
       " 'SNR': 15.73345841214284,\n",
       " 'loss': 0.006422024996731013}"
      ]
     },
     "execution_count": 29,
     "metadata": {},
     "output_type": "execute_result"
    }
   ],
   "source": [
    "test_history"
   ]
  },
  {
   "cell_type": "code",
   "execution_count": 30,
   "metadata": {},
   "outputs": [
    {
     "name": "stdout",
     "output_type": "stream",
     "text": [
      "CPU times: user 21.4 s, sys: 1.25 s, total: 22.6 s\n",
      "Wall time: 23.1 s\n"
     ]
    }
   ],
   "source": [
    "%%time\n",
    "with torch.no_grad():\n",
    "    for local_batch, local_labels in ls_test_generator:\n",
    "        # Transfer to device\n",
    "        local_batch = local_batch.to(device)\n",
    "        local_labels = local_labels.to(device)\n",
    "\n",
    "        # Predict, get loss and metric\n",
    "        outputs = model(local_batch)"
   ]
  },
  {
   "cell_type": "code",
   "execution_count": 32,
   "metadata": {},
   "outputs": [
    {
     "data": {
      "text/plain": [
       "torch.Size([3874, 1, 65536])"
      ]
     },
     "execution_count": 32,
     "metadata": {},
     "output_type": "execute_result"
    }
   ],
   "source": [
    "X_test.shape"
   ]
  },
  {
   "cell_type": "code",
   "execution_count": 33,
   "metadata": {},
   "outputs": [
    {
     "data": {
      "text/plain": [
       "0.005962829117191534"
      ]
     },
     "execution_count": 33,
     "metadata": {},
     "output_type": "execute_result"
    }
   ],
   "source": [
    "23.1/3874"
   ]
  },
  {
   "cell_type": "code",
   "execution_count": null,
   "metadata": {},
   "outputs": [],
   "source": [
    "0.006"
   ]
  },
  {
   "cell_type": "code",
   "execution_count": 35,
   "metadata": {},
   "outputs": [],
   "source": [
    "model = model.to(\"cpu\")"
   ]
  },
  {
   "cell_type": "code",
   "execution_count": 36,
   "metadata": {},
   "outputs": [
    {
     "name": "stdout",
     "output_type": "stream",
     "text": [
      "CPU times: user 37min 43s, sys: 5min 35s, total: 43min 18s\n",
      "Wall time: 17min 30s\n"
     ]
    }
   ],
   "source": [
    "%%time\n",
    "with torch.no_grad():\n",
    "    for local_batch, local_labels in ls_test_generator:\n",
    "        # Transfer to device\n",
    "        local_batch = local_batch.to(\"cpu\")\n",
    "        local_labels = local_labels.to(\"cpu\")\n",
    "\n",
    "        # Predict, get loss and metric\n",
    "        outputs = model(local_batch)"
   ]
  },
  {
   "cell_type": "code",
   "execution_count": null,
   "metadata": {},
   "outputs": [],
   "source": [
    "/3874"
   ]
  }
 ],
 "metadata": {
  "kernelspec": {
   "display_name": "sewunet",
   "language": "python",
   "name": "sewunet"
  },
  "language_info": {
   "codemirror_mode": {
    "name": "ipython",
    "version": 3
   },
   "file_extension": ".py",
   "mimetype": "text/x-python",
   "name": "python",
   "nbconvert_exporter": "python",
   "pygments_lexer": "ipython3",
   "version": "3.7.4"
  }
 },
 "nbformat": 4,
 "nbformat_minor": 2
}
