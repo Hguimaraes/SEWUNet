{
 "cells": [
  {
   "cell_type": "code",
   "execution_count": 1,
   "metadata": {},
   "outputs": [],
   "source": [
    "import copy\n",
    "import json\n",
    "import numpy as np\n",
    "import matplotlib.pyplot as plt\n",
    "\n",
    "from utils import ConfigObject\n",
    "from utils import reserve_pop\n",
    "from utils import id_generator\n",
    "from utils import writer\n",
    "from utils import LibriSpeechGenerator\n",
    "\n",
    "import torch\n",
    "import torch.nn as nn\n",
    "import torch.optim as optim\n",
    "from torch.utils import data\n",
    "import torch.nn.functional as F\n",
    "\n",
    "from parts import VSConvBlock\n",
    "from parts import DownSamplingBlock\n",
    "from parts import UpSamplingBlock\n",
    "from parts import OutBlock"
   ]
  },
  {
   "cell_type": "markdown",
   "metadata": {},
   "source": [
    "## Parameters"
   ]
  },
  {
   "cell_type": "code",
   "execution_count": 2,
   "metadata": {},
   "outputs": [],
   "source": [
    "jsonConfig = {\n",
    "    \"test_platform\": False,\n",
    "    \"ds_prop\": 0.25,\n",
    "    \"sr\": 16000,\n",
    "    \"n_samples\": 65536,\n",
    "    \n",
    "    \"n_channels\": 1,\n",
    "    \"n_classes\": 1,\n",
    "    \"depth\": 5,\n",
    "    \"fsize\": 24,\n",
    "    \"moffset\": 8,\n",
    "    \n",
    "    \"batch_size\": 48,\n",
    "    \"epochs\": 25,\n",
    "    \"shuffle\": True,\n",
    "    \"num_workers\": 8,\n",
    "    \"verbose\": 100,\n",
    "\n",
    "    \"checkpoint_path\": \"../models/model_checkpoint.pt\",\n",
    "    \"model_path\": \"../models/last_model.pt\",\n",
    "\n",
    "    \"save_last_batch\": True,\n",
    "    \"writer_path\": \"../logs/\",\n",
    "    \"history_path\": \"../logs/history.json\"\n",
    "}\n",
    "\n",
    "config = ConfigObject(**jsonConfig)"
   ]
  },
  {
   "cell_type": "code",
   "execution_count": 3,
   "metadata": {},
   "outputs": [],
   "source": [
    "# Data Loaders\n",
    "_params = {\n",
    "    'batch_size': config.batch_size,\n",
    "    'shuffle': config.shuffle,\n",
    "    'num_workers': config.num_workers\n",
    "}"
   ]
  },
  {
   "cell_type": "markdown",
   "metadata": {},
   "source": [
    "## Import Data"
   ]
  },
  {
   "cell_type": "code",
   "execution_count": 4,
   "metadata": {},
   "outputs": [],
   "source": [
    "X_train = torch.load(\"../data/processed/noisy/train/x_train.pt\")\n",
    "y_train = torch.load(\"../data/processed/noisy/train/y_train.pt\")\n",
    "X_val = torch.load(\"../data/processed/noisy/val/x_val.pt\")\n",
    "y_val = torch.load(\"../data/processed/noisy/val/y_val.pt\")"
   ]
  },
  {
   "cell_type": "markdown",
   "metadata": {},
   "source": [
    "## Data Generators"
   ]
  },
  {
   "cell_type": "code",
   "execution_count": 5,
   "metadata": {},
   "outputs": [],
   "source": [
    "# Data Generators\n",
    "lsg = LibriSpeechGenerator(config, X_train, y_train)\n",
    "lsg_val = LibriSpeechGenerator(config, X_val, y_val)\n",
    "\n",
    "ls_generator = data.DataLoader(lsg, **_params)\n",
    "ls_val_generator = data.DataLoader(lsg_val, **_params)"
   ]
  },
  {
   "cell_type": "markdown",
   "metadata": {},
   "source": [
    "## Model"
   ]
  },
  {
   "cell_type": "code",
   "execution_count": 6,
   "metadata": {},
   "outputs": [],
   "source": [
    "class SEWUNet(nn.Module):\n",
    "    def __init__(self, config, fd=15, fu=5):\n",
    "        \"\"\"Speech Enhancenment using Wave-U-Net\"\"\"\n",
    "        super(SEWUNet, self).__init__()\n",
    "\n",
    "        # Hyperparameters\n",
    "        self.n_channels = config.n_channels\n",
    "        self.n_classes = config.n_classes\n",
    "        self.depth = config.depth\n",
    "        self.fsize = config.fsize\n",
    "        self.moffset = config.moffset\n",
    "        self.fd = fd\n",
    "        self.fu = fu\n",
    "\n",
    "        # Generate the list of in, out channels for the encoder\n",
    "        self.enc_filters = [self.n_channels]\n",
    "        self.enc_filters += [self.fsize * i + self.moffset\n",
    "                             for i in range(1, self.depth + 1)]\n",
    "        self.n_encoder = zip(self.enc_filters, self.enc_filters[1:])\n",
    "\n",
    "        # Bottleneck block sizes\n",
    "        mid_in = self.fsize * self.depth + self.moffset\n",
    "        mid_out = self.fsize * (self.depth + 1) + self.moffset\n",
    "\n",
    "        # Generate the list of in, out channels for the decoder\n",
    "        self.out_dec = reserve_pop(self.enc_filters)\n",
    "        self.in_dec = [mid_out + self.enc_filters[-1]]\n",
    "        self.in_dec += [self.out_dec[i] + self.out_dec[i + 1]\n",
    "                        for i in range(self.depth - 1)]\n",
    "        self.n_decoder = zip(self.in_dec, self.out_dec)\n",
    "\n",
    "        # Architecture and parameters\n",
    "        self.encoder = nn.ModuleList()\n",
    "        self.decoder = nn.ModuleList()\n",
    "\n",
    "        # Build the encoder part of the U-net architecture\n",
    "        for i, (in_ch, out_ch) in enumerate(self.n_encoder):\n",
    "            self.encoder.append(DownSamplingBlock(\n",
    "                in_ch=in_ch,\n",
    "                out_ch=out_ch,\n",
    "                kernel_size=self.fd,\n",
    "                padding=self.fd // 2,\n",
    "                activation=nn.LeakyReLU(0.1))\n",
    "            )\n",
    "\n",
    "        # Bottleneck block for the U-net\n",
    "        self.mid_block = VSConvBlock(\n",
    "            in_ch=mid_in,\n",
    "            out_ch=mid_out,\n",
    "            kernel_size=self.fd,\n",
    "            padding=self.fd // 2,\n",
    "            activation=nn.LeakyReLU(0.1))\n",
    "\n",
    "        # Build the decoder part of the U-net architecture\n",
    "        for in_ch, out_ch in self.n_decoder:\n",
    "            self.decoder.append(UpSamplingBlock(\n",
    "                in_ch=in_ch,\n",
    "                out_ch=out_ch,\n",
    "                kernel_size=self.fu,\n",
    "                padding=self.fu // 2,\n",
    "                activation=nn.LeakyReLU(0.1))\n",
    "            )\n",
    "\n",
    "        # Output block\n",
    "        out_ch = self.out_dec[-1] + 1\n",
    "        self.out_block = OutBlock(\n",
    "            in_ch=out_ch,\n",
    "            out_ch=self.n_classes,\n",
    "            activation=nn.Tanh()\n",
    "        )\n",
    "\n",
    "    def forward(self, x):\n",
    "        \"\"\"\"\"\"\n",
    "        enc = []\n",
    "        net_in = copy.copy(x)\n",
    "\n",
    "        for i in range(self.depth):\n",
    "            x, xi = self.encoder[i](x)\n",
    "            enc.append(xi)\n",
    "\n",
    "        x = self.mid_block(x)\n",
    "\n",
    "        for i in range(self.depth):\n",
    "            x = self.decoder[i](x, enc.pop())\n",
    "\n",
    "        x = self.out_block(x, net_in)\n",
    "\n",
    "        return x"
   ]
  },
  {
   "cell_type": "markdown",
   "metadata": {},
   "source": [
    "## Trainer"
   ]
  },
  {
   "cell_type": "code",
   "execution_count": 7,
   "metadata": {},
   "outputs": [],
   "source": [
    "model = SEWUNet(config)"
   ]
  },
  {
   "cell_type": "code",
   "execution_count": 8,
   "metadata": {},
   "outputs": [],
   "source": [
    "# Training parameters\n",
    "device = torch.device('cuda' if torch.cuda.is_available() else 'cpu')\n",
    "history = {'loss': [], 'SNR': [], 'val_loss': [], 'val_SNR': []}"
   ]
  },
  {
   "cell_type": "code",
   "execution_count": 9,
   "metadata": {},
   "outputs": [],
   "source": [
    "def CustomMetric():\n",
    "    \"\"\"Calculate the SNR of X and Y\"\"\"\n",
    "    def SNR(X, Y):\n",
    "        n = X.shape[2]\n",
    "        return torch.mean(10 * torch.log10(\n",
    "            (torch.norm(Y, dim=2)**2 / n) /\n",
    "            (torch.norm(X - Y, dim=2)**2 / n)\n",
    "        ))\n",
    "    return SNR"
   ]
  },
  {
   "cell_type": "code",
   "execution_count": 10,
   "metadata": {},
   "outputs": [
    {
     "name": "stdout",
     "output_type": "stream",
     "text": [
      "SNR (Validation): 10.054699897766113\n"
     ]
    }
   ],
   "source": [
    "# Build optimizer\n",
    "optimizer = optim.Adam(\n",
    "    model.parameters(),\n",
    "    lr=1e-4,\n",
    "    weight_decay=1e-6,\n",
    "    betas=(0.9, 0.999))\n",
    "\n",
    "# lr_scheduler = torch.optim.lr_scheduler(optimizer)\n",
    "lr_scheduler = optim.lr_scheduler.ReduceLROnPlateau(optimizer, 'min', patience=5)\n",
    "\n",
    "# Loss and metric\n",
    "m_loss = nn.L1Loss()\n",
    "m_snr = CustomMetric()\n",
    "\n",
    "# Print validation metric before trainer\n",
    "print(\"SNR (Validation): {}\".format(m_snr(lsg_val.X, lsg_val.y).item()))"
   ]
  },
  {
   "cell_type": "code",
   "execution_count": 11,
   "metadata": {},
   "outputs": [],
   "source": [
    "# Copy model to device\n",
    "model = model.to(device)"
   ]
  },
  {
   "cell_type": "code",
   "execution_count": 12,
   "metadata": {},
   "outputs": [
    {
     "data": {
      "text/plain": [
       "1139372"
      ]
     },
     "execution_count": 12,
     "metadata": {},
     "output_type": "execute_result"
    }
   ],
   "source": [
    "# Calculate the number of trainable parameters in the model\n",
    "model_parameters = filter(lambda p: p.requires_grad, model.parameters())\n",
    "sum([np.prod(p.size()) for p in model_parameters])"
   ]
  },
  {
   "cell_type": "code",
   "execution_count": 13,
   "metadata": {},
   "outputs": [],
   "source": [
    "# Function to display trainning metrics\n",
    "def _display_metrics(epoch, it, steps, loss, metric):\n",
    "    print(\"Epoch [{:02d}/{:02d}]\".format(\n",
    "        epoch + 1, config.epochs), end=\", \")\n",
    "\n",
    "    print(\"Step [{:03d}/{:03d}]\".format(\n",
    "        it + 1, steps), end=\", \")\n",
    "\n",
    "    print(\"Loss: {}, SNR: {}\".format(\n",
    "        loss, metric))"
   ]
  },
  {
   "cell_type": "code",
   "execution_count": 14,
   "metadata": {
    "scrolled": true
   },
   "outputs": [
    {
     "name": "stdout",
     "output_type": "stream",
     "text": [
      "Epoch [01/25], Step [100/601], Loss: 0.030374711379408836, SNR: 1.4423359632492065\n",
      "Epoch [01/25], Step [200/601], Loss: 0.025987887755036354, SNR: 2.519078254699707\n",
      "Epoch [01/25], Step [300/601], Loss: 0.021038653329014778, SNR: 4.067327499389648\n",
      "Epoch [01/25], Step [400/601], Loss: 0.01700490340590477, SNR: 5.829517364501953\n",
      "Epoch [01/25], Step [500/601], Loss: 0.017695806920528412, SNR: 5.951719284057617\n",
      "Epoch [01/25], Step [600/601], Loss: 0.018825458362698555, SNR: 6.571954727172852\n",
      ".:. Training metrics = Loss: 0.02686677486615884, SNR: 3.3961466473724795\n",
      ".:. Validation metrics = Loss: 0.015913443002900065, SNR: 6.852880592921271\n",
      "Epoch [02/25], Step [100/601], Loss: 0.015488878823816776, SNR: 7.835616111755371\n",
      "Epoch [02/25], Step [200/601], Loss: 0.01611141674220562, SNR: 7.198607444763184\n",
      "Epoch [02/25], Step [300/601], Loss: 0.017060762271285057, SNR: 7.9488725662231445\n",
      "Epoch [02/25], Step [400/601], Loss: 0.018209032714366913, SNR: 8.487295150756836\n",
      "Epoch [02/25], Step [500/601], Loss: 0.015066825784742832, SNR: 8.171805381774902\n",
      "Epoch [02/25], Step [600/601], Loss: 0.01410262193530798, SNR: 8.064779281616211\n",
      ".:. Training metrics = Loss: 0.01572411877397573, SNR: 7.610792690145353\n",
      ".:. Validation metrics = Loss: 0.013012444107091023, SNR: 8.79031597990991\n",
      "Epoch [03/25], Step [100/601], Loss: 0.014132133685052395, SNR: 8.623005867004395\n",
      "Epoch [03/25], Step [200/601], Loss: 0.01785767637193203, SNR: 8.236312866210938\n",
      "Epoch [03/25], Step [300/601], Loss: 0.013661913573741913, SNR: 9.516456604003906\n",
      "Epoch [03/25], Step [400/601], Loss: 0.01321923453360796, SNR: 9.32182502746582\n",
      "Epoch [03/25], Step [500/601], Loss: 0.012241102755069733, SNR: 9.819380760192871\n",
      "Epoch [03/25], Step [600/601], Loss: 0.014886450953781605, SNR: 9.47415542602539\n",
      ".:. Training metrics = Loss: 0.01345540115670413, SNR: 9.07417442879716\n",
      ".:. Validation metrics = Loss: 0.011622500057088118, SNR: 9.993349299043677\n",
      "Epoch [04/25], Step [100/601], Loss: 0.01150378119200468, SNR: 10.323076248168945\n",
      "Epoch [04/25], Step [200/601], Loss: 0.012358687818050385, SNR: 10.114004135131836\n",
      "Epoch [04/25], Step [300/601], Loss: 0.014475946314632893, SNR: 9.550867080688477\n",
      "Epoch [04/25], Step [400/601], Loss: 0.012439767830073833, SNR: 9.797233581542969\n",
      "Epoch [04/25], Step [500/601], Loss: 0.01141445804387331, SNR: 10.764955520629883\n",
      "Epoch [04/25], Step [600/601], Loss: 0.011505752801895142, SNR: 10.69563102722168\n",
      ".:. Training metrics = Loss: 0.012327908487031565, SNR: 9.96073337024374\n",
      ".:. Validation metrics = Loss: 0.010795855788276076, SNR: 10.706975344153694\n",
      "Epoch [05/25], Step [100/601], Loss: 0.009732149541378021, SNR: 10.602455139160156\n",
      "Epoch [05/25], Step [200/601], Loss: 0.013345964252948761, SNR: 9.923957824707031\n",
      "Epoch [05/25], Step [300/601], Loss: 0.010765191167593002, SNR: 10.921224594116211\n",
      "Epoch [05/25], Step [400/601], Loss: 0.010524078272283077, SNR: 10.861473083496094\n",
      "Epoch [05/25], Step [500/601], Loss: 0.01084962859749794, SNR: 10.969775199890137\n",
      "Epoch [05/25], Step [600/601], Loss: 0.01000064704567194, SNR: 11.391544342041016\n",
      ".:. Training metrics = Loss: 0.011538630275469064, SNR: 10.682996240352153\n",
      ".:. Validation metrics = Loss: 0.010162999836003314, SNR: 11.370088751307874\n",
      "Epoch [06/25], Step [100/601], Loss: 0.011693176813423634, SNR: 10.874422073364258\n",
      "Epoch [06/25], Step [200/601], Loss: 0.010840772651135921, SNR: 11.403324127197266\n",
      "Epoch [06/25], Step [300/601], Loss: 0.009983177296817303, SNR: 10.810857772827148\n",
      "Epoch [06/25], Step [400/601], Loss: 0.011075603775680065, SNR: 11.926718711853027\n",
      "Epoch [06/25], Step [500/601], Loss: 0.009298623539507389, SNR: 12.055604934692383\n",
      "Epoch [06/25], Step [600/601], Loss: 0.009495793841779232, SNR: 11.931711196899414\n",
      ".:. Training metrics = Loss: 0.010760676394867082, SNR: 11.44439332264216\n",
      ".:. Validation metrics = Loss: 0.009558149515652398, SNR: 12.028755857906024\n",
      "Epoch [07/25], Step [100/601], Loss: 0.010150562040507793, SNR: 11.720458030700684\n",
      "Epoch [07/25], Step [200/601], Loss: 0.010359247215092182, SNR: 12.814041137695312\n",
      "Epoch [07/25], Step [300/601], Loss: 0.010063313879072666, SNR: 11.267245292663574\n",
      "Epoch [07/25], Step [400/601], Loss: 0.009714891202747822, SNR: 12.398433685302734\n",
      "Epoch [07/25], Step [500/601], Loss: 0.009220299310982227, SNR: 12.018622398376465\n",
      "Epoch [07/25], Step [600/601], Loss: 0.010233712382614613, SNR: 12.174426078796387\n",
      ".:. Training metrics = Loss: 0.010267352607730157, SNR: 11.88300321879179\n",
      ".:. Validation metrics = Loss: 0.00916327013521086, SNR: 12.405053677492058\n",
      "Epoch [08/25], Step [100/601], Loss: 0.00897193793207407, SNR: 12.517455101013184\n",
      "Epoch [08/25], Step [200/601], Loss: 0.00873430073261261, SNR: 12.106086730957031\n",
      "Epoch [08/25], Step [300/601], Loss: 0.008890989236533642, SNR: 12.143722534179688\n",
      "Epoch [08/25], Step [400/601], Loss: 0.009703400544822216, SNR: 12.356772422790527\n",
      "Epoch [08/25], Step [500/601], Loss: 0.009048259817063808, SNR: 12.71664810180664\n",
      "Epoch [08/25], Step [600/601], Loss: 0.010677345097064972, SNR: 12.113142013549805\n",
      ".:. Training metrics = Loss: 0.009893840456994313, SNR: 12.200022661238274\n",
      ".:. Validation metrics = Loss: 0.008995166566657409, SNR: 12.502662970193068\n",
      "Epoch [09/25], Step [100/601], Loss: 0.01002488937228918, SNR: 12.206966400146484\n",
      "Epoch [09/25], Step [200/601], Loss: 0.009449766017496586, SNR: 12.65620231628418\n",
      "Epoch [09/25], Step [300/601], Loss: 0.008336082100868225, SNR: 12.014266014099121\n",
      "Epoch [09/25], Step [400/601], Loss: 0.01045458484441042, SNR: 11.539920806884766\n",
      "Epoch [09/25], Step [500/601], Loss: 0.007838004268705845, SNR: 12.945629119873047\n",
      "Epoch [09/25], Step [600/601], Loss: 0.011212452314794064, SNR: 12.749122619628906\n",
      ".:. Training metrics = Loss: 0.009560328112576266, SNR: 12.481035689390946\n",
      ".:. Validation metrics = Loss: 0.008863379721153164, SNR: 12.75090479049945\n",
      "Epoch [10/25], Step [100/601], Loss: 0.009321671910583973, SNR: 12.614933013916016\n",
      "Epoch [10/25], Step [200/601], Loss: 0.009566494263708591, SNR: 12.807506561279297\n",
      "Epoch [10/25], Step [300/601], Loss: 0.01121886819601059, SNR: 13.186911582946777\n",
      "Epoch [10/25], Step [400/601], Loss: 0.007997122593224049, SNR: 12.505942344665527\n",
      "Epoch [10/25], Step [500/601], Loss: 0.007530496921390295, SNR: 12.57594108581543\n",
      "Epoch [10/25], Step [600/601], Loss: 0.008925567381083965, SNR: 12.930713653564453\n",
      ".:. Training metrics = Loss: 0.009308858977763075, SNR: 12.702984117610912\n",
      ".:. Validation metrics = Loss: 0.008410335120002851, SNR: 13.207135727909373\n",
      "Epoch [11/25], Step [100/601], Loss: 0.009131606668233871, SNR: 13.146286010742188\n",
      "Epoch [11/25], Step [200/601], Loss: 0.00921297911554575, SNR: 12.344621658325195\n",
      "Epoch [11/25], Step [300/601], Loss: 0.009419580921530724, SNR: 12.757491111755371\n",
      "Epoch [11/25], Step [400/601], Loss: 0.010384402237832546, SNR: 12.22198486328125\n",
      "Epoch [11/25], Step [500/601], Loss: 0.009374850429594517, SNR: 12.877985954284668\n",
      "Epoch [11/25], Step [600/601], Loss: 0.008547001518309116, SNR: 13.595218658447266\n",
      ".:. Training metrics = Loss: 0.009116848062270082, SNR: 12.865860137435483\n",
      ".:. Validation metrics = Loss: 0.008335519005652617, SNR: 13.12376333890974\n",
      "Epoch [12/25], Step [100/601], Loss: 0.008770598098635674, SNR: 13.593124389648438\n",
      "Epoch [12/25], Step [200/601], Loss: 0.008167142979800701, SNR: 13.548593521118164\n",
      "Epoch [12/25], Step [300/601], Loss: 0.008559761568903923, SNR: 13.315024375915527\n",
      "Epoch [12/25], Step [400/601], Loss: 0.007849876768887043, SNR: 13.011774063110352\n",
      "Epoch [12/25], Step [500/601], Loss: 0.009503181092441082, SNR: 13.678306579589844\n",
      "Epoch [12/25], Step [600/601], Loss: 0.009337297640740871, SNR: 12.367330551147461\n",
      ".:. Training metrics = Loss: 0.008957399053714761, SNR: 13.009264392013494\n",
      ".:. Validation metrics = Loss: 0.008422873488360613, SNR: 13.047201643668606\n",
      "Epoch [13/25], Step [100/601], Loss: 0.008445528335869312, SNR: 13.044975280761719\n",
      "Epoch [13/25], Step [200/601], Loss: 0.0087611498311162, SNR: 13.056709289550781\n",
      "Epoch [13/25], Step [300/601], Loss: 0.007481301203370094, SNR: 13.723451614379883\n",
      "Epoch [13/25], Step [400/601], Loss: 0.007907661609351635, SNR: 13.64527702331543\n",
      "Epoch [13/25], Step [500/601], Loss: 0.008194401860237122, SNR: 13.088203430175781\n",
      "Epoch [13/25], Step [600/601], Loss: 0.00894503016024828, SNR: 12.660388946533203\n"
     ]
    },
    {
     "name": "stdout",
     "output_type": "stream",
     "text": [
      ".:. Training metrics = Loss: 0.00880562871516109, SNR: 13.13613824398922\n",
      ".:. Validation metrics = Loss: 0.008033119228512593, SNR: 13.465049126702494\n",
      "Epoch [14/25], Step [100/601], Loss: 0.008598958142101765, SNR: 13.29907512664795\n",
      "Epoch [14/25], Step [200/601], Loss: 0.009447275660932064, SNR: 13.551454544067383\n",
      "Epoch [14/25], Step [300/601], Loss: 0.007572290953248739, SNR: 13.648750305175781\n",
      "Epoch [14/25], Step [400/601], Loss: 0.009446260519325733, SNR: 12.493220329284668\n",
      "Epoch [14/25], Step [500/601], Loss: 0.009803254157304764, SNR: 13.335979461669922\n",
      "Epoch [14/25], Step [600/601], Loss: 0.007723511662334204, SNR: 14.012449264526367\n",
      ".:. Training metrics = Loss: 0.008672314725805012, SNR: 13.257315841931948\n",
      ".:. Validation metrics = Loss: 0.007938712103751973, SNR: 13.6585177807731\n",
      "Epoch [15/25], Step [100/601], Loss: 0.009143084287643433, SNR: 13.605551719665527\n",
      "Epoch [15/25], Step [200/601], Loss: 0.006766834761947393, SNR: 13.580646514892578\n",
      "Epoch [15/25], Step [300/601], Loss: 0.008118001744151115, SNR: 13.110698699951172\n",
      "Epoch [15/25], Step [400/601], Loss: 0.008402722887694836, SNR: 13.413203239440918\n",
      "Epoch [15/25], Step [500/601], Loss: 0.008000380359590054, SNR: 12.99879264831543\n",
      "Epoch [15/25], Step [600/601], Loss: 0.0083457687869668, SNR: 13.335821151733398\n",
      ".:. Training metrics = Loss: 0.008567568673888366, SNR: 13.352548980990669\n",
      ".:. Validation metrics = Loss: 0.00800321021907207, SNR: 13.456081037513796\n",
      "Epoch [16/25], Step [100/601], Loss: 0.01047464832663536, SNR: 12.860514640808105\n",
      "Epoch [16/25], Step [200/601], Loss: 0.007918333634734154, SNR: 13.749998092651367\n",
      "Epoch [16/25], Step [300/601], Loss: 0.007880975492298603, SNR: 13.364124298095703\n",
      "Epoch [16/25], Step [400/601], Loss: 0.008090476505458355, SNR: 13.441859245300293\n",
      "Epoch [16/25], Step [500/601], Loss: 0.010905479080975056, SNR: 13.589254379272461\n",
      "Epoch [16/25], Step [600/601], Loss: 0.008306710980832577, SNR: 13.03160285949707\n",
      ".:. Training metrics = Loss: 0.008470933254942659, SNR: 13.447548711112644\n",
      ".:. Validation metrics = Loss: 0.007925250718241503, SNR: 13.54067074852121\n",
      "Epoch [17/25], Step [100/601], Loss: 0.00885631050914526, SNR: 13.537135124206543\n",
      "Epoch [17/25], Step [200/601], Loss: 0.00891209952533245, SNR: 12.74908447265625\n",
      "Epoch [17/25], Step [300/601], Loss: 0.009053509682416916, SNR: 13.394775390625\n",
      "Epoch [17/25], Step [400/601], Loss: 0.007838753052055836, SNR: 13.729361534118652\n",
      "Epoch [17/25], Step [500/601], Loss: 0.008388945832848549, SNR: 13.54384994506836\n",
      "Epoch [17/25], Step [600/601], Loss: 0.008619760163128376, SNR: 13.419005393981934\n",
      ".:. Training metrics = Loss: 0.008369444715223209, SNR: 13.543382912809117\n",
      ".:. Validation metrics = Loss: 0.007706734473986763, SNR: 13.961534557377842\n",
      "Epoch [18/25], Step [100/601], Loss: 0.0075419251807034016, SNR: 13.994190216064453\n",
      "Epoch [18/25], Step [200/601], Loss: 0.008541096933186054, SNR: 13.785441398620605\n",
      "Epoch [18/25], Step [300/601], Loss: 0.008058115839958191, SNR: 14.013782501220703\n",
      "Epoch [18/25], Step [400/601], Loss: 0.007868322543799877, SNR: 13.42029094696045\n",
      "Epoch [18/25], Step [500/601], Loss: 0.007144428323954344, SNR: 14.115396499633789\n",
      "Epoch [18/25], Step [600/601], Loss: 0.008089178241789341, SNR: 14.168855667114258\n",
      ".:. Training metrics = Loss: 0.008316454347350927, SNR: 13.60199361743806\n",
      ".:. Validation metrics = Loss: 0.00769175943681816, SNR: 13.876780387113662\n",
      "Epoch [19/25], Step [100/601], Loss: 0.007856560871005058, SNR: 13.463272094726562\n",
      "Epoch [19/25], Step [200/601], Loss: 0.010065379552543163, SNR: 13.218944549560547\n",
      "Epoch [19/25], Step [300/601], Loss: 0.00789313018321991, SNR: 13.591205596923828\n",
      "Epoch [19/25], Step [400/601], Loss: 0.008869769051671028, SNR: 14.04670524597168\n",
      "Epoch [19/25], Step [500/601], Loss: 0.007397511508315802, SNR: 12.945989608764648\n",
      "Epoch [19/25], Step [600/601], Loss: 0.008777656592428684, SNR: 13.645740509033203\n",
      ".:. Training metrics = Loss: 0.00826079971913175, SNR: 13.659672101008015\n",
      ".:. Validation metrics = Loss: 0.007623643742928947, SNR: 13.942799234730767\n",
      "Epoch [20/25], Step [100/601], Loss: 0.008548269979655743, SNR: 13.32568359375\n",
      "Epoch [20/25], Step [200/601], Loss: 0.008794561959803104, SNR: 13.498939514160156\n",
      "Epoch [20/25], Step [300/601], Loss: 0.008624942973256111, SNR: 13.181808471679688\n",
      "Epoch [20/25], Step [400/601], Loss: 0.008384371176362038, SNR: 13.464462280273438\n",
      "Epoch [20/25], Step [500/601], Loss: 0.007726997137069702, SNR: 13.890181541442871\n",
      "Epoch [20/25], Step [600/601], Loss: 0.008061692118644714, SNR: 13.959567070007324\n",
      ".:. Training metrics = Loss: 0.008164694420224088, SNR: 13.756283631796496\n",
      ".:. Validation metrics = Loss: 0.007668362897903287, SNR: 13.937672757560126\n",
      "Epoch [21/25], Step [100/601], Loss: 0.006655169650912285, SNR: 14.658918380737305\n",
      "Epoch [21/25], Step [200/601], Loss: 0.006961694452911615, SNR: 14.336688995361328\n",
      "Epoch [21/25], Step [300/601], Loss: 0.008591762743890285, SNR: 13.506317138671875\n",
      "Epoch [21/25], Step [400/601], Loss: 0.007413353770971298, SNR: 13.793035507202148\n",
      "Epoch [21/25], Step [500/601], Loss: 0.007258562836796045, SNR: 14.150615692138672\n",
      "Epoch [21/25], Step [600/601], Loss: 0.008249425329267979, SNR: 13.762267112731934\n",
      ".:. Training metrics = Loss: 0.008127562384414961, SNR: 13.795435318946343\n",
      ".:. Validation metrics = Loss: 0.007524435450656685, SNR: 14.072170118842923\n",
      "Epoch [22/25], Step [100/601], Loss: 0.008927145041525364, SNR: 13.572633743286133\n",
      "Epoch [22/25], Step [200/601], Loss: 0.008744043298065662, SNR: 13.922274589538574\n",
      "Epoch [22/25], Step [300/601], Loss: 0.008584749884903431, SNR: 13.13627815246582\n",
      "Epoch [22/25], Step [400/601], Loss: 0.0074969627894461155, SNR: 14.080709457397461\n",
      "Epoch [22/25], Step [500/601], Loss: 0.00812463741749525, SNR: 14.033332824707031\n",
      "Epoch [22/25], Step [600/601], Loss: 0.00816251989454031, SNR: 13.94486141204834\n",
      ".:. Training metrics = Loss: 0.008046759599355717, SNR: 13.873102160630086\n",
      ".:. Validation metrics = Loss: 0.007442225594589813, SNR: 14.155919304791976\n",
      "Epoch [23/25], Step [100/601], Loss: 0.00756129389628768, SNR: 14.130843162536621\n",
      "Epoch [23/25], Step [200/601], Loss: 0.0074678026139736176, SNR: 13.373491287231445\n",
      "Epoch [23/25], Step [300/601], Loss: 0.007578748743981123, SNR: 13.39676570892334\n",
      "Epoch [23/25], Step [400/601], Loss: 0.007177501916885376, SNR: 14.110098838806152\n",
      "Epoch [23/25], Step [500/601], Loss: 0.007011702749878168, SNR: 14.141718864440918\n",
      "Epoch [23/25], Step [600/601], Loss: 0.00959726795554161, SNR: 13.543566703796387\n",
      ".:. Training metrics = Loss: 0.008001465440925311, SNR: 13.925768098857963\n",
      ".:. Validation metrics = Loss: 0.007416806302110462, SNR: 14.25748585027792\n",
      "Epoch [24/25], Step [100/601], Loss: 0.007780115585774183, SNR: 13.062440872192383\n",
      "Epoch [24/25], Step [200/601], Loss: 0.009816666133701801, SNR: 13.63550090789795\n",
      "Epoch [24/25], Step [300/601], Loss: 0.008989192545413971, SNR: 13.408697128295898\n",
      "Epoch [24/25], Step [400/601], Loss: 0.0074070412665605545, SNR: 13.75839614868164\n",
      "Epoch [24/25], Step [500/601], Loss: 0.008723855949938297, SNR: 13.065540313720703\n",
      "Epoch [24/25], Step [600/601], Loss: 0.008593405596911907, SNR: 13.806228637695312\n",
      ".:. Training metrics = Loss: 0.00794605422267239, SNR: 13.981269843568667\n",
      ".:. Validation metrics = Loss: 0.007478555553331399, SNR: 14.095242363345337\n",
      "Epoch [25/25], Step [100/601], Loss: 0.007855836302042007, SNR: 14.158693313598633\n",
      "Epoch [25/25], Step [200/601], Loss: 0.009760483168065548, SNR: 13.407614707946777\n",
      "Epoch [25/25], Step [300/601], Loss: 0.007835139520466328, SNR: 14.033297538757324\n",
      "Epoch [25/25], Step [400/601], Loss: 0.007865894585847855, SNR: 14.0610990524292\n",
      "Epoch [25/25], Step [500/601], Loss: 0.007924246601760387, SNR: 13.75705337524414\n",
      "Epoch [25/25], Step [600/601], Loss: 0.00788192730396986, SNR: 13.893838882446289\n",
      ".:. Training metrics = Loss: 0.007892376720489876, SNR: 14.037979954650396\n",
      ".:. Validation metrics = Loss: 0.007321039006839162, SNR: 14.326055409699576\n"
     ]
    }
   ],
   "source": [
    "# Train the model over epochs\n",
    "steps = len(ls_generator)\n",
    "\n",
    "for epoch in range(config.epochs):\n",
    "    # training and val metrics for all data\n",
    "    loss, metric = 0.0, 0.0\n",
    "    val_loss, val_metric = 0.0, 0.0\n",
    "\n",
    "    # ======================== Training ============================= #\n",
    "    for i, (local_batch, local_labels) in enumerate(ls_generator):\n",
    "        # Transfer to Device\n",
    "        local_batch = local_batch.to(device)\n",
    "        local_labels = local_labels.to(device)\n",
    "\n",
    "        # Set gradient\n",
    "        optimizer.zero_grad()\n",
    "\n",
    "        # Forward pass, backward pass, optimize\n",
    "        outputs = model(local_batch)\n",
    "        loss_batch = m_loss(outputs, local_labels)\n",
    "        batch_metric = m_snr(outputs, local_labels)\n",
    "        loss_batch.backward()\n",
    "        optimizer.step()\n",
    "\n",
    "        # Compute metrics to all batch\n",
    "        loss += loss_batch.item() * len(local_batch)\n",
    "        metric += batch_metric.item() * len(local_batch)\n",
    "\n",
    "        # Print the loss every \"verbose\" batches\n",
    "        if (i + 1) % config.verbose == 0:\n",
    "            _display_metrics(epoch, i, steps,\n",
    "                loss_batch.item(), batch_metric.item())\n",
    "\n",
    "    # Compute the statistics of the last epoch and save to history\n",
    "    history['loss'].append(loss / len(lsg))\n",
    "    history['SNR'].append(metric / len(lsg))\n",
    "\n",
    "    # Checkpoint the model\n",
    "    torch.save(model.state_dict(), config.checkpoint_path)\n",
    "    \n",
    "    # Print Validation statistics\n",
    "    print(\".:. Training metrics =\", end=\" \")\n",
    "    print(\"Loss: {}, SNR: {}\".format(loss / len(lsg), metric / len(lsg)))\n",
    "    \n",
    "    # ======================= Validation ============================ #\n",
    "    with torch.no_grad():\n",
    "        for local_batch, local_labels in ls_val_generator:\n",
    "            # Transfer to device\n",
    "            local_batch = local_batch.to(device)\n",
    "            local_labels = local_labels.to(device)\n",
    "\n",
    "            # Predict, get loss and metric\n",
    "            outputs = model(local_batch)\n",
    "            val_loss += m_loss(outputs, local_labels).item() \\\n",
    "                * len(local_batch)\n",
    "\n",
    "            val_metric += m_snr(outputs, local_labels).item() \\\n",
    "                * len(local_batch)\n",
    "\n",
    "        val_loss /= len(lsg_val)\n",
    "        val_metric /= len(lsg_val)\n",
    "                \n",
    "    # Print Validation statistics\n",
    "    print(\".:. Validation metrics =\", end=\" \")\n",
    "    print(\"Loss: {}, SNR: {}\".format(val_loss, val_metric))\n",
    "\n",
    "    # Compute the metrics and loss of last batch and save to history\n",
    "    history['val_loss'].append(val_loss)\n",
    "    history['val_SNR'].append(val_metric)\n",
    "    lr_scheduler.step(val_loss)"
   ]
  },
  {
   "cell_type": "code",
   "execution_count": 15,
   "metadata": {},
   "outputs": [],
   "source": [
    "# Save the last model\n",
    "torch.save(model.state_dict(), config.model_path)"
   ]
  },
  {
   "cell_type": "code",
   "execution_count": 16,
   "metadata": {},
   "outputs": [
    {
     "data": {
      "image/png": "[encoded data removed]",
      "text/plain": [
       "<Figure size 648x360 with 1 Axes>"
      ]
     },
     "metadata": {
      "needs_background": "light"
     },
     "output_type": "display_data"
    }
   ],
   "source": [
    "# Plot network history\n",
    "plt.figure(figsize=(9,5))\n",
    "plt.plot(history['loss'], label='train')\n",
    "plt.plot(history['val_loss'], label='val')\n",
    "plt.ylabel('Loss')\n",
    "plt.xlabel('Epoch')\n",
    "plt.title('Traning history')\n",
    "plt.legend()\n",
    "plt.show()"
   ]
  },
  {
   "cell_type": "code",
   "execution_count": 17,
   "metadata": {},
   "outputs": [
    {
     "data": {
      "image/png": "[encoded data removed]",
      "text/plain": [
       "<Figure size 648x360 with 1 Axes>"
      ]
     },
     "metadata": {
      "needs_background": "light"
     },
     "output_type": "display_data"
    }
   ],
   "source": [
    "# Plot network history\n",
    "plt.figure(figsize=(9,5))\n",
    "plt.plot(history['SNR'], label='train')\n",
    "plt.plot(history['val_SNR'], label='val')\n",
    "plt.ylabel('SNR')\n",
    "plt.xlabel('Epoch')\n",
    "plt.title('Traning history')\n",
    "plt.legend()\n",
    "plt.show()"
   ]
  },
  {
   "cell_type": "code",
   "execution_count": 18,
   "metadata": {},
   "outputs": [],
   "source": [
    "# Save history to a JSON file\n",
    "with open(config.history_path, 'w') as fp:\n",
    "    json.dump(history, fp)"
   ]
  },
  {
   "cell_type": "markdown",
   "metadata": {},
   "source": [
    "## Test"
   ]
  },
  {
   "cell_type": "code",
   "execution_count": 19,
   "metadata": {},
   "outputs": [],
   "source": [
    "X_test = torch.load(\"../data/processed/noisy/test/x_test.pt\")\n",
    "y_test = torch.load(\"../data/processed/noisy/test/y_test.pt\")"
   ]
  },
  {
   "cell_type": "code",
   "execution_count": 20,
   "metadata": {},
   "outputs": [],
   "source": [
    "lsg_test = LibriSpeechGenerator(config, X_test, y_test)\n",
    "ls_test_generator = data.DataLoader(lsg_test, **_params)"
   ]
  },
  {
   "cell_type": "code",
   "execution_count": 21,
   "metadata": {},
   "outputs": [
    {
     "data": {
      "text/plain": [
       "torch.Size([3874, 1, 65536])"
      ]
     },
     "execution_count": 21,
     "metadata": {},
     "output_type": "execute_result"
    }
   ],
   "source": [
    "X_test.shape"
   ]
  },
  {
   "cell_type": "code",
   "execution_count": 22,
   "metadata": {},
   "outputs": [
    {
     "name": "stdout",
     "output_type": "stream",
     "text": [
      "SNR (Test): 10.054566383361816\n"
     ]
    }
   ],
   "source": [
    "# Print validation metric before trainer\n",
    "print(\"SNR (Test): {}\".format(m_snr(lsg_test.X, lsg_test.y).item()))"
   ]
  },
  {
   "cell_type": "code",
   "execution_count": 23,
   "metadata": {},
   "outputs": [],
   "source": [
    "test_loss, test_metric = 0.0, 0.0\n",
    "with torch.no_grad():\n",
    "    for local_batch, local_labels in ls_test_generator:\n",
    "        # Transfer to device\n",
    "        local_batch = local_batch.to(device)\n",
    "        local_labels = local_labels.to(device)\n",
    "\n",
    "        # Predict, get loss and metric\n",
    "        outputs = model(local_batch)\n",
    "        test_loss += m_loss(outputs, local_labels).item() \\\n",
    "            * len(local_batch)\n",
    "\n",
    "        test_metric += m_snr(outputs, local_labels).item() \\\n",
    "            * len(local_batch)\n",
    "        \n",
    "        writer(local_batch, local_labels,\n",
    "               outputs, config.sr, config.writer_path)\n",
    "\n",
    "    test_loss /= len(lsg_test)\n",
    "    test_metric /= len(lsg_test)"
   ]
  },
  {
   "cell_type": "code",
   "execution_count": 24,
   "metadata": {},
   "outputs": [],
   "source": [
    "import os\n",
    "\n",
    "test_history = {\n",
    "    'SNR_ini': m_snr(lsg_test.X, lsg_test.y).item(),\n",
    "    'SNR': val_metric, \n",
    "    'loss': val_loss\n",
    "}\n",
    "\n",
    "with open(os.path.join(config.writer_path, 'test_history.json') , 'w') as fp:\n",
    "    json.dump(test_history, fp)"
   ]
  }
 ],
 "metadata": {
  "kernelspec": {
   "display_name": "Python 3",
   "language": "python",
   "name": "python3"
  },
  "language_info": {
   "codemirror_mode": {
    "name": "ipython",
    "version": 3
   },
   "file_extension": ".py",
   "mimetype": "text/x-python",
   "name": "python",
   "nbconvert_exporter": "python",
   "pygments_lexer": "ipython3",
   "version": "3.7.0"
  }
 },
 "nbformat": 4,
 "nbformat_minor": 2
}
