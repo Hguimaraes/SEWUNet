{
 "cells": [
  {
   "cell_type": "code",
   "execution_count": 1,
   "metadata": {},
   "outputs": [],
   "source": [
    "import copy\n",
    "import json\n",
    "import numpy as np\n",
    "import matplotlib.pyplot as plt\n",
    "\n",
    "from utils import ConfigObject\n",
    "from utils import reserve_pop\n",
    "from utils import id_generator\n",
    "from utils import writer\n",
    "from utils import LibriSpeechGenerator\n",
    "\n",
    "import torch\n",
    "import torch.nn as nn\n",
    "import torch.optim as optim\n",
    "from torch.utils import data\n",
    "import torch.nn.functional as F\n",
    "\n",
    "from parts import VSConvBlock\n",
    "from parts import DownSamplingBlock\n",
    "from parts import UpSamplingBlock\n",
    "from parts import OutBlock"
   ]
  },
  {
   "cell_type": "markdown",
   "metadata": {},
   "source": [
    "## Parameters"
   ]
  },
  {
   "cell_type": "code",
   "execution_count": 2,
   "metadata": {},
   "outputs": [],
   "source": [
    "jsonConfig = {\n",
    "    \"test_platform\": False,\n",
    "    \"ds_prop\": 0.25,\n",
    "    \"sr\": 16000,\n",
    "    \"n_samples\": 65536,\n",
    "    \n",
    "    \"n_channels\": 1,\n",
    "    \"n_classes\": 1,\n",
    "    \"depth\": 5,\n",
    "    \"fsize\": 24,\n",
    "    \"moffset\": 8,\n",
    "    \n",
    "    \"batch_size\": 48,\n",
    "    \"epochs\": 25,\n",
    "    \"shuffle\": True,\n",
    "    \"num_workers\": 8,\n",
    "    \"verbose\": 100,\n",
    "\n",
    "    \"checkpoint_path\": \"../models/model_checkpoint.pt\",\n",
    "    \"model_path\": \"../models/last_model.pt\",\n",
    "\n",
    "    \"save_last_batch\": True,\n",
    "    \"writer_path\": \"../logs/\",\n",
    "    \"history_path\": \"../logs/history.json\"\n",
    "}\n",
    "\n",
    "config = ConfigObject(**jsonConfig)"
   ]
  },
  {
   "cell_type": "code",
   "execution_count": 3,
   "metadata": {},
   "outputs": [],
   "source": [
    "# Data Loaders\n",
    "_params = {\n",
    "    'batch_size': config.batch_size,\n",
    "    'shuffle': config.shuffle,\n",
    "    'num_workers': config.num_workers\n",
    "}"
   ]
  },
  {
   "cell_type": "markdown",
   "metadata": {},
   "source": [
    "## Import Data"
   ]
  },
  {
   "cell_type": "code",
   "execution_count": 4,
   "metadata": {},
   "outputs": [],
   "source": [
    "X_train = torch.load(\"../data/processed/noisy/train/x_train.pt\")\n",
    "y_train = torch.load(\"../data/processed/noisy/train/y_train.pt\")\n",
    "X_val = torch.load(\"../data/processed/noisy/val/x_val.pt\")\n",
    "y_val = torch.load(\"../data/processed/noisy/val/y_val.pt\")"
   ]
  },
  {
   "cell_type": "markdown",
   "metadata": {},
   "source": [
    "## Data Generators"
   ]
  },
  {
   "cell_type": "code",
   "execution_count": 5,
   "metadata": {},
   "outputs": [],
   "source": [
    "# Data Generators\n",
    "lsg = LibriSpeechGenerator(config, X_train, y_train)\n",
    "lsg_val = LibriSpeechGenerator(config, X_val, y_val)\n",
    "\n",
    "ls_generator = data.DataLoader(lsg, **_params)\n",
    "ls_val_generator = data.DataLoader(lsg_val, **_params)"
   ]
  },
  {
   "cell_type": "markdown",
   "metadata": {},
   "source": [
    "## Model"
   ]
  },
  {
   "cell_type": "code",
   "execution_count": 6,
   "metadata": {},
   "outputs": [],
   "source": [
    "class SEWUNet(nn.Module):\n",
    "    def __init__(self, config, fd=15, fu=5):\n",
    "        \"\"\"Speech Enhancenment using Wave-U-Net\"\"\"\n",
    "        super(SEWUNet, self).__init__()\n",
    "\n",
    "        # Hyperparameters\n",
    "        self.n_channels = config.n_channels\n",
    "        self.n_classes = config.n_classes\n",
    "        self.depth = config.depth\n",
    "        self.fsize = config.fsize\n",
    "        self.moffset = config.moffset\n",
    "        self.fd = fd\n",
    "        self.fu = fu\n",
    "\n",
    "        # Generate the list of in, out channels for the encoder\n",
    "        self.enc_filters = [self.n_channels]\n",
    "        self.enc_filters += [self.fsize * i + self.moffset\n",
    "                             for i in range(1, self.depth + 1)]\n",
    "        self.n_encoder = zip(self.enc_filters, self.enc_filters[1:])\n",
    "\n",
    "        # Bottleneck block sizes\n",
    "        mid_in = self.fsize * self.depth + self.moffset\n",
    "        mid_out = self.fsize * (self.depth + 1) + self.moffset\n",
    "\n",
    "        # Generate the list of in, out channels for the decoder\n",
    "        self.out_dec = reserve_pop(self.enc_filters)\n",
    "        self.in_dec = [mid_out + self.enc_filters[-1]]\n",
    "        self.in_dec += [self.out_dec[i] + self.out_dec[i + 1]\n",
    "                        for i in range(self.depth - 1)]\n",
    "        self.n_decoder = zip(self.in_dec, self.out_dec)\n",
    "\n",
    "        # Architecture and parameters\n",
    "        self.encoder = nn.ModuleList()\n",
    "        self.decoder = nn.ModuleList()\n",
    "\n",
    "        # Build the encoder part of the U-net architecture\n",
    "        for i, (in_ch, out_ch) in enumerate(self.n_encoder):\n",
    "            self.encoder.append(DownSamplingBlock(\n",
    "                in_ch=in_ch,\n",
    "                out_ch=out_ch,\n",
    "                kernel_size=self.fd,\n",
    "                padding=self.fd // 2,\n",
    "                activation=nn.LeakyReLU(0.1))\n",
    "            )\n",
    "\n",
    "        # Bottleneck block for the U-net\n",
    "        self.mid_block = VSConvBlock(\n",
    "            in_ch=mid_in,\n",
    "            out_ch=mid_out,\n",
    "            kernel_size=self.fd,\n",
    "            padding=self.fd // 2,\n",
    "            activation=nn.LeakyReLU(0.1))\n",
    "\n",
    "        # Build the decoder part of the U-net architecture\n",
    "        for in_ch, out_ch in self.n_decoder:\n",
    "            self.decoder.append(UpSamplingBlock(\n",
    "                in_ch=in_ch,\n",
    "                out_ch=out_ch,\n",
    "                kernel_size=self.fu,\n",
    "                padding=self.fu // 2,\n",
    "                activation=nn.LeakyReLU(0.1))\n",
    "            )\n",
    "\n",
    "        # Output block\n",
    "        out_ch = self.out_dec[-1] + 1\n",
    "        self.out_block = OutBlock(\n",
    "            in_ch=out_ch,\n",
    "            out_ch=self.n_classes,\n",
    "            activation=nn.Tanh()\n",
    "        )\n",
    "\n",
    "    def forward(self, x):\n",
    "        \"\"\"\"\"\"\n",
    "        enc = []\n",
    "        net_in = copy.copy(x)\n",
    "\n",
    "        for i in range(self.depth):\n",
    "            x, xi = self.encoder[i](x)\n",
    "            enc.append(xi)\n",
    "\n",
    "        x = self.mid_block(x)\n",
    "\n",
    "        for i in range(self.depth):\n",
    "            x = self.decoder[i](x, enc.pop())\n",
    "\n",
    "        x = self.out_block(x, net_in)\n",
    "\n",
    "        return x"
   ]
  },
  {
   "cell_type": "markdown",
   "metadata": {},
   "source": [
    "## Trainer"
   ]
  },
  {
   "cell_type": "code",
   "execution_count": 7,
   "metadata": {},
   "outputs": [],
   "source": [
    "model = SEWUNet(config)"
   ]
  },
  {
   "cell_type": "code",
   "execution_count": 8,
   "metadata": {},
   "outputs": [],
   "source": [
    "# Training parameters\n",
    "device = torch.device('cuda' if torch.cuda.is_available() else 'cpu')\n",
    "history = {'loss': [], 'SNR': [], 'val_loss': [], 'val_SNR': []}"
   ]
  },
  {
   "cell_type": "code",
   "execution_count": 9,
   "metadata": {},
   "outputs": [],
   "source": [
    "def CustomMetric():\n",
    "    \"\"\"Calculate the SNR of X and Y\"\"\"\n",
    "    def SNR(X, Y):\n",
    "        n = X.shape[2]\n",
    "        return torch.mean(10 * torch.log10(\n",
    "            (torch.norm(Y, dim=2)**2 / n) /\n",
    "            (torch.norm(X - Y, dim=2)**2 / n)\n",
    "        ))\n",
    "    return SNR"
   ]
  },
  {
   "cell_type": "code",
   "execution_count": 10,
   "metadata": {},
   "outputs": [
    {
     "name": "stdout",
     "output_type": "stream",
     "text": [
      "SNR (Validation): 10.054699897766113\n"
     ]
    }
   ],
   "source": [
    "# Build optimizer\n",
    "optimizer = optim.Adam(\n",
    "    model.parameters(),\n",
    "    lr=1e-4,\n",
    "    weight_decay=1e-6,\n",
    "    betas=(0.9, 0.999))\n",
    "\n",
    "# lr_scheduler = torch.optim.lr_scheduler(optimizer)\n",
    "lr_scheduler = optim.lr_scheduler.ReduceLROnPlateau(optimizer, 'min', patience=5)\n",
    "\n",
    "# Loss and metric\n",
    "m_loss = nn.MSELoss()\n",
    "m_snr = CustomMetric()\n",
    "\n",
    "# Print validation metric before trainer\n",
    "print(\"SNR (Validation): {}\".format(m_snr(lsg_val.X, lsg_val.y).item()))"
   ]
  },
  {
   "cell_type": "code",
   "execution_count": 11,
   "metadata": {},
   "outputs": [],
   "source": [
    "# Copy model to device\n",
    "model = model.to(device)"
   ]
  },
  {
   "cell_type": "code",
   "execution_count": 12,
   "metadata": {},
   "outputs": [
    {
     "data": {
      "text/plain": [
       "1139372"
      ]
     },
     "execution_count": 12,
     "metadata": {},
     "output_type": "execute_result"
    }
   ],
   "source": [
    "# Calculate the number of trainable parameters in the model\n",
    "model_parameters = filter(lambda p: p.requires_grad, model.parameters())\n",
    "sum([np.prod(p.size()) for p in model_parameters])"
   ]
  },
  {
   "cell_type": "code",
   "execution_count": 13,
   "metadata": {},
   "outputs": [],
   "source": [
    "# Function to display trainning metrics\n",
    "def _display_metrics(epoch, it, steps, loss, metric):\n",
    "    print(\"Epoch [{:02d}/{:02d}]\".format(\n",
    "        epoch + 1, config.epochs), end=\", \")\n",
    "\n",
    "    print(\"Step [{:03d}/{:03d}]\".format(\n",
    "        it + 1, steps), end=\", \")\n",
    "\n",
    "    print(\"Loss: {}, SNR: {}\".format(\n",
    "        loss, metric))"
   ]
  },
  {
   "cell_type": "code",
   "execution_count": 14,
   "metadata": {
    "scrolled": true
   },
   "outputs": [
    {
     "name": "stdout",
     "output_type": "stream",
     "text": [
      "Epoch [01/25], Step [100/601], Loss: 0.004173594061285257, SNR: 2.3572185039520264\n",
      "Epoch [01/25], Step [200/601], Loss: 0.0012096677673980594, SNR: 4.860001564025879\n",
      "Epoch [01/25], Step [300/601], Loss: 0.0010324857430532575, SNR: 5.783658504486084\n",
      "Epoch [01/25], Step [400/601], Loss: 0.0013897808967158198, SNR: 6.4828643798828125\n",
      "Epoch [01/25], Step [500/601], Loss: 0.0010488837724551558, SNR: 5.846757411956787\n",
      "Epoch [01/25], Step [600/601], Loss: 0.000812470680102706, SNR: 6.632773399353027\n",
      ".:. Training metrics = Loss: 0.0024411785847670273, SNR: 4.3999660737083195\n",
      ".:. Validation metrics = Loss: 0.0007492666077111394, SNR: 7.062937704226038\n",
      "Epoch [02/25], Step [100/601], Loss: 0.0008924038265831769, SNR: 6.842108726501465\n",
      "Epoch [02/25], Step [200/601], Loss: 0.0007004404324106872, SNR: 8.239566802978516\n",
      "Epoch [02/25], Step [300/601], Loss: 0.0007264420273713768, SNR: 8.375422477722168\n",
      "Epoch [02/25], Step [400/601], Loss: 0.0006336038932204247, SNR: 8.723115921020508\n",
      "Epoch [02/25], Step [500/601], Loss: 0.0011020269012078643, SNR: 8.685482025146484\n",
      "Epoch [02/25], Step [600/601], Loss: 0.00044421726488508284, SNR: 9.119462966918945\n",
      ".:. Training metrics = Loss: 0.0008696385660373412, SNR: 7.8368668836472395\n",
      ".:. Validation metrics = Loss: 0.0004862709455316479, SNR: 8.978430716205104\n",
      "Epoch [03/25], Step [100/601], Loss: 0.00044468927080743015, SNR: 8.377230644226074\n",
      "Epoch [03/25], Step [200/601], Loss: 0.0009048672509379685, SNR: 9.020599365234375\n",
      "Epoch [03/25], Step [300/601], Loss: 0.0005515599041245878, SNR: 9.913860321044922\n",
      "Epoch [03/25], Step [400/601], Loss: 0.000554222846403718, SNR: 9.084884643554688\n",
      "Epoch [03/25], Step [500/601], Loss: 0.0007228167378343642, SNR: 9.24433708190918\n",
      "Epoch [03/25], Step [600/601], Loss: 0.0003580716729629785, SNR: 10.214062690734863\n",
      ".:. Training metrics = Loss: 0.0006743602425270875, SNR: 9.073992167676908\n",
      ".:. Validation metrics = Loss: 0.00037546754986089866, SNR: 10.0682136714222\n",
      "Epoch [04/25], Step [100/601], Loss: 0.0007138095679692924, SNR: 9.84305477142334\n",
      "Epoch [04/25], Step [200/601], Loss: 0.00046179001219570637, SNR: 10.456732749938965\n",
      "Epoch [04/25], Step [300/601], Loss: 0.0007014122675172985, SNR: 9.696681022644043\n",
      "Epoch [04/25], Step [400/601], Loss: 0.00042093588854186237, SNR: 9.891119003295898\n",
      "Epoch [04/25], Step [500/601], Loss: 0.001040492788888514, SNR: 9.63111686706543\n",
      "Epoch [04/25], Step [600/601], Loss: 0.0005819927901029587, SNR: 9.324642181396484\n",
      ".:. Training metrics = Loss: 0.0005865152409933765, SNR: 9.820866084478281\n",
      ".:. Validation metrics = Loss: 0.00033355993304930723, SNR: 10.570890553758687\n",
      "Epoch [05/25], Step [100/601], Loss: 0.0003360157134011388, SNR: 10.391462326049805\n",
      "Epoch [05/25], Step [200/601], Loss: 0.0004596886283252388, SNR: 10.358860969543457\n",
      "Epoch [05/25], Step [300/601], Loss: 0.0005697012529708445, SNR: 10.044355392456055\n",
      "Epoch [05/25], Step [400/601], Loss: 0.00045228362432681024, SNR: 10.230868339538574\n",
      "Epoch [05/25], Step [500/601], Loss: 0.000729893974494189, SNR: 9.49074649810791\n",
      "Epoch [05/25], Step [600/601], Loss: 0.0004816738364752382, SNR: 10.223543167114258\n",
      ".:. Training metrics = Loss: 0.0005488284658275864, SNR: 10.199384210856985\n",
      ".:. Validation metrics = Loss: 0.00031598250587199634, SNR: 10.791263828262455\n",
      "Epoch [06/25], Step [100/601], Loss: 0.0005128246848471463, SNR: 10.5584716796875\n",
      "Epoch [06/25], Step [200/601], Loss: 0.00026991101913154125, SNR: 10.546503067016602\n",
      "Epoch [06/25], Step [300/601], Loss: 0.000330744223902002, SNR: 10.639993667602539\n",
      "Epoch [06/25], Step [400/601], Loss: 0.0004946693079546094, SNR: 10.311731338500977\n",
      "Epoch [06/25], Step [500/601], Loss: 0.0002973365772049874, SNR: 11.278048515319824\n",
      "Epoch [06/25], Step [600/601], Loss: 0.0006295863422565162, SNR: 10.884815216064453\n",
      ".:. Training metrics = Loss: 0.00052451638220915, SNR: 10.447874806815921\n",
      ".:. Validation metrics = Loss: 0.0002989233037012515, SNR: 11.129678085032547\n",
      "Epoch [07/25], Step [100/601], Loss: 0.000883331464137882, SNR: 11.12701416015625\n",
      "Epoch [07/25], Step [200/601], Loss: 0.0007478538318537176, SNR: 10.8551025390625\n",
      "Epoch [07/25], Step [300/601], Loss: 0.0004037386679556221, SNR: 10.201530456542969\n",
      "Epoch [07/25], Step [400/601], Loss: 0.00034574198070913553, SNR: 10.669294357299805\n",
      "Epoch [07/25], Step [500/601], Loss: 0.00048349564895033836, SNR: 10.92893123626709\n",
      "Epoch [07/25], Step [600/601], Loss: 0.0007722979062236845, SNR: 9.986137390136719\n",
      ".:. Training metrics = Loss: 0.0005038051304015193, SNR: 10.678095956951376\n",
      ".:. Validation metrics = Loss: 0.00028847330135770667, SNR: 11.209623757256178\n",
      "Epoch [08/25], Step [100/601], Loss: 0.0004883577930741012, SNR: 10.85541820526123\n",
      "Epoch [08/25], Step [200/601], Loss: 0.0013753524981439114, SNR: 10.577013969421387\n",
      "Epoch [08/25], Step [300/601], Loss: 0.0003347985912114382, SNR: 10.855705261230469\n",
      "Epoch [08/25], Step [400/601], Loss: 0.0006402847939170897, SNR: 10.910751342773438\n",
      "Epoch [08/25], Step [500/601], Loss: 0.0012156866723671556, SNR: 11.136114120483398\n",
      "Epoch [08/25], Step [600/601], Loss: 0.000482198636746034, SNR: 10.714289665222168\n",
      ".:. Training metrics = Loss: 0.000490280833391479, SNR: 10.791567185065706\n",
      ".:. Validation metrics = Loss: 0.0002803068226532155, SNR: 11.2483382965326\n",
      "Epoch [09/25], Step [100/601], Loss: 0.0006099282763898373, SNR: 10.88425064086914\n",
      "Epoch [09/25], Step [200/601], Loss: 0.0005886606522835791, SNR: 10.863364219665527\n",
      "Epoch [09/25], Step [300/601], Loss: 0.00040496140718460083, SNR: 10.776439666748047\n",
      "Epoch [09/25], Step [400/601], Loss: 0.00031323687289841473, SNR: 11.101818084716797\n",
      "Epoch [09/25], Step [500/601], Loss: 0.0006954915006645024, SNR: 11.138518333435059\n",
      "Epoch [09/25], Step [600/601], Loss: 0.0005376714398153126, SNR: 11.60976791381836\n",
      ".:. Training metrics = Loss: 0.0004720646654908476, SNR: 11.021757476847911\n",
      ".:. Validation metrics = Loss: 0.0002721166060071146, SNR: 11.651165150297095\n",
      "Epoch [10/25], Step [100/601], Loss: 0.0002898045349866152, SNR: 11.709017753601074\n",
      "Epoch [10/25], Step [200/601], Loss: 0.00067044427851215, SNR: 9.150690078735352\n",
      "Epoch [10/25], Step [300/601], Loss: 0.0006148247630335391, SNR: 11.13270378112793\n",
      "Epoch [10/25], Step [400/601], Loss: 0.0002805967815220356, SNR: 11.644488334655762\n",
      "Epoch [10/25], Step [500/601], Loss: 0.000411168992286548, SNR: 11.728456497192383\n",
      "Epoch [10/25], Step [600/601], Loss: 0.00040012449608184397, SNR: 11.47031021118164\n",
      ".:. Training metrics = Loss: 0.000457137712838489, SNR: 11.219027304542706\n",
      ".:. Validation metrics = Loss: 0.00025501320871149617, SNR: 11.83086337478222\n",
      "Epoch [11/25], Step [100/601], Loss: 0.0006070956587791443, SNR: 10.767004013061523\n",
      "Epoch [11/25], Step [200/601], Loss: 0.0002913983480539173, SNR: 11.649818420410156\n",
      "Epoch [11/25], Step [300/601], Loss: 0.00041271024383604527, SNR: 11.035039901733398\n",
      "Epoch [11/25], Step [400/601], Loss: 0.00033866733429022133, SNR: 11.980552673339844\n",
      "Epoch [11/25], Step [500/601], Loss: 0.0003339665418025106, SNR: 12.27908992767334\n",
      "Epoch [11/25], Step [600/601], Loss: 0.0002812756865750998, SNR: 11.707293510437012\n",
      ".:. Training metrics = Loss: 0.00044429398945773104, SNR: 11.378610095186113\n",
      ".:. Validation metrics = Loss: 0.000247700201647884, SNR: 12.022466942798017\n",
      "Epoch [12/25], Step [100/601], Loss: 0.00022805608750786632, SNR: 11.834928512573242\n",
      "Epoch [12/25], Step [200/601], Loss: 0.00031303594005294144, SNR: 11.346613883972168\n",
      "Epoch [12/25], Step [300/601], Loss: 0.0002797918568830937, SNR: 10.926886558532715\n",
      "Epoch [12/25], Step [400/601], Loss: 0.0002805281837936491, SNR: 11.658138275146484\n",
      "Epoch [12/25], Step [500/601], Loss: 0.00030677911126986146, SNR: 11.995697021484375\n",
      "Epoch [12/25], Step [600/601], Loss: 0.00028178977663628757, SNR: 11.605486869812012\n",
      ".:. Training metrics = Loss: 0.00043098921696719877, SNR: 11.57085147261632\n",
      ".:. Validation metrics = Loss: 0.00024220224264718512, SNR: 11.93246451940085\n",
      "Epoch [13/25], Step [100/601], Loss: 0.00046709770685993135, SNR: 11.552051544189453\n",
      "Epoch [13/25], Step [200/601], Loss: 0.0008959844126366079, SNR: 11.775861740112305\n",
      "Epoch [13/25], Step [300/601], Loss: 0.0006768770981580019, SNR: 11.589069366455078\n",
      "Epoch [13/25], Step [400/601], Loss: 0.00043690099846571684, SNR: 11.722084045410156\n"
     ]
    },
    {
     "name": "stdout",
     "output_type": "stream",
     "text": [
      "Epoch [13/25], Step [500/601], Loss: 0.0003057534631807357, SNR: 11.602294921875\n",
      "Epoch [13/25], Step [600/601], Loss: 0.00024723351816646755, SNR: 12.0018949508667\n",
      ".:. Training metrics = Loss: 0.0004215235308369857, SNR: 11.674252894298474\n",
      ".:. Validation metrics = Loss: 0.00023215054696020852, SNR: 12.204224843507216\n",
      "Epoch [14/25], Step [100/601], Loss: 0.0002771867730189115, SNR: 12.00037670135498\n",
      "Epoch [14/25], Step [200/601], Loss: 0.00035415159072726965, SNR: 11.914874076843262\n",
      "Epoch [14/25], Step [300/601], Loss: 0.0003540667239576578, SNR: 11.62820053100586\n",
      "Epoch [14/25], Step [400/601], Loss: 0.000334464741172269, SNR: 11.331193923950195\n",
      "Epoch [14/25], Step [500/601], Loss: 0.00021348509471863508, SNR: 12.389087677001953\n",
      "Epoch [14/25], Step [600/601], Loss: 0.0003040290903300047, SNR: 12.039443016052246\n",
      ".:. Training metrics = Loss: 0.00041055952625724195, SNR: 11.839220551959338\n",
      ".:. Validation metrics = Loss: 0.0002244953415033286, SNR: 12.441022446659373\n",
      "Epoch [15/25], Step [100/601], Loss: 0.0003974890860263258, SNR: 11.834246635437012\n",
      "Epoch [15/25], Step [200/601], Loss: 0.0002625522029120475, SNR: 11.783194541931152\n",
      "Epoch [15/25], Step [300/601], Loss: 0.00030699415947310627, SNR: 12.449577331542969\n",
      "Epoch [15/25], Step [400/601], Loss: 0.0002245881041744724, SNR: 12.407118797302246\n",
      "Epoch [15/25], Step [500/601], Loss: 0.00031618980574421585, SNR: 11.874114990234375\n",
      "Epoch [15/25], Step [600/601], Loss: 0.00024776405189186335, SNR: 11.653633117675781\n",
      ".:. Training metrics = Loss: 0.00039614129392912174, SNR: 12.066419870092261\n",
      ".:. Validation metrics = Loss: 0.00021677115593483404, SNR: 12.55092429080611\n",
      "Epoch [16/25], Step [100/601], Loss: 0.0003204004024155438, SNR: 12.248374938964844\n",
      "Epoch [16/25], Step [200/601], Loss: 0.0005267561064101756, SNR: 11.623140335083008\n",
      "Epoch [16/25], Step [300/601], Loss: 0.0002736300230026245, SNR: 12.452101707458496\n",
      "Epoch [16/25], Step [400/601], Loss: 0.00046802437282167375, SNR: 12.298524856567383\n",
      "Epoch [16/25], Step [500/601], Loss: 0.0012872936204075813, SNR: 11.573336601257324\n",
      "Epoch [16/25], Step [600/601], Loss: 0.0007314130780287087, SNR: 12.406667709350586\n",
      ".:. Training metrics = Loss: 0.0003888323942242123, SNR: 12.171125406134108\n",
      ".:. Validation metrics = Loss: 0.0002126120674397148, SNR: 12.475197398829668\n",
      "Epoch [17/25], Step [100/601], Loss: 0.00022666533186566085, SNR: 12.251850128173828\n",
      "Epoch [17/25], Step [200/601], Loss: 0.000275277387117967, SNR: 11.978494644165039\n",
      "Epoch [17/25], Step [300/601], Loss: 0.00027405557921156287, SNR: 11.78818416595459\n",
      "Epoch [17/25], Step [400/601], Loss: 0.00028272485360503197, SNR: 12.95914077758789\n",
      "Epoch [17/25], Step [500/601], Loss: 0.000740353949368, SNR: 12.41200065612793\n",
      "Epoch [17/25], Step [600/601], Loss: 0.000267998460913077, SNR: 12.53125286102295\n",
      ".:. Training metrics = Loss: 0.0003807010274519422, SNR: 12.296557510679152\n",
      ".:. Validation metrics = Loss: 0.00021146267703745422, SNR: 12.812527178330763\n",
      "Epoch [18/25], Step [100/601], Loss: 0.0002308445837115869, SNR: 12.26145076751709\n",
      "Epoch [18/25], Step [200/601], Loss: 0.00020366482203826308, SNR: 12.429450988769531\n",
      "Epoch [18/25], Step [300/601], Loss: 0.0003054453991353512, SNR: 11.713001251220703\n",
      "Epoch [18/25], Step [400/601], Loss: 0.0001727672788547352, SNR: 12.664164543151855\n",
      "Epoch [18/25], Step [500/601], Loss: 0.00023759959731251001, SNR: 11.657922744750977\n",
      "Epoch [18/25], Step [600/601], Loss: 0.0008379393839277327, SNR: 12.540069580078125\n",
      ".:. Training metrics = Loss: 0.0003802242618574333, SNR: 12.311790972560548\n",
      ".:. Validation metrics = Loss: 0.0002023728854234506, SNR: 12.807812561594094\n",
      "Epoch [19/25], Step [100/601], Loss: 0.0002512472274247557, SNR: 12.084513664245605\n",
      "Epoch [19/25], Step [200/601], Loss: 0.00020399573259055614, SNR: 12.561605453491211\n",
      "Epoch [19/25], Step [300/601], Loss: 0.000335353339323774, SNR: 12.471392631530762\n",
      "Epoch [19/25], Step [400/601], Loss: 0.00022678084496874362, SNR: 12.898260116577148\n",
      "Epoch [19/25], Step [500/601], Loss: 0.00019465794321149588, SNR: 13.182799339294434\n",
      "Epoch [19/25], Step [600/601], Loss: 0.00022081221686676145, SNR: 13.02437973022461\n",
      ".:. Training metrics = Loss: 0.00036971386537543616, SNR: 12.508106569091549\n",
      ".:. Validation metrics = Loss: 0.00019695955970744177, SNR: 12.972112408203916\n",
      "Epoch [20/25], Step [100/601], Loss: 0.0002567448827903718, SNR: 13.117982864379883\n",
      "Epoch [20/25], Step [200/601], Loss: 0.00033644112409092486, SNR: 12.19548225402832\n",
      "Epoch [20/25], Step [300/601], Loss: 0.0002371972514083609, SNR: 12.876607894897461\n",
      "Epoch [20/25], Step [400/601], Loss: 0.00031950388802215457, SNR: 12.887721061706543\n",
      "Epoch [20/25], Step [500/601], Loss: 0.00023346989473793656, SNR: 12.499789237976074\n",
      "Epoch [20/25], Step [600/601], Loss: 0.0004198931565042585, SNR: 12.890024185180664\n",
      ".:. Training metrics = Loss: 0.00036462331700605135, SNR: 12.570666282218886\n",
      ".:. Validation metrics = Loss: 0.0001975777932074851, SNR: 12.906350762589966\n",
      "Epoch [21/25], Step [100/601], Loss: 0.00022292614448815584, SNR: 13.510154724121094\n",
      "Epoch [21/25], Step [200/601], Loss: 0.0004866952949669212, SNR: 12.88300609588623\n",
      "Epoch [21/25], Step [300/601], Loss: 0.00024348862643819302, SNR: 12.781916618347168\n",
      "Epoch [21/25], Step [400/601], Loss: 0.00022874015849083662, SNR: 12.678061485290527\n",
      "Epoch [21/25], Step [500/601], Loss: 0.0002606232592370361, SNR: 12.629938125610352\n",
      "Epoch [21/25], Step [600/601], Loss: 0.0002234486601082608, SNR: 12.669371604919434\n",
      ".:. Training metrics = Loss: 0.0003599550271027769, SNR: 12.647811687167497\n",
      ".:. Validation metrics = Loss: 0.00020460791843240065, SNR: 12.6719269685662\n",
      "Epoch [22/25], Step [100/601], Loss: 0.00028002055478282273, SNR: 13.25297737121582\n",
      "Epoch [22/25], Step [200/601], Loss: 0.0002551249344833195, SNR: 11.949103355407715\n",
      "Epoch [22/25], Step [300/601], Loss: 0.00015871836512815207, SNR: 13.274638175964355\n",
      "Epoch [22/25], Step [400/601], Loss: 0.00029061854002065957, SNR: 12.503414154052734\n",
      "Epoch [22/25], Step [500/601], Loss: 0.0003512817493174225, SNR: 12.286140441894531\n",
      "Epoch [22/25], Step [600/601], Loss: 0.0001979896769626066, SNR: 13.243093490600586\n",
      ".:. Training metrics = Loss: 0.00035685547115731726, SNR: 12.700461306383964\n",
      ".:. Validation metrics = Loss: 0.0001895322695874696, SNR: 13.141671866028751\n",
      "Epoch [23/25], Step [100/601], Loss: 0.00020640098955482244, SNR: 12.295560836791992\n",
      "Epoch [23/25], Step [200/601], Loss: 0.00031617816421203315, SNR: 12.903429985046387\n",
      "Epoch [23/25], Step [300/601], Loss: 0.0002278605243191123, SNR: 12.923847198486328\n",
      "Epoch [23/25], Step [400/601], Loss: 0.00026194078964181244, SNR: 13.262655258178711\n",
      "Epoch [23/25], Step [500/601], Loss: 0.0001696162362350151, SNR: 13.499701499938965\n",
      "Epoch [23/25], Step [600/601], Loss: 0.00026032738969661295, SNR: 12.535045623779297\n",
      ".:. Training metrics = Loss: 0.00035411787366417853, SNR: 12.746785315467282\n",
      ".:. Validation metrics = Loss: 0.00019111808219189806, SNR: 13.022382785642755\n",
      "Epoch [24/25], Step [100/601], Loss: 0.00020173513621557504, SNR: 12.899428367614746\n",
      "Epoch [24/25], Step [200/601], Loss: 0.0005073242355138063, SNR: 12.196803092956543\n",
      "Epoch [24/25], Step [300/601], Loss: 0.000769201957155019, SNR: 12.453519821166992\n",
      "Epoch [24/25], Step [400/601], Loss: 0.00038198890979401767, SNR: 13.094552993774414\n",
      "Epoch [24/25], Step [500/601], Loss: 0.0003047927748411894, SNR: 12.588821411132812\n",
      "Epoch [24/25], Step [600/601], Loss: 0.0009670751169323921, SNR: 12.71967601776123\n",
      ".:. Training metrics = Loss: 0.0003495523247858958, SNR: 12.82454962925349\n",
      ".:. Validation metrics = Loss: 0.00019065086164435875, SNR: 13.094684253007575\n",
      "Epoch [25/25], Step [100/601], Loss: 0.0005080761038698256, SNR: 12.29006576538086\n",
      "Epoch [25/25], Step [200/601], Loss: 0.00017908452718984336, SNR: 13.04764461517334\n",
      "Epoch [25/25], Step [300/601], Loss: 0.00020770558330696076, SNR: 13.23371410369873\n",
      "Epoch [25/25], Step [400/601], Loss: 0.00022830218949820846, SNR: 13.417991638183594\n",
      "Epoch [25/25], Step [500/601], Loss: 0.00018507234926801175, SNR: 13.038232803344727\n",
      "Epoch [25/25], Step [600/601], Loss: 0.00033650975092314184, SNR: 12.811537742614746\n",
      ".:. Training metrics = Loss: 0.00034656966438908956, SNR: 12.87779565860959\n",
      ".:. Validation metrics = Loss: 0.00018664393786216438, SNR: 13.195337226169508\n"
     ]
    }
   ],
   "source": [
    "# Train the model over epochs\n",
    "steps = len(ls_generator)\n",
    "\n",
    "for epoch in range(config.epochs):\n",
    "    # training and val metrics for all data\n",
    "    loss, metric = 0.0, 0.0\n",
    "    val_loss, val_metric = 0.0, 0.0\n",
    "\n",
    "    # ======================== Training ============================= #\n",
    "    for i, (local_batch, local_labels) in enumerate(ls_generator):\n",
    "        # Transfer to Device\n",
    "        local_batch = local_batch.to(device)\n",
    "        local_labels = local_labels.to(device)\n",
    "\n",
    "        # Set gradient\n",
    "        optimizer.zero_grad()\n",
    "\n",
    "        # Forward pass, backward pass, optimize\n",
    "        outputs = model(local_batch)\n",
    "        loss_batch = m_loss(outputs, local_labels)\n",
    "        batch_metric = m_snr(outputs, local_labels)\n",
    "        loss_batch.backward()\n",
    "        optimizer.step()\n",
    "\n",
    "        # Compute metrics to all batch\n",
    "        loss += loss_batch.item() * len(local_batch)\n",
    "        metric += batch_metric.item() * len(local_batch)\n",
    "\n",
    "        # Print the loss every \"verbose\" batches\n",
    "        if (i + 1) % config.verbose == 0:\n",
    "            _display_metrics(epoch, i, steps,\n",
    "                loss_batch.item(), batch_metric.item())\n",
    "\n",
    "    # Compute the statistics of the last epoch and save to history\n",
    "    history['loss'].append(loss / len(lsg))\n",
    "    history['SNR'].append(metric / len(lsg))\n",
    "\n",
    "    # Checkpoint the model\n",
    "    torch.save(model.state_dict(), config.checkpoint_path)\n",
    "    \n",
    "    # Print Validation statistics\n",
    "    print(\".:. Training metrics =\", end=\" \")\n",
    "    print(\"Loss: {}, SNR: {}\".format(loss / len(lsg), metric / len(lsg)))\n",
    "    \n",
    "    # ======================= Validation ============================ #\n",
    "    with torch.no_grad():\n",
    "        for local_batch, local_labels in ls_val_generator:\n",
    "            # Transfer to device\n",
    "            local_batch = local_batch.to(device)\n",
    "            local_labels = local_labels.to(device)\n",
    "\n",
    "            # Predict, get loss and metric\n",
    "            outputs = model(local_batch)\n",
    "            val_loss += m_loss(outputs, local_labels).item() \\\n",
    "                * len(local_batch)\n",
    "\n",
    "            val_metric += m_snr(outputs, local_labels).item() \\\n",
    "                * len(local_batch)\n",
    "\n",
    "        val_loss /= len(lsg_val)\n",
    "        val_metric /= len(lsg_val)\n",
    "                \n",
    "    # Print Validation statistics\n",
    "    print(\".:. Validation metrics =\", end=\" \")\n",
    "    print(\"Loss: {}, SNR: {}\".format(val_loss, val_metric))\n",
    "\n",
    "    # Compute the metrics and loss of last batch and save to history\n",
    "    history['val_loss'].append(val_loss)\n",
    "    history['val_SNR'].append(val_metric)\n",
    "    lr_scheduler.step(val_loss)"
   ]
  },
  {
   "cell_type": "code",
   "execution_count": 15,
   "metadata": {},
   "outputs": [],
   "source": [
    "# Save the last model\n",
    "torch.save(model.state_dict(), config.model_path)"
   ]
  },
  {
   "cell_type": "code",
   "execution_count": 29,
   "metadata": {},
   "outputs": [
    {
     "data": {
      "image/png": "[encoded data removed]",
      "text/plain": [
       "<Figure size 648x360 with 1 Axes>"
      ]
     },
     "metadata": {
      "needs_background": "light"
     },
     "output_type": "display_data"
    }
   ],
   "source": [
    "# Plot network history\n",
    "plt.figure(figsize=(9,5))\n",
    "plt.plot(history['loss'], label='train')\n",
    "plt.plot(history['val_loss'], label='val')\n",
    "plt.ylabel('Loss')\n",
    "plt.xlabel('Epoch')\n",
    "plt.title('Traning history')\n",
    "plt.legend()\n",
    "plt.show()"
   ]
  },
  {
   "cell_type": "code",
   "execution_count": 28,
   "metadata": {},
   "outputs": [
    {
     "data": {
      "image/png": "[encoded data removed]",
      "text/plain": [
       "<Figure size 648x360 with 1 Axes>"
      ]
     },
     "metadata": {
      "needs_background": "light"
     },
     "output_type": "display_data"
    }
   ],
   "source": [
    "# Plot network history\n",
    "plt.figure(figsize=(9,5))\n",
    "plt.plot(history['SNR'], label='train')\n",
    "plt.plot(history['val_SNR'], label='val')\n",
    "plt.ylabel('SNR')\n",
    "plt.xlabel('Epoch')\n",
    "plt.title('Traning history')\n",
    "plt.legend()\n",
    "plt.show()"
   ]
  },
  {
   "cell_type": "code",
   "execution_count": 18,
   "metadata": {},
   "outputs": [],
   "source": [
    "# Save history to a JSON file\n",
    "with open(config.history_path, 'w') as fp:\n",
    "    json.dump(history, fp)"
   ]
  },
  {
   "cell_type": "markdown",
   "metadata": {},
   "source": [
    "## Test"
   ]
  },
  {
   "cell_type": "code",
   "execution_count": 19,
   "metadata": {},
   "outputs": [],
   "source": [
    "X_test = torch.load(\"../data/processed/noisy/test/x_test.pt\")\n",
    "y_test = torch.load(\"../data/processed/noisy/test/y_test.pt\")"
   ]
  },
  {
   "cell_type": "code",
   "execution_count": 20,
   "metadata": {},
   "outputs": [],
   "source": [
    "lsg_test = LibriSpeechGenerator(config, X_test, y_test)\n",
    "ls_test_generator = data.DataLoader(lsg_test, **_params)"
   ]
  },
  {
   "cell_type": "code",
   "execution_count": 21,
   "metadata": {},
   "outputs": [
    {
     "data": {
      "text/plain": [
       "torch.Size([3874, 1, 65536])"
      ]
     },
     "execution_count": 21,
     "metadata": {},
     "output_type": "execute_result"
    }
   ],
   "source": [
    "X_test.shape"
   ]
  },
  {
   "cell_type": "code",
   "execution_count": 22,
   "metadata": {},
   "outputs": [
    {
     "name": "stdout",
     "output_type": "stream",
     "text": [
      "SNR (Test): 10.054566383361816\n"
     ]
    }
   ],
   "source": [
    "# Print validation metric before trainer\n",
    "print(\"SNR (Test): {}\".format(m_snr(lsg_test.X, lsg_test.y).item()))"
   ]
  },
  {
   "cell_type": "code",
   "execution_count": 23,
   "metadata": {},
   "outputs": [],
   "source": [
    "test_loss, test_metric = 0.0, 0.0\n",
    "with torch.no_grad():\n",
    "    for local_batch, local_labels in ls_test_generator:\n",
    "        # Transfer to device\n",
    "        local_batch = local_batch.to(device)\n",
    "        local_labels = local_labels.to(device)\n",
    "\n",
    "        # Predict, get loss and metric\n",
    "        outputs = model(local_batch)\n",
    "        test_loss += m_loss(outputs, local_labels).item() \\\n",
    "            * len(local_batch)\n",
    "\n",
    "        test_metric += m_snr(outputs, local_labels).item() \\\n",
    "            * len(local_batch)\n",
    "        \n",
    "        writer(local_batch, local_labels,\n",
    "               outputs, config.sr, config.writer_path)\n",
    "\n",
    "    test_loss /= len(lsg_test)\n",
    "    test_metric /= len(lsg_test)"
   ]
  },
  {
   "cell_type": "code",
   "execution_count": 25,
   "metadata": {},
   "outputs": [],
   "source": [
    "import os\n",
    "\n",
    "test_history = {\n",
    "    'SNR_ini': m_snr(lsg_test.X, lsg_test.y).item(),\n",
    "    'SNR': val_metric, \n",
    "    'loss': val_loss\n",
    "}\n",
    "\n",
    "with open(os.path.join(config.writer_path, 'test_history.json') , 'w') as fp:\n",
    "    json.dump(test_history, fp)"
   ]
  }
 ],
 "metadata": {
  "kernelspec": {
   "display_name": "Python 3",
   "language": "python",
   "name": "python3"
  },
  "language_info": {
   "codemirror_mode": {
    "name": "ipython",
    "version": 3
   },
   "file_extension": ".py",
   "mimetype": "text/x-python",
   "name": "python",
   "nbconvert_exporter": "python",
   "pygments_lexer": "ipython3",
   "version": "3.7.0"
  }
 },
 "nbformat": 4,
 "nbformat_minor": 2
}
