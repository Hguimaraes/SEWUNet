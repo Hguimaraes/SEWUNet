{
 "cells": [
  {
   "cell_type": "code",
   "execution_count": 1,
   "metadata": {},
   "outputs": [],
   "source": [
    "import copy\n",
    "import json\n",
    "import numpy as np\n",
    "import matplotlib.pyplot as plt\n",
    "\n",
    "from utils import ConfigObject\n",
    "from utils import reserve_pop\n",
    "from utils import id_generator\n",
    "from utils import writer\n",
    "from utils import LibriSpeechGenerator\n",
    "\n",
    "import torch\n",
    "import torch.nn as nn\n",
    "import torch.optim as optim\n",
    "from torch.utils import data\n",
    "import torch.nn.functional as F\n",
    "\n",
    "from parts import VSConvBlock\n",
    "from parts import DownSamplingBlock\n",
    "from parts import UpSamplingBlock\n",
    "from parts import OutBlock"
   ]
  },
  {
   "cell_type": "markdown",
   "metadata": {},
   "source": [
    "## Parameters"
   ]
  },
  {
   "cell_type": "code",
   "execution_count": 2,
   "metadata": {},
   "outputs": [],
   "source": [
    "jsonConfig = {\n",
    "    \"test_platform\": False,\n",
    "    \"ds_prop\": 0.25,\n",
    "    \"sr\": 16000,\n",
    "    \"n_samples\": 65536,\n",
    "    \n",
    "    \"n_channels\": 1,\n",
    "    \"n_classes\": 1,\n",
    "    \"depth\": 5,\n",
    "    \"fsize\": 24,\n",
    "    \"moffset\": 8,\n",
    "    \n",
    "    \"batch_size\": 48,\n",
    "    \"epochs\": 25,\n",
    "    \"shuffle\": True,\n",
    "    \"num_workers\": 8,\n",
    "    \"verbose\": 100,\n",
    "\n",
    "    \"checkpoint_path\": \"../models/model_checkpoint.pt\",\n",
    "    \"model_path\": \"../models/last_model.pt\",\n",
    "\n",
    "    \"save_last_batch\": True,\n",
    "    \"writer_path\": \"../logs/\",\n",
    "    \"history_path\": \"../logs/history.json\"\n",
    "}\n",
    "\n",
    "config = ConfigObject(**jsonConfig)"
   ]
  },
  {
   "cell_type": "code",
   "execution_count": 3,
   "metadata": {},
   "outputs": [],
   "source": [
    "# Data Loaders\n",
    "_params = {\n",
    "    'batch_size': config.batch_size,\n",
    "    'shuffle': config.shuffle,\n",
    "    'num_workers': config.num_workers\n",
    "}"
   ]
  },
  {
   "cell_type": "markdown",
   "metadata": {},
   "source": [
    "## Import Data"
   ]
  },
  {
   "cell_type": "code",
   "execution_count": 4,
   "metadata": {},
   "outputs": [],
   "source": [
    "X_train = torch.load(\"../data/processed/noisy/train/x_train.pt\")\n",
    "y_train = torch.load(\"../data/processed/noisy/train/y_train.pt\")\n",
    "X_val = torch.load(\"../data/processed/noisy/val/x_val.pt\")\n",
    "y_val = torch.load(\"../data/processed/noisy/val/y_val.pt\")"
   ]
  },
  {
   "cell_type": "markdown",
   "metadata": {},
   "source": [
    "## Data Generators"
   ]
  },
  {
   "cell_type": "code",
   "execution_count": 5,
   "metadata": {},
   "outputs": [],
   "source": [
    "# Data Generators\n",
    "lsg = LibriSpeechGenerator(config, X_train, y_train)\n",
    "lsg_val = LibriSpeechGenerator(config, X_val, y_val)\n",
    "\n",
    "ls_generator = data.DataLoader(lsg, **_params)\n",
    "ls_val_generator = data.DataLoader(lsg_val, **_params)"
   ]
  },
  {
   "cell_type": "markdown",
   "metadata": {},
   "source": [
    "## Model"
   ]
  },
  {
   "cell_type": "code",
   "execution_count": 6,
   "metadata": {},
   "outputs": [],
   "source": [
    "class SEWUNet(nn.Module):\n",
    "    def __init__(self, config, fd=15, fu=5):\n",
    "        \"\"\"Speech Enhancenment using Wave-U-Net\"\"\"\n",
    "        super(SEWUNet, self).__init__()\n",
    "\n",
    "        # Hyperparameters\n",
    "        self.n_channels = config.n_channels\n",
    "        self.n_classes = config.n_classes\n",
    "        self.depth = config.depth\n",
    "        self.fsize = config.fsize\n",
    "        self.moffset = config.moffset\n",
    "        self.fd = fd\n",
    "        self.fu = fu\n",
    "\n",
    "        # Generate the list of in, out channels for the encoder\n",
    "        self.enc_filters = [self.n_channels]\n",
    "        self.enc_filters += [self.fsize * i + self.moffset\n",
    "                             for i in range(1, self.depth + 1)]\n",
    "        self.n_encoder = zip(self.enc_filters, self.enc_filters[1:])\n",
    "\n",
    "        # Bottleneck block sizes\n",
    "        mid_in = self.fsize * self.depth + self.moffset\n",
    "        mid_out = self.fsize * (self.depth + 1) + self.moffset\n",
    "\n",
    "        # Generate the list of in, out channels for the decoder\n",
    "        self.out_dec = reserve_pop(self.enc_filters)\n",
    "        self.in_dec = [mid_out + self.enc_filters[-1]]\n",
    "        self.in_dec += [self.out_dec[i] + self.out_dec[i + 1]\n",
    "                        for i in range(self.depth - 1)]\n",
    "        self.n_decoder = zip(self.in_dec, self.out_dec)\n",
    "\n",
    "        # Architecture and parameters\n",
    "        self.encoder = nn.ModuleList()\n",
    "        self.decoder = nn.ModuleList()\n",
    "\n",
    "        # Build the encoder part of the U-net architecture\n",
    "        for i, (in_ch, out_ch) in enumerate(self.n_encoder):\n",
    "            self.encoder.append(DownSamplingBlock(\n",
    "                in_ch=in_ch,\n",
    "                out_ch=out_ch,\n",
    "                kernel_size=self.fd,\n",
    "                padding=self.fd // 2,\n",
    "                activation=nn.LeakyReLU(0.1))\n",
    "            )\n",
    "\n",
    "        # Bottleneck block for the U-net\n",
    "        self.mid_block = VSConvBlock(\n",
    "            in_ch=mid_in,\n",
    "            out_ch=mid_out,\n",
    "            kernel_size=self.fd,\n",
    "            padding=self.fd // 2,\n",
    "            activation=nn.LeakyReLU(0.1))\n",
    "\n",
    "        # Build the decoder part of the U-net architecture\n",
    "        for in_ch, out_ch in self.n_decoder:\n",
    "            self.decoder.append(UpSamplingBlock(\n",
    "                in_ch=in_ch,\n",
    "                out_ch=out_ch,\n",
    "                kernel_size=self.fu,\n",
    "                padding=self.fu // 2,\n",
    "                activation=nn.LeakyReLU(0.1),\n",
    "                mode=\"deconv\")\n",
    "            )\n",
    "\n",
    "        # Output block\n",
    "        out_ch = self.out_dec[-1] + 1\n",
    "        self.out_block = OutBlock(\n",
    "            in_ch=out_ch,\n",
    "            out_ch=self.n_classes,\n",
    "            activation=nn.Tanh()\n",
    "        )\n",
    "\n",
    "    def forward(self, x):\n",
    "        \"\"\"\"\"\"\n",
    "        enc = []\n",
    "        net_in = copy.copy(x)\n",
    "\n",
    "        for i in range(self.depth):\n",
    "            x, xi = self.encoder[i](x)\n",
    "            enc.append(xi)\n",
    "\n",
    "        x = self.mid_block(x)\n",
    "\n",
    "        for i in range(self.depth):\n",
    "            x = self.decoder[i](x, enc.pop())\n",
    "\n",
    "        x = self.out_block(x, net_in)\n",
    "\n",
    "        return x"
   ]
  },
  {
   "cell_type": "markdown",
   "metadata": {},
   "source": [
    "## Trainer"
   ]
  },
  {
   "cell_type": "code",
   "execution_count": 7,
   "metadata": {},
   "outputs": [],
   "source": [
    "model = SEWUNet(config)"
   ]
  },
  {
   "cell_type": "code",
   "execution_count": 8,
   "metadata": {},
   "outputs": [],
   "source": [
    "# Training parameters\n",
    "device = torch.device('cuda' if torch.cuda.is_available() else 'cpu')\n",
    "history = {'loss': [], 'SNR': [], 'val_loss': [], 'val_SNR': []}"
   ]
  },
  {
   "cell_type": "code",
   "execution_count": 9,
   "metadata": {},
   "outputs": [],
   "source": [
    "def CustomMetric():\n",
    "    \"\"\"Calculate the SNR of X and Y\"\"\"\n",
    "    def SNR(X, Y):\n",
    "        n = X.shape[2]\n",
    "        return torch.mean(10 * torch.log10(\n",
    "            (torch.norm(Y, dim=2)**2 / n) /\n",
    "            (torch.norm(X - Y, dim=2)**2 / n)\n",
    "        ))\n",
    "    return SNR"
   ]
  },
  {
   "cell_type": "code",
   "execution_count": 10,
   "metadata": {},
   "outputs": [
    {
     "name": "stdout",
     "output_type": "stream",
     "text": [
      "SNR (Validation): 10.054699897766113\n"
     ]
    }
   ],
   "source": [
    "# Build optimizer\n",
    "optimizer = optim.Adam(\n",
    "    model.parameters(),\n",
    "    lr=1e-4,\n",
    "    weight_decay=1e-6,\n",
    "    betas=(0.9, 0.999))\n",
    "\n",
    "# lr_scheduler = torch.optim.lr_scheduler(optimizer)\n",
    "lr_scheduler = optim.lr_scheduler.ReduceLROnPlateau(optimizer, 'min', patience=5)\n",
    "\n",
    "# Loss and metric\n",
    "m_loss = nn.L1Loss()\n",
    "m_snr = CustomMetric()\n",
    "\n",
    "# Print validation metric before trainer\n",
    "print(\"SNR (Validation): {}\".format(m_snr(lsg_val.X, lsg_val.y).item()))"
   ]
  },
  {
   "cell_type": "code",
   "execution_count": 11,
   "metadata": {},
   "outputs": [],
   "source": [
    "# Copy model to device\n",
    "model = model.to(device)"
   ]
  },
  {
   "cell_type": "code",
   "execution_count": 12,
   "metadata": {},
   "outputs": [
    {
     "data": {
      "text/plain": [
       "1259572"
      ]
     },
     "execution_count": 12,
     "metadata": {},
     "output_type": "execute_result"
    }
   ],
   "source": [
    "# Calculate the number of trainable parameters in the model\n",
    "model_parameters = filter(lambda p: p.requires_grad, model.parameters())\n",
    "sum([np.prod(p.size()) for p in model_parameters])"
   ]
  },
  {
   "cell_type": "code",
   "execution_count": 13,
   "metadata": {},
   "outputs": [],
   "source": [
    "# Function to display trainning metrics\n",
    "def _display_metrics(epoch, it, steps, loss, metric):\n",
    "    print(\"Epoch [{:02d}/{:02d}]\".format(\n",
    "        epoch + 1, config.epochs), end=\", \")\n",
    "\n",
    "    print(\"Step [{:03d}/{:03d}]\".format(\n",
    "        it + 1, steps), end=\", \")\n",
    "\n",
    "    print(\"Loss: {}, SNR: {}\".format(\n",
    "        loss, metric))"
   ]
  },
  {
   "cell_type": "code",
   "execution_count": 14,
   "metadata": {
    "scrolled": true
   },
   "outputs": [
    {
     "name": "stdout",
     "output_type": "stream",
     "text": [
      "Epoch [01/25], Step [100/601], Loss: 0.04481250047683716, SNR: -2.5450737476348877\n",
      "Epoch [01/25], Step [200/601], Loss: 0.02877095341682434, SNR: 2.213153600692749\n",
      "Epoch [01/25], Step [300/601], Loss: 0.023987770080566406, SNR: 4.370020866394043\n",
      "Epoch [01/25], Step [400/601], Loss: 0.020671632140874863, SNR: 5.537546157836914\n",
      "Epoch [01/25], Step [500/601], Loss: 0.019160522148013115, SNR: 5.276719570159912\n",
      "Epoch [01/25], Step [600/601], Loss: 0.016265468671917915, SNR: 6.5602827072143555\n",
      ".:. Training metrics = Loss: 0.030240787454178093, SNR: 2.6722534397204463\n",
      ".:. Validation metrics = Loss: 0.01624396652883794, SNR: 6.741339147421961\n",
      "Epoch [02/25], Step [100/601], Loss: 0.016142312437295914, SNR: 6.637270927429199\n",
      "Epoch [02/25], Step [200/601], Loss: 0.019648820161819458, SNR: 7.307307720184326\n",
      "Epoch [02/25], Step [300/601], Loss: 0.015165120363235474, SNR: 8.359166145324707\n",
      "Epoch [02/25], Step [400/601], Loss: 0.015007528476417065, SNR: 8.814380645751953\n",
      "Epoch [02/25], Step [500/601], Loss: 0.015127587132155895, SNR: 8.623452186584473\n",
      "Epoch [02/25], Step [600/601], Loss: 0.012417285703122616, SNR: 8.413256645202637\n",
      ".:. Training metrics = Loss: 0.015815689757060963, SNR: 7.684370797840921\n",
      ".:. Validation metrics = Loss: 0.013036338899149619, SNR: 9.043082827961783\n",
      "Epoch [03/25], Step [100/601], Loss: 0.01280574593693018, SNR: 8.731681823730469\n",
      "Epoch [03/25], Step [200/601], Loss: 0.014104546047747135, SNR: 8.629554748535156\n",
      "Epoch [03/25], Step [300/601], Loss: 0.014066538773477077, SNR: 9.47240161895752\n",
      "Epoch [03/25], Step [400/601], Loss: 0.013680082745850086, SNR: 9.30599308013916\n",
      "Epoch [03/25], Step [500/601], Loss: 0.013101925142109394, SNR: 9.916714668273926\n",
      "Epoch [03/25], Step [600/601], Loss: 0.01337336003780365, SNR: 9.834115982055664\n",
      ".:. Training metrics = Loss: 0.013700065882247753, SNR: 9.273132707156735\n",
      ".:. Validation metrics = Loss: 0.01211130925565288, SNR: 10.06104853644443\n",
      "Epoch [04/25], Step [100/601], Loss: 0.01588129810988903, SNR: 9.35760498046875\n",
      "Epoch [04/25], Step [200/601], Loss: 0.015670020133256912, SNR: 10.198144912719727\n",
      "Epoch [04/25], Step [300/601], Loss: 0.012508670799434185, SNR: 10.090065002441406\n",
      "Epoch [04/25], Step [400/601], Loss: 0.011755901388823986, SNR: 10.332199096679688\n",
      "Epoch [04/25], Step [500/601], Loss: 0.013903227634727955, SNR: 10.395852088928223\n",
      "Epoch [04/25], Step [600/601], Loss: 0.0111934132874012, SNR: 10.007020950317383\n",
      ".:. Training metrics = Loss: 0.012703770249818499, SNR: 10.11413648723006\n",
      ".:. Validation metrics = Loss: 0.011042295930982503, SNR: 10.91930985166988\n",
      "Epoch [05/25], Step [100/601], Loss: 0.0134660629555583, SNR: 10.067106246948242\n",
      "Epoch [05/25], Step [200/601], Loss: 0.013400581665337086, SNR: 10.335869789123535\n",
      "Epoch [05/25], Step [300/601], Loss: 0.013598963618278503, SNR: 10.237800598144531\n",
      "Epoch [05/25], Step [400/601], Loss: 0.012749496847391129, SNR: 10.88912582397461\n",
      "Epoch [05/25], Step [500/601], Loss: 0.012935754843056202, SNR: 11.285983085632324\n",
      "Epoch [05/25], Step [600/601], Loss: 0.0109562948346138, SNR: 10.83060073852539\n",
      ".:. Training metrics = Loss: 0.011836782790132198, SNR: 10.711626552560755\n",
      ".:. Validation metrics = Loss: 0.010490444282902845, SNR: 11.343800361116738\n",
      "Epoch [06/25], Step [100/601], Loss: 0.01143817137926817, SNR: 11.652463912963867\n",
      "Epoch [06/25], Step [200/601], Loss: 0.011615123599767685, SNR: 11.247824668884277\n",
      "Epoch [06/25], Step [300/601], Loss: 0.010051239281892776, SNR: 11.322806358337402\n",
      "Epoch [06/25], Step [400/601], Loss: 0.011590484529733658, SNR: 11.560973167419434\n",
      "Epoch [06/25], Step [500/601], Loss: 0.011102121323347092, SNR: 11.067516326904297\n",
      "Epoch [06/25], Step [600/601], Loss: 0.009198389947414398, SNR: 12.18794059753418\n",
      ".:. Training metrics = Loss: 0.011266599984080588, SNR: 11.16185879407236\n",
      ".:. Validation metrics = Loss: 0.009900570299286229, SNR: 11.760449548966983\n",
      "Epoch [07/25], Step [100/601], Loss: 0.012598986737430096, SNR: 10.920352935791016\n",
      "Epoch [07/25], Step [200/601], Loss: 0.011465117335319519, SNR: 10.92707633972168\n",
      "Epoch [07/25], Step [300/601], Loss: 0.009988141246140003, SNR: 11.412124633789062\n",
      "Epoch [07/25], Step [400/601], Loss: 0.010020745918154716, SNR: 11.591708183288574\n",
      "Epoch [07/25], Step [500/601], Loss: 0.011238769628107548, SNR: 11.642973899841309\n",
      "Epoch [07/25], Step [600/601], Loss: 0.00914164911955595, SNR: 12.081683158874512\n",
      ".:. Training metrics = Loss: 0.010817975339164976, SNR: 11.489027178276345\n",
      ".:. Validation metrics = Loss: 0.009659201757037996, SNR: 12.05498650678722\n",
      "Epoch [08/25], Step [100/601], Loss: 0.0112140579149127, SNR: 11.196764945983887\n",
      "Epoch [08/25], Step [200/601], Loss: 0.010344448499381542, SNR: 11.892902374267578\n",
      "Epoch [08/25], Step [300/601], Loss: 0.009533786214888096, SNR: 12.19150447845459\n",
      "Epoch [08/25], Step [400/601], Loss: 0.011552891694009304, SNR: 11.286662101745605\n",
      "Epoch [08/25], Step [500/601], Loss: 0.010469569824635983, SNR: 11.616106033325195\n",
      "Epoch [08/25], Step [600/601], Loss: 0.008935264311730862, SNR: 11.791528701782227\n",
      ".:. Training metrics = Loss: 0.010522280830952331, SNR: 11.718840084375532\n",
      ".:. Validation metrics = Loss: 0.009543734573072163, SNR: 12.141528969244867\n",
      "Epoch [09/25], Step [100/601], Loss: 0.00978159625083208, SNR: 11.53856086730957\n",
      "Epoch [09/25], Step [200/601], Loss: 0.009508495219051838, SNR: 12.285379409790039\n",
      "Epoch [09/25], Step [300/601], Loss: 0.013394966721534729, SNR: 11.361621856689453\n",
      "Epoch [09/25], Step [400/601], Loss: 0.011111398227512836, SNR: 11.240546226501465\n",
      "Epoch [09/25], Step [500/601], Loss: 0.009093997068703175, SNR: 12.420844078063965\n",
      "Epoch [09/25], Step [600/601], Loss: 0.009758062660694122, SNR: 11.926097869873047\n",
      ".:. Training metrics = Loss: 0.01028077129559826, SNR: 11.912607339223888\n",
      ".:. Validation metrics = Loss: 0.009317127235491923, SNR: 12.258918671909385\n",
      "Epoch [10/25], Step [100/601], Loss: 0.010859373025596142, SNR: 12.014244079589844\n",
      "Epoch [10/25], Step [200/601], Loss: 0.010949861258268356, SNR: 12.035662651062012\n",
      "Epoch [10/25], Step [300/601], Loss: 0.009661969728767872, SNR: 12.113283157348633\n",
      "Epoch [10/25], Step [400/601], Loss: 0.009864332154393196, SNR: 12.239893913269043\n",
      "Epoch [10/25], Step [500/601], Loss: 0.0105733722448349, SNR: 12.03061580657959\n",
      "Epoch [10/25], Step [600/601], Loss: 0.01065094769001007, SNR: 12.455066680908203\n",
      ".:. Training metrics = Loss: 0.01000495886796938, SNR: 12.141185480139821\n",
      ".:. Validation metrics = Loss: 0.009085752220695784, SNR: 12.514771939459001\n",
      "Epoch [11/25], Step [100/601], Loss: 0.00992270652204752, SNR: 12.463080406188965\n",
      "Epoch [11/25], Step [200/601], Loss: 0.009412776678800583, SNR: 12.134393692016602\n",
      "Epoch [11/25], Step [300/601], Loss: 0.011296224780380726, SNR: 12.026636123657227\n",
      "Epoch [11/25], Step [400/601], Loss: 0.009884946048259735, SNR: 12.58245849609375\n",
      "Epoch [11/25], Step [500/601], Loss: 0.010792728513479233, SNR: 11.647186279296875\n",
      "Epoch [11/25], Step [600/601], Loss: 0.010779653675854206, SNR: 12.460017204284668\n",
      ".:. Training metrics = Loss: 0.009784960206863499, SNR: 12.333490319124534\n",
      ".:. Validation metrics = Loss: 0.008865771256288707, SNR: 12.786313559384107\n",
      "Epoch [12/25], Step [100/601], Loss: 0.009232101030647755, SNR: 12.102615356445312\n",
      "Epoch [12/25], Step [200/601], Loss: 0.011785323731601238, SNR: 12.330744743347168\n",
      "Epoch [12/25], Step [300/601], Loss: 0.00992338266223669, SNR: 12.23853588104248\n",
      "Epoch [12/25], Step [400/601], Loss: 0.010051841847598553, SNR: 12.015249252319336\n",
      "Epoch [12/25], Step [500/601], Loss: 0.007990245707333088, SNR: 12.470367431640625\n",
      "Epoch [12/25], Step [600/601], Loss: 0.009921918623149395, SNR: 13.21159553527832\n",
      ".:. Training metrics = Loss: 0.009627759710270483, SNR: 12.477615529759474\n",
      ".:. Validation metrics = Loss: 0.008733553269765217, SNR: 12.82198523768859\n",
      "Epoch [13/25], Step [100/601], Loss: 0.009347972460091114, SNR: 12.745627403259277\n",
      "Epoch [13/25], Step [200/601], Loss: 0.008728493936359882, SNR: 12.629217147827148\n",
      "Epoch [13/25], Step [300/601], Loss: 0.008965760469436646, SNR: 12.776323318481445\n",
      "Epoch [13/25], Step [400/601], Loss: 0.010898341424763203, SNR: 12.816935539245605\n",
      "Epoch [13/25], Step [500/601], Loss: 0.011652096174657345, SNR: 12.609155654907227\n",
      "Epoch [13/25], Step [600/601], Loss: 0.010259565897285938, SNR: 11.746759414672852\n"
     ]
    },
    {
     "name": "stdout",
     "output_type": "stream",
     "text": [
      ".:. Training metrics = Loss: 0.009399542909277926, SNR: 12.672569466073716\n",
      ".:. Validation metrics = Loss: 0.008638795317687376, SNR: 12.990625762586333\n",
      "Epoch [14/25], Step [100/601], Loss: 0.008114869706332684, SNR: 12.469038963317871\n",
      "Epoch [14/25], Step [200/601], Loss: 0.008679146878421307, SNR: 12.911623001098633\n",
      "Epoch [14/25], Step [300/601], Loss: 0.009862237609922886, SNR: 13.132974624633789\n",
      "Epoch [14/25], Step [400/601], Loss: 0.009603460319340229, SNR: 12.313213348388672\n",
      "Epoch [14/25], Step [500/601], Loss: 0.009982134215533733, SNR: 12.851435661315918\n",
      "Epoch [14/25], Step [600/601], Loss: 0.008565930649638176, SNR: 12.81100082397461\n",
      ".:. Training metrics = Loss: 0.009263302745082668, SNR: 12.795548814920187\n",
      ".:. Validation metrics = Loss: 0.008570076439714887, SNR: 13.165480740074758\n",
      "Epoch [15/25], Step [100/601], Loss: 0.00883228238672018, SNR: 13.8794584274292\n",
      "Epoch [15/25], Step [200/601], Loss: 0.00840803049504757, SNR: 13.243895530700684\n",
      "Epoch [15/25], Step [300/601], Loss: 0.012056444771587849, SNR: 12.324834823608398\n",
      "Epoch [15/25], Step [400/601], Loss: 0.00917381327599287, SNR: 12.572759628295898\n",
      "Epoch [15/25], Step [500/601], Loss: 0.009776272810995579, SNR: 12.406512260437012\n",
      "Epoch [15/25], Step [600/601], Loss: 0.008564635179936886, SNR: 12.696479797363281\n",
      ".:. Training metrics = Loss: 0.009147120558398175, SNR: 12.910940848465307\n",
      ".:. Validation metrics = Loss: 0.008362290823102565, SNR: 13.252064788886965\n",
      "Epoch [16/25], Step [100/601], Loss: 0.007510125637054443, SNR: 13.75053596496582\n",
      "Epoch [16/25], Step [200/601], Loss: 0.009072137996554375, SNR: 13.371378898620605\n",
      "Epoch [16/25], Step [300/601], Loss: 0.008785809390246868, SNR: 13.464448928833008\n",
      "Epoch [16/25], Step [400/601], Loss: 0.009467994794249535, SNR: 13.511232376098633\n",
      "Epoch [16/25], Step [500/601], Loss: 0.00838659517467022, SNR: 13.263795852661133\n",
      "Epoch [16/25], Step [600/601], Loss: 0.010121648199856281, SNR: 12.577554702758789\n",
      ".:. Training metrics = Loss: 0.009026566532443487, SNR: 13.0222258109971\n",
      ".:. Validation metrics = Loss: 0.008253126444466978, SNR: 13.430553304616247\n",
      "Epoch [17/25], Step [100/601], Loss: 0.007992655970156193, SNR: 13.151069641113281\n",
      "Epoch [17/25], Step [200/601], Loss: 0.008950295858085155, SNR: 13.119705200195312\n",
      "Epoch [17/25], Step [300/601], Loss: 0.007660025265067816, SNR: 13.193086624145508\n",
      "Epoch [17/25], Step [400/601], Loss: 0.008404720574617386, SNR: 12.97950553894043\n",
      "Epoch [17/25], Step [500/601], Loss: 0.007729557808488607, SNR: 14.270856857299805\n",
      "Epoch [17/25], Step [600/601], Loss: 0.008616937324404716, SNR: 12.611360549926758\n",
      ".:. Training metrics = Loss: 0.008929551954086744, SNR: 13.103914720191428\n",
      ".:. Validation metrics = Loss: 0.008427720837377818, SNR: 13.139546023068432\n",
      "Epoch [18/25], Step [100/601], Loss: 0.009509215131402016, SNR: 12.858652114868164\n",
      "Epoch [18/25], Step [200/601], Loss: 0.007915531285107136, SNR: 13.79884147644043\n",
      "Epoch [18/25], Step [300/601], Loss: 0.008887672796845436, SNR: 13.153071403503418\n",
      "Epoch [18/25], Step [400/601], Loss: 0.009811272844672203, SNR: 13.080074310302734\n",
      "Epoch [18/25], Step [500/601], Loss: 0.009594984352588654, SNR: 13.171225547790527\n",
      "Epoch [18/25], Step [600/601], Loss: 0.008495182730257511, SNR: 13.868448257446289\n",
      ".:. Training metrics = Loss: 0.008842691525016289, SNR: 13.18638860473744\n",
      ".:. Validation metrics = Loss: 0.008164615051845998, SNR: 13.439359390240629\n",
      "Epoch [19/25], Step [100/601], Loss: 0.008069590665400028, SNR: 13.400160789489746\n",
      "Epoch [19/25], Step [200/601], Loss: 0.007975975051522255, SNR: 13.666186332702637\n",
      "Epoch [19/25], Step [300/601], Loss: 0.009365818463265896, SNR: 13.022626876831055\n",
      "Epoch [19/25], Step [400/601], Loss: 0.007499292027205229, SNR: 14.221331596374512\n",
      "Epoch [19/25], Step [500/601], Loss: 0.008884848095476627, SNR: 13.372732162475586\n",
      "Epoch [19/25], Step [600/601], Loss: 0.00865244958549738, SNR: 14.122671127319336\n",
      ".:. Training metrics = Loss: 0.008741798300482469, SNR: 13.275837746666507\n",
      ".:. Validation metrics = Loss: 0.008020561042147413, SNR: 13.661292399971677\n",
      "Epoch [20/25], Step [100/601], Loss: 0.0083776181563735, SNR: 13.38443374633789\n",
      "Epoch [20/25], Step [200/601], Loss: 0.009623541496694088, SNR: 12.947664260864258\n",
      "Epoch [20/25], Step [300/601], Loss: 0.008031628094613552, SNR: 13.94992733001709\n",
      "Epoch [20/25], Step [400/601], Loss: 0.008778094314038754, SNR: 13.461867332458496\n",
      "Epoch [20/25], Step [500/601], Loss: 0.008435132913291454, SNR: 13.921133995056152\n",
      "Epoch [20/25], Step [600/601], Loss: 0.00753132114186883, SNR: 13.607341766357422\n",
      ".:. Training metrics = Loss: 0.008676858808258954, SNR: 13.338485615590503\n",
      ".:. Validation metrics = Loss: 0.008009837383413734, SNR: 13.573798353411602\n",
      "Epoch [21/25], Step [100/601], Loss: 0.007790746632963419, SNR: 14.386934280395508\n",
      "Epoch [21/25], Step [200/601], Loss: 0.008917671628296375, SNR: 12.92094612121582\n",
      "Epoch [21/25], Step [300/601], Loss: 0.007546361535787582, SNR: 13.850059509277344\n",
      "Epoch [21/25], Step [400/601], Loss: 0.00741578871384263, SNR: 13.459848403930664\n",
      "Epoch [21/25], Step [500/601], Loss: 0.00927596166729927, SNR: 13.430472373962402\n",
      "Epoch [21/25], Step [600/601], Loss: 0.010749510489404202, SNR: 12.643148422241211\n",
      ".:. Training metrics = Loss: 0.008579186714905073, SNR: 13.417260059665024\n",
      ".:. Validation metrics = Loss: 0.008170119368763582, SNR: 13.424282683609844\n",
      "Epoch [22/25], Step [100/601], Loss: 0.0077226422727108, SNR: 14.015336990356445\n",
      "Epoch [22/25], Step [200/601], Loss: 0.008765104226768017, SNR: 13.177797317504883\n",
      "Epoch [22/25], Step [300/601], Loss: 0.007427559699863195, SNR: 14.493091583251953\n",
      "Epoch [22/25], Step [400/601], Loss: 0.008759990334510803, SNR: 13.459120750427246\n",
      "Epoch [22/25], Step [500/601], Loss: 0.008112497627735138, SNR: 14.366205215454102\n",
      "Epoch [22/25], Step [600/601], Loss: 0.008869287557899952, SNR: 13.222182273864746\n",
      ".:. Training metrics = Loss: 0.008534167423161517, SNR: 13.461778358305503\n",
      ".:. Validation metrics = Loss: 0.008125824666577368, SNR: 13.472601636570303\n",
      "Epoch [23/25], Step [100/601], Loss: 0.007732817437499762, SNR: 13.366968154907227\n",
      "Epoch [23/25], Step [200/601], Loss: 0.008321183733642101, SNR: 14.017436027526855\n",
      "Epoch [23/25], Step [300/601], Loss: 0.009404783137142658, SNR: 13.66851806640625\n",
      "Epoch [23/25], Step [400/601], Loss: 0.007468823809176683, SNR: 13.706916809082031\n",
      "Epoch [23/25], Step [500/601], Loss: 0.008801886811852455, SNR: 13.590410232543945\n",
      "Epoch [23/25], Step [600/601], Loss: 0.008063344284892082, SNR: 13.570013999938965\n",
      ".:. Training metrics = Loss: 0.008445718999389002, SNR: 13.53710302884455\n",
      ".:. Validation metrics = Loss: 0.007986404875889953, SNR: 13.714669829416263\n",
      "Epoch [24/25], Step [100/601], Loss: 0.008237003348767757, SNR: 13.30378246307373\n",
      "Epoch [24/25], Step [200/601], Loss: 0.007158180698752403, SNR: 13.961939811706543\n",
      "Epoch [24/25], Step [300/601], Loss: 0.00838408712297678, SNR: 14.296960830688477\n",
      "Epoch [24/25], Step [400/601], Loss: 0.008340642787516117, SNR: 13.606182098388672\n",
      "Epoch [24/25], Step [500/601], Loss: 0.00839901901781559, SNR: 13.180536270141602\n",
      "Epoch [24/25], Step [600/601], Loss: 0.009719700552523136, SNR: 13.0521240234375\n",
      ".:. Training metrics = Loss: 0.008387839571893228, SNR: 13.590625826729381\n",
      ".:. Validation metrics = Loss: 0.007752045919082682, SNR: 13.851321189878353\n",
      "Epoch [25/25], Step [100/601], Loss: 0.008729292079806328, SNR: 13.738509178161621\n",
      "Epoch [25/25], Step [200/601], Loss: 0.010321478359401226, SNR: 13.93702220916748\n",
      "Epoch [25/25], Step [300/601], Loss: 0.009107652120292187, SNR: 13.553080558776855\n",
      "Epoch [25/25], Step [400/601], Loss: 0.008262651972472668, SNR: 13.47547721862793\n",
      "Epoch [25/25], Step [500/601], Loss: 0.008227919228374958, SNR: 13.408529281616211\n",
      "Epoch [25/25], Step [600/601], Loss: 0.008425313979387283, SNR: 13.71878433227539\n",
      ".:. Training metrics = Loss: 0.008308419524502595, SNR: 13.659633928936056\n",
      ".:. Validation metrics = Loss: 0.007808630715309786, SNR: 13.744491986010132\n"
     ]
    }
   ],
   "source": [
    "# Train the model over epochs\n",
    "steps = len(ls_generator)\n",
    "\n",
    "for epoch in range(config.epochs):\n",
    "    # training and val metrics for all data\n",
    "    loss, metric = 0.0, 0.0\n",
    "    val_loss, val_metric = 0.0, 0.0\n",
    "\n",
    "    # ======================== Training ============================= #\n",
    "    for i, (local_batch, local_labels) in enumerate(ls_generator):\n",
    "        # Transfer to Device\n",
    "        local_batch = local_batch.to(device)\n",
    "        local_labels = local_labels.to(device)\n",
    "\n",
    "        # Set gradient\n",
    "        optimizer.zero_grad()\n",
    "\n",
    "        # Forward pass, backward pass, optimize\n",
    "        outputs = model(local_batch)\n",
    "        loss_batch = m_loss(outputs, local_labels)\n",
    "        batch_metric = m_snr(outputs, local_labels)\n",
    "        loss_batch.backward()\n",
    "        optimizer.step()\n",
    "\n",
    "        # Compute metrics to all batch\n",
    "        loss += loss_batch.item() * len(local_batch)\n",
    "        metric += batch_metric.item() * len(local_batch)\n",
    "\n",
    "        # Print the loss every \"verbose\" batches\n",
    "        if (i + 1) % config.verbose == 0:\n",
    "            _display_metrics(epoch, i, steps,\n",
    "                loss_batch.item(), batch_metric.item())\n",
    "\n",
    "    # Compute the statistics of the last epoch and save to history\n",
    "    history['loss'].append(loss / len(lsg))\n",
    "    history['SNR'].append(metric / len(lsg))\n",
    "\n",
    "    # Checkpoint the model\n",
    "    torch.save(model.state_dict(), config.checkpoint_path)\n",
    "    \n",
    "    # Print Validation statistics\n",
    "    print(\".:. Training metrics =\", end=\" \")\n",
    "    print(\"Loss: {}, SNR: {}\".format(loss / len(lsg), metric / len(lsg)))\n",
    "    \n",
    "    # ======================= Validation ============================ #\n",
    "    with torch.no_grad():\n",
    "        for local_batch, local_labels in ls_val_generator:\n",
    "            # Transfer to device\n",
    "            local_batch = local_batch.to(device)\n",
    "            local_labels = local_labels.to(device)\n",
    "\n",
    "            # Predict, get loss and metric\n",
    "            outputs = model(local_batch)\n",
    "            val_loss += m_loss(outputs, local_labels).item() \\\n",
    "                * len(local_batch)\n",
    "\n",
    "            val_metric += m_snr(outputs, local_labels).item() \\\n",
    "                * len(local_batch)\n",
    "\n",
    "        val_loss /= len(lsg_val)\n",
    "        val_metric /= len(lsg_val)\n",
    "                \n",
    "    # Print Validation statistics\n",
    "    print(\".:. Validation metrics =\", end=\" \")\n",
    "    print(\"Loss: {}, SNR: {}\".format(val_loss, val_metric))\n",
    "\n",
    "    # Compute the metrics and loss of last batch and save to history\n",
    "    history['val_loss'].append(val_loss)\n",
    "    history['val_SNR'].append(val_metric)\n",
    "    lr_scheduler.step(val_loss)"
   ]
  },
  {
   "cell_type": "code",
   "execution_count": 15,
   "metadata": {},
   "outputs": [],
   "source": [
    "# Save the last model\n",
    "torch.save(model.state_dict(), config.model_path)"
   ]
  },
  {
   "cell_type": "code",
   "execution_count": 16,
   "metadata": {},
   "outputs": [
    {
     "data": {
      "image/png": "[encoded data removed]",
      "text/plain": [
       "<Figure size 648x360 with 1 Axes>"
      ]
     },
     "metadata": {
      "needs_background": "light"
     },
     "output_type": "display_data"
    }
   ],
   "source": [
    "# Plot network history\n",
    "plt.figure(figsize=(9,5))\n",
    "plt.plot(history['loss'], label='train')\n",
    "plt.plot(history['val_loss'], label='val')\n",
    "plt.ylabel('Loss')\n",
    "plt.xlabel('Epoch')\n",
    "plt.title('Traning history')\n",
    "plt.legend()\n",
    "plt.show()"
   ]
  },
  {
   "cell_type": "code",
   "execution_count": 17,
   "metadata": {},
   "outputs": [
    {
     "data": {
      "image/png": "[encoded data removed]",
      "text/plain": [
       "<Figure size 648x360 with 1 Axes>"
      ]
     },
     "metadata": {
      "needs_background": "light"
     },
     "output_type": "display_data"
    }
   ],
   "source": [
    "# Plot network history\n",
    "plt.figure(figsize=(9,5))\n",
    "plt.plot(history['SNR'], label='train')\n",
    "plt.plot(history['val_SNR'], label='val')\n",
    "plt.ylabel('SNR')\n",
    "plt.xlabel('Epoch')\n",
    "plt.title('Traning history')\n",
    "plt.legend()\n",
    "plt.show()"
   ]
  },
  {
   "cell_type": "code",
   "execution_count": 18,
   "metadata": {},
   "outputs": [],
   "source": [
    "# Save history to a JSON file\n",
    "with open(config.history_path, 'w') as fp:\n",
    "    json.dump(history, fp)"
   ]
  },
  {
   "cell_type": "markdown",
   "metadata": {},
   "source": [
    "## Test"
   ]
  },
  {
   "cell_type": "code",
   "execution_count": 19,
   "metadata": {},
   "outputs": [],
   "source": [
    "X_test = torch.load(\"../data/processed/noisy/test/x_test.pt\")\n",
    "y_test = torch.load(\"../data/processed/noisy/test/y_test.pt\")"
   ]
  },
  {
   "cell_type": "code",
   "execution_count": 20,
   "metadata": {},
   "outputs": [],
   "source": [
    "lsg_test = LibriSpeechGenerator(config, X_test, y_test)\n",
    "ls_test_generator = data.DataLoader(lsg_test, **_params)"
   ]
  },
  {
   "cell_type": "code",
   "execution_count": 21,
   "metadata": {},
   "outputs": [
    {
     "data": {
      "text/plain": [
       "torch.Size([3874, 1, 65536])"
      ]
     },
     "execution_count": 21,
     "metadata": {},
     "output_type": "execute_result"
    }
   ],
   "source": [
    "X_test.shape"
   ]
  },
  {
   "cell_type": "code",
   "execution_count": 22,
   "metadata": {},
   "outputs": [
    {
     "name": "stdout",
     "output_type": "stream",
     "text": [
      "SNR (Test): 10.054566383361816\n"
     ]
    }
   ],
   "source": [
    "# Print validation metric before trainer\n",
    "print(\"SNR (Test): {}\".format(m_snr(lsg_test.X, lsg_test.y).item()))"
   ]
  },
  {
   "cell_type": "code",
   "execution_count": 23,
   "metadata": {},
   "outputs": [],
   "source": [
    "test_loss, test_metric = 0.0, 0.0\n",
    "with torch.no_grad():\n",
    "    for local_batch, local_labels in ls_test_generator:\n",
    "        # Transfer to device\n",
    "        local_batch = local_batch.to(device)\n",
    "        local_labels = local_labels.to(device)\n",
    "\n",
    "        # Predict, get loss and metric\n",
    "        outputs = model(local_batch)\n",
    "        test_loss += m_loss(outputs, local_labels).item() \\\n",
    "            * len(local_batch)\n",
    "\n",
    "        test_metric += m_snr(outputs, local_labels).item() \\\n",
    "            * len(local_batch)\n",
    "        \n",
    "        writer(local_batch, local_labels,\n",
    "               outputs, config.sr, config.writer_path)\n",
    "\n",
    "    test_loss /= len(lsg_test)\n",
    "    test_metric /= len(lsg_test)"
   ]
  },
  {
   "cell_type": "code",
   "execution_count": 24,
   "metadata": {},
   "outputs": [],
   "source": [
    "import os\n",
    "\n",
    "test_history = {\n",
    "    'SNR_ini': m_snr(lsg_test.X, lsg_test.y).item(),\n",
    "    'SNR': val_metric, \n",
    "    'loss': val_loss\n",
    "}\n",
    "\n",
    "with open(os.path.join(config.writer_path, 'test_history.json') , 'w') as fp:\n",
    "    json.dump(test_history, fp)"
   ]
  }
 ],
 "metadata": {
  "kernelspec": {
   "display_name": "Python 3",
   "language": "python",
   "name": "python3"
  },
  "language_info": {
   "codemirror_mode": {
    "name": "ipython",
    "version": 3
   },
   "file_extension": ".py",
   "mimetype": "text/x-python",
   "name": "python",
   "nbconvert_exporter": "python",
   "pygments_lexer": "ipython3",
   "version": "3.7.0"
  }
 },
 "nbformat": 4,
 "nbformat_minor": 2
}
